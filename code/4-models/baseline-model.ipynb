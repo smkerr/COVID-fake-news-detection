{
 "cells": [
  {
   "cell_type": "markdown",
   "metadata": {
    "id": "X96VzyHuGU4-"
   },
   "source": [
    "# Setup"
   ]
  },
  {
   "cell_type": "code",
   "execution_count": 1,
   "metadata": {
    "colab": {
     "base_uri": "https://localhost:8080/"
    },
    "executionInfo": {
     "elapsed": 226,
     "status": "ok",
     "timestamp": 1650838580731,
     "user": {
      "displayName": "Marco Schildt",
      "userId": "08365269881482043900"
     },
     "user_tz": -120
    },
    "id": "LDUxonlU7VeH",
    "outputId": "4d18de94-5f3b-48cf-cd79-dbffab1d1486"
   },
   "outputs": [
    {
     "name": "stderr",
     "output_type": "stream",
     "text": [
      "[nltk_data] Downloading package stopwords to /Users/steve/nltk_data...\n",
      "[nltk_data]   Package stopwords is already up-to-date!\n",
      "[nltk_data] Downloading package wordnet to /Users/steve/nltk_data...\n",
      "[nltk_data]   Package wordnet is already up-to-date!\n"
     ]
    }
   ],
   "source": [
    "# import dependencies\n",
    "import numpy as np\n",
    "import pandas as pd\n",
    "from sklearn import preprocessing\n",
    "from sklearn import tree\n",
    "from sklearn.ensemble import GradientBoostingClassifier\n",
    "from sklearn.feature_extraction.text import CountVectorizer, TfidfTransformer \n",
    "from sklearn.linear_model import LogisticRegression, SGDClassifier\n",
    "from sklearn.metrics import confusion_matrix\n",
    "from sklearn.pipeline import Pipeline\n",
    "from sklearn.svm import LinearSVC\n",
    "\n",
    "# custom functions\n",
    "from functions import clean_text, print_metrics, plot_confusion_matrix"
   ]
  },
  {
   "cell_type": "code",
   "execution_count": 2,
   "metadata": {},
   "outputs": [],
   "source": [
    "# set seed\n",
    "np.random.seed(42)"
   ]
  },
  {
   "cell_type": "code",
   "execution_count": 3,
   "metadata": {
    "executionInfo": {
     "elapsed": 571,
     "status": "ok",
     "timestamp": 1650838581596,
     "user": {
      "displayName": "Marco Schildt",
      "userId": "08365269881482043900"
     },
     "user_tz": -120
    },
    "id": "mQiCiSQUBO75"
   },
   "outputs": [],
   "source": [
    "# load & clean data \n",
    "train = pd.read_csv('https://raw.githubusercontent.com/smkerr/COVID-fake-news-detection/main/data/original-data/Constraint_Train.csv', header=0)\n",
    "train_clean = train[train[\"tweet\"].map(len) <= 280].drop_duplicates() # drop posts longer than 280 characters & drop duplicates\n",
    "X_train, y_train = train_clean[\"tweet\"], train_clean[\"label\"]\n",
    "\n",
    "\n",
    "val = pd.read_csv('https://raw.githubusercontent.com/smkerr/COVID-fake-news-detection/main/data/original-data/Constraint_Val.csv', header=0)\n",
    "val_clean = val[val[\"tweet\"].map(len) <= 280].drop_duplicates()  # drop posts longer than 280 characters & drop duplicates\n",
    "X_val, y_val = val_clean[\"tweet\"], val_clean[\"label\"]\n",
    "\n",
    "test = pd.read_csv('https://raw.githubusercontent.com/smkerr/COVID-fake-news-detection/main/data/original-data/Constraint_Test.csv', header=0)\n",
    "test_clean = test[test[\"tweet\"].map(len) <= 280].drop_duplicates()  # drop posts longer than 280 characters & drop duplicates\n",
    "X_test, y_test = test_clean[\"tweet\"], test_clean[\"label\"]"
   ]
  },
  {
   "cell_type": "markdown",
   "metadata": {
    "id": "b1RHfeVkGYNg"
   },
   "source": [
    "# Pre-processing"
   ]
  },
  {
   "cell_type": "code",
   "execution_count": 4,
   "metadata": {
    "executionInfo": {
     "elapsed": 237,
     "status": "ok",
     "timestamp": 1650838581829,
     "user": {
      "displayName": "Marco Schildt",
      "userId": "08365269881482043900"
     },
     "user_tz": -120
    },
    "id": "LlXp-6juE_8t"
   },
   "outputs": [],
   "source": [
    "# apply clean_text() function to all tweets \n",
    "X_train = X_train.map(lambda x: clean_text(x))\n",
    "X_val = X_val.map(lambda x: clean_text(x))\n",
    "X_test = X_test.map(lambda x: clean_text(x))"
   ]
  },
  {
   "cell_type": "code",
   "execution_count": 5,
   "metadata": {},
   "outputs": [],
   "source": [
    "# initialize label encoder\n",
    "label_encoder = preprocessing.LabelEncoder()\n",
    "\n",
    "# encode 'fake' as 0 and 'real' as 1 to make target variables machine-readable\n",
    "y_train = label_encoder.fit_transform(y_train)\n",
    "y_val = label_encoder.fit_transform(y_val)\n",
    "y_test = label_encoder.fit_transform(y_test)"
   ]
  },
  {
   "cell_type": "markdown",
   "metadata": {
    "id": "cBGrHpbcBqEB"
   },
   "source": [
    "# Model Training"
   ]
  },
  {
   "cell_type": "markdown",
   "metadata": {
    "id": "_XnE-4bmBrQk"
   },
   "source": [
    "## #1 SVM"
   ]
  },
  {
   "cell_type": "code",
   "execution_count": 6,
   "metadata": {
    "executionInfo": {
     "elapsed": 241,
     "status": "ok",
     "timestamp": 1650838582305,
     "user": {
      "displayName": "Marco Schildt",
      "userId": "08365269881482043900"
     },
     "user_tz": -120
    },
    "id": "W2l2XD_GBTG1"
   },
   "outputs": [],
   "source": [
    "# create SVM object\n",
    "svm_clf = LinearSVC()\n",
    "\n",
    "# create pipeline\n",
    "svm_pipeline = Pipeline([\n",
    "        ('bow', CountVectorizer()), # count term frequency\n",
    "        ('tfidf', TfidfTransformer()), # downweight words which appear frequently\n",
    "        ('c', svm_clf) # classifier\n",
    "])\n",
    "\n",
    "# train model\n",
    "fit = svm_pipeline.fit(X_train,y_train)\n",
    "\n",
    "# make predictions\n",
    "svm_pred_val = svm_pipeline.predict(X_val) # validation set \n",
    "svm_pred_test = svm_pipeline.predict(X_test) # test set "
   ]
  },
  {
   "cell_type": "markdown",
   "metadata": {
    "id": "ay0JYxPCB4sD"
   },
   "source": [
    "## #2 Logistic Regression"
   ]
  },
  {
   "cell_type": "code",
   "execution_count": 7,
   "metadata": {
    "executionInfo": {
     "elapsed": 254,
     "status": "ok",
     "timestamp": 1650838582555,
     "user": {
      "displayName": "Marco Schildt",
      "userId": "08365269881482043900"
     },
     "user_tz": -120
    },
    "id": "mKiKPHlfBU4W"
   },
   "outputs": [],
   "source": [
    "# create logistic regression object\n",
    "lr_clf = LogisticRegression()\n",
    "\n",
    "# create pipeline\n",
    "lr_pipeline = Pipeline([\n",
    "        ('count', CountVectorizer()), # count term frequency\n",
    "        ('tfidf', TfidfTransformer()), # downweight words which appear frequently\n",
    "        ('c', lr_clf) # classifier\n",
    "])\n",
    "\n",
    "# train model\n",
    "fit = lr_pipeline.fit(X_train,y_train)\n",
    "\n",
    "# make predictions\n",
    "lr_pred_val = lr_pipeline.predict(X_val) # validation set \n",
    "lr_pred_test = lr_pipeline.predict(X_test) # test set "
   ]
  },
  {
   "cell_type": "markdown",
   "metadata": {
    "id": "HcYMm6vZB7-V"
   },
   "source": [
    "## #3 Gradient Boosting"
   ]
  },
  {
   "cell_type": "code",
   "execution_count": 8,
   "metadata": {
    "executionInfo": {
     "elapsed": 3628,
     "status": "ok",
     "timestamp": 1650838586180,
     "user": {
      "displayName": "Marco Schildt",
      "userId": "08365269881482043900"
     },
     "user_tz": -120
    },
    "id": "14jIEEenBVi8"
   },
   "outputs": [],
   "source": [
    "# create Gradient Boosting object \n",
    "gb_clf = GradientBoostingClassifier()\n",
    "\n",
    "# create pipeline\n",
    "gb_pipeline = Pipeline([\n",
    "        ('bow', CountVectorizer()), # count term frequency\n",
    "        ('tfidf', TfidfTransformer()), # downweight words which appear frequently\n",
    "        ('c', gb_clf) # classifier\n",
    "])\n",
    "\n",
    "# train model \n",
    "fit = gb_pipeline.fit(X_train,y_train)\n",
    "\n",
    "# make predictions\n",
    "gb_pred_val = gb_pipeline.predict(X_val) # validation set \n",
    "gb_pred_test = gb_pipeline.predict(X_test) # test set "
   ]
  },
  {
   "cell_type": "markdown",
   "metadata": {
    "id": "WcYc9QrCB_9j"
   },
   "source": [
    "## #4 Decision Tree"
   ]
  },
  {
   "cell_type": "code",
   "execution_count": 9,
   "metadata": {
    "executionInfo": {
     "elapsed": 971,
     "status": "ok",
     "timestamp": 1650838587145,
     "user": {
      "displayName": "Marco Schildt",
      "userId": "08365269881482043900"
     },
     "user_tz": -120
    },
    "id": "kKs_IrTSBYQw"
   },
   "outputs": [],
   "source": [
    "# create decision tree object \n",
    "dt_clf = tree.DecisionTreeClassifier()\n",
    "\n",
    "# create pipeline\n",
    "dt_pipeline = Pipeline([\n",
    "        ('bow', CountVectorizer()), # count term frequency\n",
    "        ('tfidf', TfidfTransformer()), # downweight words which appear frequently\n",
    "        ('c', dt_clf) # classifier\n",
    "])\n",
    "\n",
    "# train model \n",
    "fit = dt_pipeline.fit(X_train,y_train)\n",
    "\n",
    "# make predictions\n",
    "dt_pred_val = dt_pipeline.predict(X_val) # validation set \n",
    "dt_pred_test = dt_pipeline.predict(X_test) # test set "
   ]
  },
  {
   "cell_type": "markdown",
   "metadata": {
    "id": "gogyysMESVOy"
   },
   "source": [
    "# Evaluation"
   ]
  },
  {
   "cell_type": "markdown",
   "metadata": {},
   "source": [
    "## #1 SVM"
   ]
  },
  {
   "cell_type": "code",
   "execution_count": 10,
   "metadata": {
    "colab": {
     "base_uri": "https://localhost:8080/",
     "height": 566
    },
    "executionInfo": {
     "elapsed": 391,
     "status": "ok",
     "timestamp": 1650838587533,
     "user": {
      "displayName": "Marco Schildt",
      "userId": "08365269881482043900"
     },
     "user_tz": -120
    },
    "id": "Sn0tNQw5QAmO",
    "outputId": "45ffdca7-5d7b-463f-f05e-7f3ee0b99e36"
   },
   "outputs": [
    {
     "name": "stdout",
     "output_type": "stream",
     "text": [
      "[[892  56]\n",
      " [ 75 850]]\n",
      "              precision    recall  f1-score   support\n",
      "\n",
      "           0       0.92      0.94      0.93       948\n",
      "           1       0.94      0.92      0.93       925\n",
      "\n",
      "    accuracy                           0.93      1873\n",
      "   macro avg       0.93      0.93      0.93      1873\n",
      "weighted avg       0.93      0.93      0.93      1873\n",
      "\n",
      "Accuracy :  0.9300587293112653\n",
      "Precison :  0.9302819955533062\n",
      "Recall :  0.9300587293112653\n",
      "F1 :  0.9300746469735766\n"
     ]
    },
    {
     "data": {
      "image/png": "[encoded data removed]",
      "text/plain": [
       "<Figure size 360x288 with 2 Axes>"
      ]
     },
     "metadata": {
      "needs_background": "light"
     },
     "output_type": "display_data"
    }
   ],
   "source": [
    "# validation set\n",
    "# display results\n",
    "print_metrics(svm_pred_val,y_val)\n",
    "plot_confusion_matrix(confusion_matrix(y_val,svm_pred_val),target_names=['fake','real'], normalize = False, \\\n",
    "                      title = 'Confusion matix of SVM on val data')"
   ]
  },
  {
   "cell_type": "code",
   "execution_count": 11,
   "metadata": {},
   "outputs": [
    {
     "name": "stdout",
     "output_type": "stream",
     "text": [
      "[[887  57]\n",
      " [ 76 828]]\n",
      "              precision    recall  f1-score   support\n",
      "\n",
      "           0       0.92      0.94      0.93       944\n",
      "           1       0.94      0.92      0.93       904\n",
      "\n",
      "    accuracy                           0.93      1848\n",
      "   macro avg       0.93      0.93      0.93      1848\n",
      "weighted avg       0.93      0.93      0.93      1848\n",
      "\n",
      "Accuracy :  0.928030303030303\n",
      "Precison :  0.9282738632954716\n",
      "Recall :  0.928030303030303\n",
      "F1 :  0.928053951021392\n"
     ]
    },
    {
     "data": {
      "image/png": "[encoded data removed]",
      "text/plain": [
       "<Figure size 360x288 with 2 Axes>"
      ]
     },
     "metadata": {
      "needs_background": "light"
     },
     "output_type": "display_data"
    }
   ],
   "source": [
    "# test set\n",
    "# display results\n",
    "print_metrics(svm_pred_test,y_test)\n",
    "plot_confusion_matrix(confusion_matrix(y_test,svm_pred_test),target_names=['fake','real'], normalize = False, \\\n",
    "                      title = 'Confusion matix of SVM on test data')"
   ]
  },
  {
   "cell_type": "markdown",
   "metadata": {},
   "source": [
    "## #2 Logistic Regression"
   ]
  },
  {
   "cell_type": "code",
   "execution_count": 12,
   "metadata": {},
   "outputs": [
    {
     "name": "stdout",
     "output_type": "stream",
     "text": [
      "[[894  54]\n",
      " [102 823]]\n",
      "              precision    recall  f1-score   support\n",
      "\n",
      "           0       0.90      0.94      0.92       948\n",
      "           1       0.94      0.89      0.91       925\n",
      "\n",
      "    accuracy                           0.92      1873\n",
      "   macro avg       0.92      0.92      0.92      1873\n",
      "weighted avg       0.92      0.92      0.92      1873\n",
      "\n",
      "Accuracy :  0.9167111585691404\n",
      "Precison :  0.9180773068648068\n",
      "Recall :  0.9167111585691404\n",
      "F1 :  0.9167921866139958\n"
     ]
    },
    {
     "data": {
      "image/png": "[encoded data removed]",
      "text/plain": [
       "<Figure size 360x288 with 2 Axes>"
      ]
     },
     "metadata": {
      "needs_background": "light"
     },
     "output_type": "display_data"
    }
   ],
   "source": [
    "# validation set\n",
    "# display results\n",
    "print_metrics(lr_pred_val,y_val)\n",
    "plot_confusion_matrix(confusion_matrix(y_val,lr_pred_val),target_names=['fake','real'], normalize = False, \\\n",
    "                      title = 'Confusion matix of LR on val data')"
   ]
  },
  {
   "cell_type": "code",
   "execution_count": 13,
   "metadata": {
    "colab": {
     "base_uri": "https://localhost:8080/",
     "height": 566
    },
    "executionInfo": {
     "elapsed": 364,
     "status": "ok",
     "timestamp": 1650838587894,
     "user": {
      "displayName": "Marco Schildt",
      "userId": "08365269881482043900"
     },
     "user_tz": -120
    },
    "id": "lFnaDSXDUVJz",
    "outputId": "a6c3c631-37c6-4ad0-ff68-ea64ead0ab21"
   },
   "outputs": [
    {
     "name": "stdout",
     "output_type": "stream",
     "text": [
      "[[896  48]\n",
      " [107 797]]\n",
      "              precision    recall  f1-score   support\n",
      "\n",
      "           0       0.89      0.95      0.92       944\n",
      "           1       0.94      0.88      0.91       904\n",
      "\n",
      "    accuracy                           0.92      1848\n",
      "   macro avg       0.92      0.92      0.92      1848\n",
      "weighted avg       0.92      0.92      0.92      1848\n",
      "\n",
      "Accuracy :  0.9161255411255411\n",
      "Precison :  0.9182810644370378\n",
      "Recall :  0.9161255411255411\n",
      "F1 :  0.9162694081218954\n"
     ]
    },
    {
     "data": {
      "image/png": "[encoded data removed]",
      "text/plain": [
       "<Figure size 360x288 with 2 Axes>"
      ]
     },
     "metadata": {
      "needs_background": "light"
     },
     "output_type": "display_data"
    }
   ],
   "source": [
    "# test set \n",
    "# display results\n",
    "print_metrics(lr_pred_test,y_test)\n",
    "plot_confusion_matrix(confusion_matrix(y_test,lr_pred_test),target_names=['fake','real'], normalize = False, \\\n",
    "                      title = 'Confusion matix of LR on test data')"
   ]
  },
  {
   "cell_type": "markdown",
   "metadata": {},
   "source": [
    "## #3 Gradient Boosting"
   ]
  },
  {
   "cell_type": "code",
   "execution_count": 14,
   "metadata": {
    "colab": {
     "base_uri": "https://localhost:8080/",
     "height": 566
    },
    "executionInfo": {
     "elapsed": 9,
     "status": "ok",
     "timestamp": 1650838588336,
     "user": {
      "displayName": "Marco Schildt",
      "userId": "08365269881482043900"
     },
     "user_tz": -120
    },
    "id": "w0a8XHEMU8U8",
    "outputId": "80728cd0-c581-48de-a410-48bef1c6e7d1"
   },
   "outputs": [
    {
     "name": "stdout",
     "output_type": "stream",
     "text": [
      "[[874  74]\n",
      " [157 768]]\n",
      "              precision    recall  f1-score   support\n",
      "\n",
      "           0       0.85      0.92      0.88       948\n",
      "           1       0.91      0.83      0.87       925\n",
      "\n",
      "    accuracy                           0.88      1873\n",
      "   macro avg       0.88      0.88      0.88      1873\n",
      "weighted avg       0.88      0.88      0.88      1873\n",
      "\n",
      "Accuracy :  0.8766684463427656\n",
      "Precison :  0.8807307339102942\n",
      "Recall :  0.8766684463427656\n",
      "F1 :  0.8769787420850363\n"
     ]
    },
    {
     "data": {
      "image/png": "[encoded data removed]",
      "text/plain": [
       "<Figure size 360x288 with 2 Axes>"
      ]
     },
     "metadata": {
      "needs_background": "light"
     },
     "output_type": "display_data"
    }
   ],
   "source": [
    "# validation set\n",
    "# display results\n",
    "print_metrics(gb_pred_val,y_val)\n",
    "plot_confusion_matrix(confusion_matrix(y_val,gb_pred_val),target_names=['fake','real'], normalize = False, \\\n",
    "                      title = 'Confusion matix of GDBT on val data')"
   ]
  },
  {
   "cell_type": "code",
   "execution_count": 15,
   "metadata": {},
   "outputs": [
    {
     "name": "stdout",
     "output_type": "stream",
     "text": [
      "[[858  86]\n",
      " [158 746]]\n",
      "              precision    recall  f1-score   support\n",
      "\n",
      "           0       0.84      0.91      0.88       944\n",
      "           1       0.90      0.83      0.86       904\n",
      "\n",
      "    accuracy                           0.87      1848\n",
      "   macro avg       0.87      0.87      0.87      1848\n",
      "weighted avg       0.87      0.87      0.87      1848\n",
      "\n",
      "Accuracy :  0.8679653679653679\n",
      "Precison :  0.8712255133996548\n",
      "Recall :  0.8679653679653679\n",
      "F1 :  0.8682782874356278\n"
     ]
    },
    {
     "data": {
      "image/png": "[encoded data removed]",
      "text/plain": [
       "<Figure size 360x288 with 2 Axes>"
      ]
     },
     "metadata": {
      "needs_background": "light"
     },
     "output_type": "display_data"
    }
   ],
   "source": [
    "# test set \n",
    "# display results\n",
    "print_metrics(gb_pred_test,y_test)\n",
    "plot_confusion_matrix(confusion_matrix(y_test,gb_pred_test),target_names=['fake','real'], normalize = False, \\\n",
    "                      title = 'Confusion matix of GDBT on test data')"
   ]
  },
  {
   "cell_type": "markdown",
   "metadata": {},
   "source": [
    "## #4 Decision Tree"
   ]
  },
  {
   "cell_type": "code",
   "execution_count": 16,
   "metadata": {
    "colab": {
     "base_uri": "https://localhost:8080/",
     "height": 566
    },
    "executionInfo": {
     "elapsed": 14,
     "status": "ok",
     "timestamp": 1650838588801,
     "user": {
      "displayName": "Marco Schildt",
      "userId": "08365269881482043900"
     },
     "user_tz": -120
    },
    "id": "mAh0qDs4VUew",
    "outputId": "c5ea32f3-e7fa-4b09-9185-8dba079e3de7"
   },
   "outputs": [
    {
     "name": "stdout",
     "output_type": "stream",
     "text": [
      "[[802 146]\n",
      " [131 794]]\n",
      "              precision    recall  f1-score   support\n",
      "\n",
      "           0       0.86      0.85      0.85       948\n",
      "           1       0.84      0.86      0.85       925\n",
      "\n",
      "    accuracy                           0.85      1873\n",
      "   macro avg       0.85      0.85      0.85      1873\n",
      "weighted avg       0.85      0.85      0.85      1873\n",
      "\n",
      "Accuracy :  0.8521089161772557\n",
      "Precison :  0.8522081165285392\n",
      "Recall :  0.8521089161772557\n",
      "F1 :  0.8521038572829482\n"
     ]
    },
    {
     "data": {
      "image/png": "[encoded data removed]",
      "text/plain": [
       "<Figure size 360x288 with 2 Axes>"
      ]
     },
     "metadata": {
      "needs_background": "light"
     },
     "output_type": "display_data"
    }
   ],
   "source": [
    "# validation set \n",
    "# display results\n",
    "print_metrics(dt_pred_val,y_val)\n",
    "plot_confusion_matrix(confusion_matrix(y_val,dt_pred_val),target_names=['fake','real'], normalize = False, \\\n",
    "                      title = 'Confusion matix of DT on val data')"
   ]
  },
  {
   "cell_type": "code",
   "execution_count": 17,
   "metadata": {},
   "outputs": [
    {
     "name": "stdout",
     "output_type": "stream",
     "text": [
      "[[817 127]\n",
      " [129 775]]\n",
      "              precision    recall  f1-score   support\n",
      "\n",
      "           0       0.86      0.87      0.86       944\n",
      "           1       0.86      0.86      0.86       904\n",
      "\n",
      "    accuracy                           0.86      1848\n",
      "   macro avg       0.86      0.86      0.86      1848\n",
      "weighted avg       0.86      0.86      0.86      1848\n",
      "\n",
      "Accuracy :  0.8614718614718615\n",
      "Precison :  0.8614806982865142\n",
      "Recall :  0.8614718614718615\n",
      "F1 :  0.8614752705561121\n"
     ]
    },
    {
     "data": {
      "image/png": "[encoded data removed]",
      "text/plain": [
       "<Figure size 360x288 with 2 Axes>"
      ]
     },
     "metadata": {
      "needs_background": "light"
     },
     "output_type": "display_data"
    }
   ],
   "source": [
    "# test set \n",
    "# display results\n",
    "print_metrics(dt_pred_test,y_test)\n",
    "plot_confusion_matrix(confusion_matrix(y_test,dt_pred_test),target_names=['fake','real'], normalize = False, \\\n",
    "                      title = 'Confusion matix of DT on test data')"
   ]
  }
 ],
 "metadata": {
  "colab": {
   "collapsed_sections": [],
   "name": "baseline-model.ipynb",
   "provenance": []
  },
  "kernelspec": {
   "display_name": "Python 3",
   "language": "python",
   "name": "python3"
  },
  "language_info": {
   "codemirror_mode": {
    "name": "ipython",
    "version": 3
   },
   "file_extension": ".py",
   "mimetype": "text/x-python",
   "name": "python",
   "nbconvert_exporter": "python",
   "pygments_lexer": "ipython3",
   "version": "3.8.8"
  }
 },
 "nbformat": 4,
 "nbformat_minor": 1
}
