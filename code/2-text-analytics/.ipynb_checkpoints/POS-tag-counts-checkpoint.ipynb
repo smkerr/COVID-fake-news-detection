{
 "cells": [
  {
   "cell_type": "markdown",
   "metadata": {
    "id": "0VGjH_ss3BXs"
   },
   "source": [
    "Import"
   ]
  },
  {
   "cell_type": "code",
   "execution_count": 2,
   "metadata": {
    "colab": {
     "base_uri": "https://localhost:8080/"
    },
    "executionInfo": {
     "elapsed": 9942,
     "status": "ok",
     "timestamp": 1649751821728,
     "user": {
      "displayName": "Marco Schildt",
      "userId": "08365269881482043900"
     },
     "user_tz": -120
    },
    "id": "jqK15KAB3sF7",
    "outputId": "b809a985-0cd8-4035-cb03-aebe902feed6"
   },
   "outputs": [
    {
     "name": "stdout",
     "output_type": "stream",
     "text": [
      "Collecting contractions\n",
      "  Downloading contractions-0.1.68-py2.py3-none-any.whl (8.1 kB)\n",
      "Collecting textsearch>=0.0.21\n",
      "  Downloading textsearch-0.0.21-py2.py3-none-any.whl (7.5 kB)\n",
      "Collecting pyahocorasick\n",
      "  Downloading pyahocorasick-1.4.4-cp37-cp37m-manylinux_2_17_x86_64.manylinux2014_x86_64.whl (106 kB)\n",
      "\u001b[K     |████████████████████████████████| 106 kB 9.9 MB/s \n",
      "\u001b[?25hCollecting anyascii\n",
      "  Downloading anyascii-0.3.1-py3-none-any.whl (287 kB)\n",
      "\u001b[K     |████████████████████████████████| 287 kB 15.9 MB/s \n",
      "\u001b[?25hInstalling collected packages: pyahocorasick, anyascii, textsearch, contractions\n",
      "Successfully installed anyascii-0.3.1 contractions-0.1.68 pyahocorasick-1.4.4 textsearch-0.0.21\n"
     ]
    }
   ],
   "source": [
    "!pip install contractions"
   ]
  },
  {
   "cell_type": "code",
   "execution_count": 19,
   "metadata": {
    "colab": {
     "base_uri": "https://localhost:8080/"
    },
    "executionInfo": {
     "elapsed": 208,
     "status": "ok",
     "timestamp": 1649751980533,
     "user": {
      "displayName": "Marco Schildt",
      "userId": "08365269881482043900"
     },
     "user_tz": -120
    },
    "id": "ws7fvpuF25-c",
    "outputId": "5afc7e8a-17f3-447d-c2d5-71dfda42d489"
   },
   "outputs": [
    {
     "name": "stdout",
     "output_type": "stream",
     "text": [
      "[nltk_data] Downloading package punkt to /root/nltk_data...\n",
      "[nltk_data]   Package punkt is already up-to-date!\n",
      "[nltk_data] Downloading package averaged_perceptron_tagger to\n",
      "[nltk_data]     /root/nltk_data...\n",
      "[nltk_data]   Package averaged_perceptron_tagger is already up-to-\n",
      "[nltk_data]       date!\n",
      "[nltk_data] Downloading package stopwords to /root/nltk_data...\n",
      "[nltk_data]   Package stopwords is already up-to-date!\n"
     ]
    }
   ],
   "source": [
    "import pandas as pd\n",
    "import numpy as np\n",
    "\n",
    "import matplotlib.pyplot as plt\n",
    "from matplotlib import rcParams\n",
    "plt.rcParams['figure.figsize'] = [10,10]\n",
    "import seaborn as sns\n",
    "sns.set_theme(style=\"darkgrid\")\n",
    "from wordcloud import WordCloud\n",
    "\n",
    "import nltk\n",
    "from nltk import sent_tokenize\n",
    "''' Required for Google Colab'''\n",
    "nltk.download('punkt')\n",
    "nltk.download('averaged_perceptron_tagger')\n",
    "nltk.download('stopwords')\n",
    "''' Required for Google Colab'''\n",
    "from nltk.corpus import stopwords\n",
    "stopwords = nltk.corpus.stopwords.words('english')\n",
    "from nltk.tokenize import word_tokenize\n",
    "\n",
    "import contractions\n",
    "import re\n",
    "import itertools\n",
    "import datetime\n",
    "import time\n",
    "from collections import Counter\n",
    "import string\n",
    "\n",
    "import warnings"
   ]
  },
  {
   "cell_type": "markdown",
   "metadata": {
    "id": "2qxE7Rzn3AyX"
   },
   "source": [
    "### Original version"
   ]
  },
  {
   "cell_type": "code",
   "execution_count": 4,
   "metadata": {
    "executionInfo": {
     "elapsed": 806,
     "status": "ok",
     "timestamp": 1649751828717,
     "user": {
      "displayName": "Marco Schildt",
      "userId": "08365269881482043900"
     },
     "user_tz": -120
    },
    "id": "i_DVtZdF2l48"
   },
   "outputs": [],
   "source": [
    "train_df = pd.read_csv('https://raw.githubusercontent.com/smkerr/COVID-fake-news-detection/main/data/Constraint_Train.csv', header=0)\n",
    "val_df = pd.read_csv('https://raw.githubusercontent.com/smkerr/COVID-fake-news-detection/main/data/Constraint_Val.csv', header=0)"
   ]
  },
  {
   "cell_type": "code",
   "execution_count": 5,
   "metadata": {
    "executionInfo": {
     "elapsed": 248,
     "status": "ok",
     "timestamp": 1649751834678,
     "user": {
      "displayName": "Marco Schildt",
      "userId": "08365269881482043900"
     },
     "user_tz": -120
    },
    "id": "TDQQc_OK2-ZY"
   },
   "outputs": [],
   "source": [
    "def preprocess_text(x):\n",
    "  cleaned_text = re.sub(r'[^a-zA-Z\\d\\s\\']+', '', x)\n",
    "  word_list = []\n",
    "  for each_word in cleaned_text.split(' '):\n",
    "    try:\n",
    "      word_list.append(contractions.fix(each_word).lower())\n",
    "    except:\n",
    "      print(x)\n",
    "  return \" \".join(word_list)"
   ]
  },
  {
   "cell_type": "code",
   "execution_count": 6,
   "metadata": {
    "executionInfo": {
     "elapsed": 3,
     "status": "ok",
     "timestamp": 1649751834919,
     "user": {
      "displayName": "Marco Schildt",
      "userId": "08365269881482043900"
     },
     "user_tz": -120
    },
    "id": "Nl7X30rb3Ki6"
   },
   "outputs": [],
   "source": [
    "text_cols = ['tweet']"
   ]
  },
  {
   "cell_type": "code",
   "execution_count": 7,
   "metadata": {
    "colab": {
     "base_uri": "https://localhost:8080/"
    },
    "executionInfo": {
     "elapsed": 2236,
     "status": "ok",
     "timestamp": 1649751837153,
     "user": {
      "displayName": "Marco Schildt",
      "userId": "08365269881482043900"
     },
     "user_tz": -120
    },
    "id": "XQtyjNey3KgR",
    "outputId": "d04559d5-b883-431c-d0ec-098ef5a24ce1"
   },
   "outputs": [
    {
     "name": "stdout",
     "output_type": "stream",
     "text": [
      "Processing column: tweet\n",
      "CPU times: user 1.55 s, sys: 34 ms, total: 1.58 s\n",
      "Wall time: 2.09 s\n"
     ]
    }
   ],
   "source": [
    "%%time\n",
    "for col in text_cols:\n",
    "  print(\"Processing column: {}\".format(col))\n",
    "  train_df[col] = train_df[col].apply(lambda x: preprocess_text(x))\n",
    "  val_df[col] = val_df[col].apply(lambda x: preprocess_text(x)) "
   ]
  },
  {
   "cell_type": "code",
   "execution_count": 8,
   "metadata": {
    "colab": {
     "base_uri": "https://localhost:8080/"
    },
    "executionInfo": {
     "elapsed": 4844,
     "status": "ok",
     "timestamp": 1649751841994,
     "user": {
      "displayName": "Marco Schildt",
      "userId": "08365269881482043900"
     },
     "user_tz": -120
    },
    "id": "Q54SnhHe3KeL",
    "outputId": "a525f535-fd44-43b5-b4db-6eef33d7fb68"
   },
   "outputs": [
    {
     "name": "stdout",
     "output_type": "stream",
     "text": [
      "Processing column: tweet\n",
      "CPU times: user 2.81 s, sys: 45.3 ms, total: 2.85 s\n",
      "Wall time: 4.83 s\n"
     ]
    }
   ],
   "source": [
    "%%time\n",
    "for col in text_cols:\n",
    "  print(\"Processing column: {}\".format(col))\n",
    "  train_df[col] = train_df[col].apply(word_tokenize)\n",
    "  val_df[col] = val_df[col].apply(word_tokenize)"
   ]
  },
  {
   "cell_type": "code",
   "execution_count": 9,
   "metadata": {
    "colab": {
     "base_uri": "https://localhost:8080/"
    },
    "executionInfo": {
     "elapsed": 1469,
     "status": "ok",
     "timestamp": 1649751843460,
     "user": {
      "displayName": "Marco Schildt",
      "userId": "08365269881482043900"
     },
     "user_tz": -120
    },
    "id": "0p3X3q5m3ZCK",
    "outputId": "9fc570f8-f4ed-468b-f04c-3584f60dd049"
   },
   "outputs": [
    {
     "name": "stdout",
     "output_type": "stream",
     "text": [
      "Processing column: tweet\n",
      "CPU times: user 965 ms, sys: 8.34 ms, total: 973 ms\n",
      "Wall time: 1.43 s\n"
     ]
    }
   ],
   "source": [
    "%%time\n",
    "for col in text_cols:\n",
    "  print(\"Processing column: {}\".format(col))\n",
    "  train_df[col] = train_df[col].apply(lambda x: [each_word for each_word in x if each_word not in stopwords])\n",
    "  val_df[col] = val_df[col].apply(lambda x: [each_word for each_word in x if each_word not in stopwords])"
   ]
  },
  {
   "cell_type": "code",
   "execution_count": 39,
   "metadata": {
    "colab": {
     "base_uri": "https://localhost:8080/",
     "height": 204
    },
    "executionInfo": {
     "elapsed": 257,
     "status": "ok",
     "timestamp": 1649752686498,
     "user": {
      "displayName": "Marco Schildt",
      "userId": "08365269881482043900"
     },
     "user_tz": -120
    },
    "id": "FmN4cUT37DE-",
    "outputId": "ee305dd3-fa3b-4c5f-d2f5-44b50e4a1366"
   },
   "outputs": [
    {
     "data": {
      "text/html": [
       "\n",
       "  <div id=\"df-d3989035-5784-423b-87c9-7d5c639b4cd7\">\n",
       "    <div class=\"colab-df-container\">\n",
       "      <div>\n",
       "<style scoped>\n",
       "    .dataframe tbody tr th:only-of-type {\n",
       "        vertical-align: middle;\n",
       "    }\n",
       "\n",
       "    .dataframe tbody tr th {\n",
       "        vertical-align: top;\n",
       "    }\n",
       "\n",
       "    .dataframe thead th {\n",
       "        text-align: right;\n",
       "    }\n",
       "</style>\n",
       "<table border=\"1\" class=\"dataframe\">\n",
       "  <thead>\n",
       "    <tr style=\"text-align: right;\">\n",
       "      <th></th>\n",
       "      <th>id</th>\n",
       "      <th>tweet</th>\n",
       "      <th>label</th>\n",
       "    </tr>\n",
       "  </thead>\n",
       "  <tbody>\n",
       "    <tr>\n",
       "      <th>0</th>\n",
       "      <td>1</td>\n",
       "      <td>[cdc, currently, reports, 99031, deaths, gener...</td>\n",
       "      <td>real</td>\n",
       "    </tr>\n",
       "    <tr>\n",
       "      <th>1</th>\n",
       "      <td>2</td>\n",
       "      <td>[states, reported, 1121, deaths, small, rise, ...</td>\n",
       "      <td>real</td>\n",
       "    </tr>\n",
       "    <tr>\n",
       "      <th>2</th>\n",
       "      <td>3</td>\n",
       "      <td>[politically, correct, woman, almost, uses, pa...</td>\n",
       "      <td>fake</td>\n",
       "    </tr>\n",
       "    <tr>\n",
       "      <th>3</th>\n",
       "      <td>4</td>\n",
       "      <td>[indiafightscorona, 1524, covid, testing, labo...</td>\n",
       "      <td>real</td>\n",
       "    </tr>\n",
       "    <tr>\n",
       "      <th>4</th>\n",
       "      <td>5</td>\n",
       "      <td>[populous, states, generate, large, case, coun...</td>\n",
       "      <td>real</td>\n",
       "    </tr>\n",
       "  </tbody>\n",
       "</table>\n",
       "</div>\n",
       "      <button class=\"colab-df-convert\" onclick=\"convertToInteractive('df-d3989035-5784-423b-87c9-7d5c639b4cd7')\"\n",
       "              title=\"Convert this dataframe to an interactive table.\"\n",
       "              style=\"display:none;\">\n",
       "        \n",
       "  <svg xmlns=\"http://www.w3.org/2000/svg\" height=\"24px\"viewBox=\"0 0 24 24\"\n",
       "       width=\"24px\">\n",
       "    <path d=\"M0 0h24v24H0V0z\" fill=\"none\"/>\n",
       "    <path d=\"M18.56 5.44l.94 2.06.94-2.06 2.06-.94-2.06-.94-.94-2.06-.94 2.06-2.06.94zm-11 1L8.5 8.5l.94-2.06 2.06-.94-2.06-.94L8.5 2.5l-.94 2.06-2.06.94zm10 10l.94 2.06.94-2.06 2.06-.94-2.06-.94-.94-2.06-.94 2.06-2.06.94z\"/><path d=\"M17.41 7.96l-1.37-1.37c-.4-.4-.92-.59-1.43-.59-.52 0-1.04.2-1.43.59L10.3 9.45l-7.72 7.72c-.78.78-.78 2.05 0 2.83L4 21.41c.39.39.9.59 1.41.59.51 0 1.02-.2 1.41-.59l7.78-7.78 2.81-2.81c.8-.78.8-2.07 0-2.86zM5.41 20L4 18.59l7.72-7.72 1.47 1.35L5.41 20z\"/>\n",
       "  </svg>\n",
       "      </button>\n",
       "      \n",
       "  <style>\n",
       "    .colab-df-container {\n",
       "      display:flex;\n",
       "      flex-wrap:wrap;\n",
       "      gap: 12px;\n",
       "    }\n",
       "\n",
       "    .colab-df-convert {\n",
       "      background-color: #E8F0FE;\n",
       "      border: none;\n",
       "      border-radius: 50%;\n",
       "      cursor: pointer;\n",
       "      display: none;\n",
       "      fill: #1967D2;\n",
       "      height: 32px;\n",
       "      padding: 0 0 0 0;\n",
       "      width: 32px;\n",
       "    }\n",
       "\n",
       "    .colab-df-convert:hover {\n",
       "      background-color: #E2EBFA;\n",
       "      box-shadow: 0px 1px 2px rgba(60, 64, 67, 0.3), 0px 1px 3px 1px rgba(60, 64, 67, 0.15);\n",
       "      fill: #174EA6;\n",
       "    }\n",
       "\n",
       "    [theme=dark] .colab-df-convert {\n",
       "      background-color: #3B4455;\n",
       "      fill: #D2E3FC;\n",
       "    }\n",
       "\n",
       "    [theme=dark] .colab-df-convert:hover {\n",
       "      background-color: #434B5C;\n",
       "      box-shadow: 0px 1px 3px 1px rgba(0, 0, 0, 0.15);\n",
       "      filter: drop-shadow(0px 1px 2px rgba(0, 0, 0, 0.3));\n",
       "      fill: #FFFFFF;\n",
       "    }\n",
       "  </style>\n",
       "\n",
       "      <script>\n",
       "        const buttonEl =\n",
       "          document.querySelector('#df-d3989035-5784-423b-87c9-7d5c639b4cd7 button.colab-df-convert');\n",
       "        buttonEl.style.display =\n",
       "          google.colab.kernel.accessAllowed ? 'block' : 'none';\n",
       "\n",
       "        async function convertToInteractive(key) {\n",
       "          const element = document.querySelector('#df-d3989035-5784-423b-87c9-7d5c639b4cd7');\n",
       "          const dataTable =\n",
       "            await google.colab.kernel.invokeFunction('convertToInteractive',\n",
       "                                                     [key], {});\n",
       "          if (!dataTable) return;\n",
       "\n",
       "          const docLinkHtml = 'Like what you see? Visit the ' +\n",
       "            '<a target=\"_blank\" href=https://colab.research.google.com/notebooks/data_table.ipynb>data table notebook</a>'\n",
       "            + ' to learn more about interactive tables.';\n",
       "          element.innerHTML = '';\n",
       "          dataTable['output_type'] = 'display_data';\n",
       "          await google.colab.output.renderOutput(dataTable, element);\n",
       "          const docLink = document.createElement('div');\n",
       "          docLink.innerHTML = docLinkHtml;\n",
       "          element.appendChild(docLink);\n",
       "        }\n",
       "      </script>\n",
       "    </div>\n",
       "  </div>\n",
       "  "
      ],
      "text/plain": [
       "   id                                              tweet label\n",
       "0   1  [cdc, currently, reports, 99031, deaths, gener...  real\n",
       "1   2  [states, reported, 1121, deaths, small, rise, ...  real\n",
       "2   3  [politically, correct, woman, almost, uses, pa...  fake\n",
       "3   4  [indiafightscorona, 1524, covid, testing, labo...  real\n",
       "4   5  [populous, states, generate, large, case, coun...  real"
      ]
     },
     "execution_count": 39,
     "metadata": {},
     "output_type": "execute_result"
    }
   ],
   "source": [
    "train_df.head()"
   ]
  },
  {
   "cell_type": "code",
   "execution_count": 10,
   "metadata": {
    "executionInfo": {
     "elapsed": 5,
     "status": "ok",
     "timestamp": 1649751843461,
     "user": {
      "displayName": "Marco Schildt",
      "userId": "08365269881482043900"
     },
     "user_tz": -120
    },
    "id": "t9Cny6T53Y_g"
   },
   "outputs": [],
   "source": [
    "all_tokenized_gen = [a for b in train_df[train_df['label']==\"real\"]['tweet'].tolist() for a in b]\n",
    "all_tokenized_fake = [a for b in train_df[train_df['label']==\"fake\"]['tweet'].tolist() for a in b]"
   ]
  },
  {
   "cell_type": "code",
   "execution_count": 11,
   "metadata": {
    "executionInfo": {
     "elapsed": 3,
     "status": "ok",
     "timestamp": 1649751843461,
     "user": {
      "displayName": "Marco Schildt",
      "userId": "08365269881482043900"
     },
     "user_tz": -120
    },
    "id": "HnkBAhwH3Y8-"
   },
   "outputs": [],
   "source": [
    "def get_post_tags_list(tokenized_articles):\n",
    "  all_pos_tags = []\n",
    "  for word in tokenized_articles:\n",
    "    pos_tag = nltk.pos_tag([word])[0][1]\n",
    "    all_pos_tags.append(pos_tag)\n",
    "  return all_pos_tags"
   ]
  },
  {
   "cell_type": "code",
   "execution_count": 12,
   "metadata": {
    "colab": {
     "base_uri": "https://localhost:8080/"
    },
    "executionInfo": {
     "elapsed": 17202,
     "status": "ok",
     "timestamp": 1649751860661,
     "user": {
      "displayName": "Marco Schildt",
      "userId": "08365269881482043900"
     },
     "user_tz": -120
    },
    "id": "mX1BvlAG3Y6s",
    "outputId": "ff432fa4-cf0a-4900-e733-73f9850b1499"
   },
   "outputs": [
    {
     "name": "stdout",
     "output_type": "stream",
     "text": [
      "CPU times: user 15.5 s, sys: 875 ms, total: 16.4 s\n",
      "Wall time: 17 s\n"
     ]
    }
   ],
   "source": [
    "%%time\n",
    "all_pos_tagged_word_gen = get_post_tags_list(all_tokenized_gen)\n",
    "all_pos_tagged_word_fake = get_post_tags_list(all_tokenized_fake)"
   ]
  },
  {
   "cell_type": "code",
   "execution_count": 13,
   "metadata": {
    "colab": {
     "base_uri": "https://localhost:8080/"
    },
    "executionInfo": {
     "elapsed": 8,
     "status": "ok",
     "timestamp": 1649751860661,
     "user": {
      "displayName": "Marco Schildt",
      "userId": "08365269881482043900"
     },
     "user_tz": -120
    },
    "id": "dp5-nw4P3fY8",
    "outputId": "798fbdfa-7237-4a15-f9fd-e7aca6dd8f0c"
   },
   "outputs": [
    {
     "data": {
      "text/plain": [
       "(['NN', 'RB', 'NNS', 'CD', 'NNS'], ['RB', 'NN', 'NN', 'RB', 'NNS'])"
      ]
     },
     "execution_count": 13,
     "metadata": {},
     "output_type": "execute_result"
    }
   ],
   "source": [
    "all_pos_tagged_word_gen[:5], all_pos_tagged_word_fake[:5]"
   ]
  },
  {
   "cell_type": "code",
   "execution_count": 14,
   "metadata": {
    "executionInfo": {
     "elapsed": 5,
     "status": "ok",
     "timestamp": 1649751860661,
     "user": {
      "displayName": "Marco Schildt",
      "userId": "08365269881482043900"
     },
     "user_tz": -120
    },
    "id": "DY55033S3fWT"
   },
   "outputs": [],
   "source": [
    "gen_pos_df = pd.DataFrame(dict(Counter(all_pos_tagged_word_gen)).items(), columns=['Pos_tag', 'Genuine News'])\n",
    "fake_pos_df = pd.DataFrame(dict(Counter(all_pos_tagged_word_fake)).items(), columns=['Pos_tag', 'Fake News'])"
   ]
  },
  {
   "cell_type": "code",
   "execution_count": 15,
   "metadata": {
    "executionInfo": {
     "elapsed": 6,
     "status": "ok",
     "timestamp": 1649751860662,
     "user": {
      "displayName": "Marco Schildt",
      "userId": "08365269881482043900"
     },
     "user_tz": -120
    },
    "id": "PxM2_ox43fTU"
   },
   "outputs": [],
   "source": [
    "pos_df = gen_pos_df.merge(fake_pos_df, on='Pos_tag')"
   ]
  },
  {
   "cell_type": "code",
   "execution_count": 16,
   "metadata": {
    "colab": {
     "base_uri": "https://localhost:8080/",
     "height": 204
    },
    "executionInfo": {
     "elapsed": 6,
     "status": "ok",
     "timestamp": 1649751860662,
     "user": {
      "displayName": "Marco Schildt",
      "userId": "08365269881482043900"
     },
     "user_tz": -120
    },
    "id": "gd0wLju63fQ5",
    "outputId": "138979a9-a408-49e1-af75-94fcbe6058c6"
   },
   "outputs": [
    {
     "data": {
      "text/html": [
       "\n",
       "  <div id=\"df-c0cd30f3-ca41-4b16-ac08-999f71ed39d5\">\n",
       "    <div class=\"colab-df-container\">\n",
       "      <div>\n",
       "<style scoped>\n",
       "    .dataframe tbody tr th:only-of-type {\n",
       "        vertical-align: middle;\n",
       "    }\n",
       "\n",
       "    .dataframe tbody tr th {\n",
       "        vertical-align: top;\n",
       "    }\n",
       "\n",
       "    .dataframe thead th {\n",
       "        text-align: right;\n",
       "    }\n",
       "</style>\n",
       "<table border=\"1\" class=\"dataframe\">\n",
       "  <thead>\n",
       "    <tr style=\"text-align: right;\">\n",
       "      <th></th>\n",
       "      <th>Pos_tag</th>\n",
       "      <th>Genuine News</th>\n",
       "      <th>Fake News</th>\n",
       "    </tr>\n",
       "  </thead>\n",
       "  <tbody>\n",
       "    <tr>\n",
       "      <th>0</th>\n",
       "      <td>NN</td>\n",
       "      <td>47.937550</td>\n",
       "      <td>58.329998</td>\n",
       "    </tr>\n",
       "    <tr>\n",
       "      <th>1</th>\n",
       "      <td>RB</td>\n",
       "      <td>2.826293</td>\n",
       "      <td>2.718991</td>\n",
       "    </tr>\n",
       "    <tr>\n",
       "      <th>2</th>\n",
       "      <td>NNS</td>\n",
       "      <td>16.485008</td>\n",
       "      <td>13.858612</td>\n",
       "    </tr>\n",
       "    <tr>\n",
       "      <th>3</th>\n",
       "      <td>CD</td>\n",
       "      <td>9.609688</td>\n",
       "      <td>3.234539</td>\n",
       "    </tr>\n",
       "    <tr>\n",
       "      <th>4</th>\n",
       "      <td>JJ</td>\n",
       "      <td>8.321296</td>\n",
       "      <td>7.078792</td>\n",
       "    </tr>\n",
       "  </tbody>\n",
       "</table>\n",
       "</div>\n",
       "      <button class=\"colab-df-convert\" onclick=\"convertToInteractive('df-c0cd30f3-ca41-4b16-ac08-999f71ed39d5')\"\n",
       "              title=\"Convert this dataframe to an interactive table.\"\n",
       "              style=\"display:none;\">\n",
       "        \n",
       "  <svg xmlns=\"http://www.w3.org/2000/svg\" height=\"24px\"viewBox=\"0 0 24 24\"\n",
       "       width=\"24px\">\n",
       "    <path d=\"M0 0h24v24H0V0z\" fill=\"none\"/>\n",
       "    <path d=\"M18.56 5.44l.94 2.06.94-2.06 2.06-.94-2.06-.94-.94-2.06-.94 2.06-2.06.94zm-11 1L8.5 8.5l.94-2.06 2.06-.94-2.06-.94L8.5 2.5l-.94 2.06-2.06.94zm10 10l.94 2.06.94-2.06 2.06-.94-2.06-.94-.94-2.06-.94 2.06-2.06.94z\"/><path d=\"M17.41 7.96l-1.37-1.37c-.4-.4-.92-.59-1.43-.59-.52 0-1.04.2-1.43.59L10.3 9.45l-7.72 7.72c-.78.78-.78 2.05 0 2.83L4 21.41c.39.39.9.59 1.41.59.51 0 1.02-.2 1.41-.59l7.78-7.78 2.81-2.81c.8-.78.8-2.07 0-2.86zM5.41 20L4 18.59l7.72-7.72 1.47 1.35L5.41 20z\"/>\n",
       "  </svg>\n",
       "      </button>\n",
       "      \n",
       "  <style>\n",
       "    .colab-df-container {\n",
       "      display:flex;\n",
       "      flex-wrap:wrap;\n",
       "      gap: 12px;\n",
       "    }\n",
       "\n",
       "    .colab-df-convert {\n",
       "      background-color: #E8F0FE;\n",
       "      border: none;\n",
       "      border-radius: 50%;\n",
       "      cursor: pointer;\n",
       "      display: none;\n",
       "      fill: #1967D2;\n",
       "      height: 32px;\n",
       "      padding: 0 0 0 0;\n",
       "      width: 32px;\n",
       "    }\n",
       "\n",
       "    .colab-df-convert:hover {\n",
       "      background-color: #E2EBFA;\n",
       "      box-shadow: 0px 1px 2px rgba(60, 64, 67, 0.3), 0px 1px 3px 1px rgba(60, 64, 67, 0.15);\n",
       "      fill: #174EA6;\n",
       "    }\n",
       "\n",
       "    [theme=dark] .colab-df-convert {\n",
       "      background-color: #3B4455;\n",
       "      fill: #D2E3FC;\n",
       "    }\n",
       "\n",
       "    [theme=dark] .colab-df-convert:hover {\n",
       "      background-color: #434B5C;\n",
       "      box-shadow: 0px 1px 3px 1px rgba(0, 0, 0, 0.15);\n",
       "      filter: drop-shadow(0px 1px 2px rgba(0, 0, 0, 0.3));\n",
       "      fill: #FFFFFF;\n",
       "    }\n",
       "  </style>\n",
       "\n",
       "      <script>\n",
       "        const buttonEl =\n",
       "          document.querySelector('#df-c0cd30f3-ca41-4b16-ac08-999f71ed39d5 button.colab-df-convert');\n",
       "        buttonEl.style.display =\n",
       "          google.colab.kernel.accessAllowed ? 'block' : 'none';\n",
       "\n",
       "        async function convertToInteractive(key) {\n",
       "          const element = document.querySelector('#df-c0cd30f3-ca41-4b16-ac08-999f71ed39d5');\n",
       "          const dataTable =\n",
       "            await google.colab.kernel.invokeFunction('convertToInteractive',\n",
       "                                                     [key], {});\n",
       "          if (!dataTable) return;\n",
       "\n",
       "          const docLinkHtml = 'Like what you see? Visit the ' +\n",
       "            '<a target=\"_blank\" href=https://colab.research.google.com/notebooks/data_table.ipynb>data table notebook</a>'\n",
       "            + ' to learn more about interactive tables.';\n",
       "          element.innerHTML = '';\n",
       "          dataTable['output_type'] = 'display_data';\n",
       "          await google.colab.output.renderOutput(dataTable, element);\n",
       "          const docLink = document.createElement('div');\n",
       "          docLink.innerHTML = docLinkHtml;\n",
       "          element.appendChild(docLink);\n",
       "        }\n",
       "      </script>\n",
       "    </div>\n",
       "  </div>\n",
       "  "
      ],
      "text/plain": [
       "  Pos_tag  Genuine News  Fake News\n",
       "0      NN     47.937550  58.329998\n",
       "1      RB      2.826293   2.718991\n",
       "2     NNS     16.485008  13.858612\n",
       "3      CD      9.609688   3.234539\n",
       "4      JJ      8.321296   7.078792"
      ]
     },
     "execution_count": 16,
     "metadata": {},
     "output_type": "execute_result"
    }
   ],
   "source": [
    "pos_df['Genuine News'] = pos_df['Genuine News'] * 100 / pos_df['Genuine News'].sum()\n",
    "pos_df['Fake News'] = pos_df['Fake News'] * 100 / pos_df['Fake News'].sum()\n",
    "pos_df.head()"
   ]
  },
  {
   "cell_type": "markdown",
   "metadata": {
    "id": "W3avlMj93K-o"
   },
   "source": [
    "### Version based on our pre-processing"
   ]
  },
  {
   "cell_type": "code",
   "execution_count": 24,
   "metadata": {
    "executionInfo": {
     "elapsed": 215,
     "status": "ok",
     "timestamp": 1649752395659,
     "user": {
      "displayName": "Marco Schildt",
      "userId": "08365269881482043900"
     },
     "user_tz": -120
    },
    "id": "-QXMa8za4gnj"
   },
   "outputs": [],
   "source": [
    "train_df2 = pd.read_csv('https://raw.githubusercontent.com/smkerr/COVID-fake-news-detection/blob/main/data/original-data/Constraint_Train.csv', header=0)\n",
    "val_df2 = pd.read_csv('https://raw.githubusercontent.com/smkerr/COVID-fake-news-detection/main/data/original-data/Constraint_Val.csv', header=0)"
   ]
  },
  {
   "cell_type": "code",
   "execution_count": 25,
   "metadata": {
    "executionInfo": {
     "elapsed": 333,
     "status": "ok",
     "timestamp": 1649752396825,
     "user": {
      "displayName": "Marco Schildt",
      "userId": "08365269881482043900"
     },
     "user_tz": -120
    },
    "id": "K_Bmx4Fg3SUo"
   },
   "outputs": [],
   "source": [
    "stopwords = nltk.corpus.stopwords.words('english')\n",
    "\n",
    "def cleantext(string):\n",
    "    text = string.lower().split()\n",
    "    text = \" \".join(text)\n",
    "    text = re.sub(r\"http(\\S)+\",' ',text)    \n",
    "    text = re.sub(r\"www(\\S)+\",' ',text)\n",
    "    text = re.sub(r\"&\",' and ',text)  \n",
    "    tx = text.replace('&amp',' ')\n",
    "    text = re.sub(r\"[^a-zA-Z]+\",' ',text)\n",
    "    text = text.split()\n",
    "    text = [w for w in text if not w in stopwords]\n",
    "    #text = \" \".join(text)\n",
    "    return text"
   ]
  },
  {
   "cell_type": "code",
   "execution_count": 27,
   "metadata": {
    "executionInfo": {
     "elapsed": 936,
     "status": "ok",
     "timestamp": 1649752422572,
     "user": {
      "displayName": "Marco Schildt",
      "userId": "08365269881482043900"
     },
     "user_tz": -120
    },
    "id": "TCA7ejX33SeE"
   },
   "outputs": [],
   "source": [
    "train_df2['tweet'] = train_df2['tweet'].map(lambda x: cleantext(x))\n",
    "val_df2['tweet'] = val_df2['tweet'].map(lambda x: cleantext(x))"
   ]
  },
  {
   "cell_type": "code",
   "execution_count": 31,
   "metadata": {
    "colab": {
     "base_uri": "https://localhost:8080/",
     "height": 204
    },
    "executionInfo": {
     "elapsed": 325,
     "status": "ok",
     "timestamp": 1649752496509,
     "user": {
      "displayName": "Marco Schildt",
      "userId": "08365269881482043900"
     },
     "user_tz": -120
    },
    "id": "wbTuxoya3Sao",
    "outputId": "d6c09df7-7ba6-4100-9480-cdc828fc2b82"
   },
   "outputs": [
    {
     "data": {
      "text/html": [
       "\n",
       "  <div id=\"df-b9ec9391-1d65-4112-9527-3a69606500be\">\n",
       "    <div class=\"colab-df-container\">\n",
       "      <div>\n",
       "<style scoped>\n",
       "    .dataframe tbody tr th:only-of-type {\n",
       "        vertical-align: middle;\n",
       "    }\n",
       "\n",
       "    .dataframe tbody tr th {\n",
       "        vertical-align: top;\n",
       "    }\n",
       "\n",
       "    .dataframe thead th {\n",
       "        text-align: right;\n",
       "    }\n",
       "</style>\n",
       "<table border=\"1\" class=\"dataframe\">\n",
       "  <thead>\n",
       "    <tr style=\"text-align: right;\">\n",
       "      <th></th>\n",
       "      <th>id</th>\n",
       "      <th>tweet</th>\n",
       "      <th>label</th>\n",
       "    </tr>\n",
       "  </thead>\n",
       "  <tbody>\n",
       "    <tr>\n",
       "      <th>0</th>\n",
       "      <td>1</td>\n",
       "      <td>[cdc, currently, reports, deaths, general, dis...</td>\n",
       "      <td>real</td>\n",
       "    </tr>\n",
       "    <tr>\n",
       "      <th>1</th>\n",
       "      <td>2</td>\n",
       "      <td>[states, reported, deaths, small, rise, last, ...</td>\n",
       "      <td>real</td>\n",
       "    </tr>\n",
       "    <tr>\n",
       "      <th>2</th>\n",
       "      <td>3</td>\n",
       "      <td>[politically, correct, woman, almost, uses, pa...</td>\n",
       "      <td>fake</td>\n",
       "    </tr>\n",
       "    <tr>\n",
       "      <th>3</th>\n",
       "      <td>4</td>\n",
       "      <td>[indiafightscorona, covid, testing, laboratori...</td>\n",
       "      <td>real</td>\n",
       "    </tr>\n",
       "    <tr>\n",
       "      <th>4</th>\n",
       "      <td>5</td>\n",
       "      <td>[populous, states, generate, large, case, coun...</td>\n",
       "      <td>real</td>\n",
       "    </tr>\n",
       "  </tbody>\n",
       "</table>\n",
       "</div>\n",
       "      <button class=\"colab-df-convert\" onclick=\"convertToInteractive('df-b9ec9391-1d65-4112-9527-3a69606500be')\"\n",
       "              title=\"Convert this dataframe to an interactive table.\"\n",
       "              style=\"display:none;\">\n",
       "        \n",
       "  <svg xmlns=\"http://www.w3.org/2000/svg\" height=\"24px\"viewBox=\"0 0 24 24\"\n",
       "       width=\"24px\">\n",
       "    <path d=\"M0 0h24v24H0V0z\" fill=\"none\"/>\n",
       "    <path d=\"M18.56 5.44l.94 2.06.94-2.06 2.06-.94-2.06-.94-.94-2.06-.94 2.06-2.06.94zm-11 1L8.5 8.5l.94-2.06 2.06-.94-2.06-.94L8.5 2.5l-.94 2.06-2.06.94zm10 10l.94 2.06.94-2.06 2.06-.94-2.06-.94-.94-2.06-.94 2.06-2.06.94z\"/><path d=\"M17.41 7.96l-1.37-1.37c-.4-.4-.92-.59-1.43-.59-.52 0-1.04.2-1.43.59L10.3 9.45l-7.72 7.72c-.78.78-.78 2.05 0 2.83L4 21.41c.39.39.9.59 1.41.59.51 0 1.02-.2 1.41-.59l7.78-7.78 2.81-2.81c.8-.78.8-2.07 0-2.86zM5.41 20L4 18.59l7.72-7.72 1.47 1.35L5.41 20z\"/>\n",
       "  </svg>\n",
       "      </button>\n",
       "      \n",
       "  <style>\n",
       "    .colab-df-container {\n",
       "      display:flex;\n",
       "      flex-wrap:wrap;\n",
       "      gap: 12px;\n",
       "    }\n",
       "\n",
       "    .colab-df-convert {\n",
       "      background-color: #E8F0FE;\n",
       "      border: none;\n",
       "      border-radius: 50%;\n",
       "      cursor: pointer;\n",
       "      display: none;\n",
       "      fill: #1967D2;\n",
       "      height: 32px;\n",
       "      padding: 0 0 0 0;\n",
       "      width: 32px;\n",
       "    }\n",
       "\n",
       "    .colab-df-convert:hover {\n",
       "      background-color: #E2EBFA;\n",
       "      box-shadow: 0px 1px 2px rgba(60, 64, 67, 0.3), 0px 1px 3px 1px rgba(60, 64, 67, 0.15);\n",
       "      fill: #174EA6;\n",
       "    }\n",
       "\n",
       "    [theme=dark] .colab-df-convert {\n",
       "      background-color: #3B4455;\n",
       "      fill: #D2E3FC;\n",
       "    }\n",
       "\n",
       "    [theme=dark] .colab-df-convert:hover {\n",
       "      background-color: #434B5C;\n",
       "      box-shadow: 0px 1px 3px 1px rgba(0, 0, 0, 0.15);\n",
       "      filter: drop-shadow(0px 1px 2px rgba(0, 0, 0, 0.3));\n",
       "      fill: #FFFFFF;\n",
       "    }\n",
       "  </style>\n",
       "\n",
       "      <script>\n",
       "        const buttonEl =\n",
       "          document.querySelector('#df-b9ec9391-1d65-4112-9527-3a69606500be button.colab-df-convert');\n",
       "        buttonEl.style.display =\n",
       "          google.colab.kernel.accessAllowed ? 'block' : 'none';\n",
       "\n",
       "        async function convertToInteractive(key) {\n",
       "          const element = document.querySelector('#df-b9ec9391-1d65-4112-9527-3a69606500be');\n",
       "          const dataTable =\n",
       "            await google.colab.kernel.invokeFunction('convertToInteractive',\n",
       "                                                     [key], {});\n",
       "          if (!dataTable) return;\n",
       "\n",
       "          const docLinkHtml = 'Like what you see? Visit the ' +\n",
       "            '<a target=\"_blank\" href=https://colab.research.google.com/notebooks/data_table.ipynb>data table notebook</a>'\n",
       "            + ' to learn more about interactive tables.';\n",
       "          element.innerHTML = '';\n",
       "          dataTable['output_type'] = 'display_data';\n",
       "          await google.colab.output.renderOutput(dataTable, element);\n",
       "          const docLink = document.createElement('div');\n",
       "          docLink.innerHTML = docLinkHtml;\n",
       "          element.appendChild(docLink);\n",
       "        }\n",
       "      </script>\n",
       "    </div>\n",
       "  </div>\n",
       "  "
      ],
      "text/plain": [
       "   id                                              tweet label\n",
       "0   1  [cdc, currently, reports, deaths, general, dis...  real\n",
       "1   2  [states, reported, deaths, small, rise, last, ...  real\n",
       "2   3  [politically, correct, woman, almost, uses, pa...  fake\n",
       "3   4  [indiafightscorona, covid, testing, laboratori...  real\n",
       "4   5  [populous, states, generate, large, case, coun...  real"
      ]
     },
     "execution_count": 31,
     "metadata": {},
     "output_type": "execute_result"
    }
   ],
   "source": [
    "train_df2.head()"
   ]
  },
  {
   "cell_type": "code",
   "execution_count": 29,
   "metadata": {
    "executionInfo": {
     "elapsed": 218,
     "status": "ok",
     "timestamp": 1649752470922,
     "user": {
      "displayName": "Marco Schildt",
      "userId": "08365269881482043900"
     },
     "user_tz": -120
    },
    "id": "Tn94mhOO6LFZ"
   },
   "outputs": [],
   "source": [
    "all_tokenized_gen2 = [a for b in train_df2[train_df2['label']==\"real\"]['tweet'].tolist() for a in b]\n",
    "all_tokenized_fake2 = [a for b in train_df2[train_df2['label']==\"fake\"]['tweet'].tolist() for a in b]"
   ]
  },
  {
   "cell_type": "code",
   "execution_count": null,
   "metadata": {
    "id": "U9BOwxL46LCb"
   },
   "outputs": [],
   "source": [
    "all_tokenized_gen2"
   ]
  },
  {
   "cell_type": "code",
   "execution_count": 32,
   "metadata": {
    "executionInfo": {
     "elapsed": 7,
     "status": "ok",
     "timestamp": 1649752524986,
     "user": {
      "displayName": "Marco Schildt",
      "userId": "08365269881482043900"
     },
     "user_tz": -120
    },
    "id": "bfissDn-6LAF"
   },
   "outputs": [],
   "source": [
    "def get_post_tags_list(tokenized_articles):\n",
    "  all_pos_tags = []\n",
    "  for word in tokenized_articles:\n",
    "    pos_tag = nltk.pos_tag([word])[0][1]\n",
    "    all_pos_tags.append(pos_tag)\n",
    "  return all_pos_tags"
   ]
  },
  {
   "cell_type": "code",
   "execution_count": 34,
   "metadata": {
    "executionInfo": {
     "elapsed": 19873,
     "status": "ok",
     "timestamp": 1649752579890,
     "user": {
      "displayName": "Marco Schildt",
      "userId": "08365269881482043900"
     },
     "user_tz": -120
    },
    "id": "YOFUVo616K-D"
   },
   "outputs": [],
   "source": [
    "all_pos_tagged_word_gen2 = get_post_tags_list(all_tokenized_gen2)\n",
    "all_pos_tagged_word_fake2 = get_post_tags_list(all_tokenized_fake2)"
   ]
  },
  {
   "cell_type": "code",
   "execution_count": 62,
   "metadata": {
    "colab": {
     "base_uri": "https://localhost:8080/"
    },
    "executionInfo": {
     "elapsed": 285,
     "status": "ok",
     "timestamp": 1649753717005,
     "user": {
      "displayName": "Marco Schildt",
      "userId": "08365269881482043900"
     },
     "user_tz": -120
    },
    "id": "Wzhk0gR46K7s",
    "outputId": "34f34500-efb5-4906-bdfa-3f4052c57e78"
   },
   "outputs": [
    {
     "data": {
      "text/plain": [
       "(['NN', 'RB', 'NNS', 'NNS', 'JJ'], ['RB', 'NN', 'NN', 'RB', 'NNS'])"
      ]
     },
     "execution_count": 62,
     "metadata": {},
     "output_type": "execute_result"
    }
   ],
   "source": [
    "all_pos_tagged_word_gen2[:5], all_pos_tagged_word_fake2[:5]"
   ]
  },
  {
   "cell_type": "code",
   "execution_count": 63,
   "metadata": {
    "executionInfo": {
     "elapsed": 2,
     "status": "ok",
     "timestamp": 1649753717771,
     "user": {
      "displayName": "Marco Schildt",
      "userId": "08365269881482043900"
     },
     "user_tz": -120
    },
    "id": "tL0ilkTV6K5g"
   },
   "outputs": [],
   "source": [
    "gen_pos_df2 = pd.DataFrame(dict(Counter(all_pos_tagged_word_gen2)).items(), columns=['Pos_tag', 'Genuine News'])\n",
    "fake_pos_df2 = pd.DataFrame(dict(Counter(all_pos_tagged_word_fake2)).items(), columns=['Pos_tag', 'Fake News'])"
   ]
  },
  {
   "cell_type": "code",
   "execution_count": 64,
   "metadata": {
    "executionInfo": {
     "elapsed": 2,
     "status": "ok",
     "timestamp": 1649753718498,
     "user": {
      "displayName": "Marco Schildt",
      "userId": "08365269881482043900"
     },
     "user_tz": -120
    },
    "id": "_BLHohw06K3W"
   },
   "outputs": [],
   "source": [
    "pos_df2 = gen_pos_df2.merge(fake_pos_df2, on='Pos_tag')"
   ]
  },
  {
   "cell_type": "code",
   "execution_count": 65,
   "metadata": {
    "colab": {
     "base_uri": "https://localhost:8080/",
     "height": 204
    },
    "executionInfo": {
     "elapsed": 355,
     "status": "ok",
     "timestamp": 1649753719464,
     "user": {
      "displayName": "Marco Schildt",
      "userId": "08365269881482043900"
     },
     "user_tz": -120
    },
    "id": "SJNy7h5560CM",
    "outputId": "b978e1b4-adc6-484c-acb6-c8979679c1cf"
   },
   "outputs": [
    {
     "data": {
      "text/html": [
       "\n",
       "  <div id=\"df-98f54a63-bea5-4205-94f0-530173de055b\">\n",
       "    <div class=\"colab-df-container\">\n",
       "      <div>\n",
       "<style scoped>\n",
       "    .dataframe tbody tr th:only-of-type {\n",
       "        vertical-align: middle;\n",
       "    }\n",
       "\n",
       "    .dataframe tbody tr th {\n",
       "        vertical-align: top;\n",
       "    }\n",
       "\n",
       "    .dataframe thead th {\n",
       "        text-align: right;\n",
       "    }\n",
       "</style>\n",
       "<table border=\"1\" class=\"dataframe\">\n",
       "  <thead>\n",
       "    <tr style=\"text-align: right;\">\n",
       "      <th></th>\n",
       "      <th>Pos_tag</th>\n",
       "      <th>Genuine News</th>\n",
       "      <th>Fake News</th>\n",
       "    </tr>\n",
       "  </thead>\n",
       "  <tbody>\n",
       "    <tr>\n",
       "      <th>0</th>\n",
       "      <td>NN</td>\n",
       "      <td>51.321888</td>\n",
       "      <td>59.684574</td>\n",
       "    </tr>\n",
       "    <tr>\n",
       "      <th>1</th>\n",
       "      <td>RB</td>\n",
       "      <td>3.201906</td>\n",
       "      <td>2.863480</td>\n",
       "    </tr>\n",
       "    <tr>\n",
       "      <th>2</th>\n",
       "      <td>NNS</td>\n",
       "      <td>18.542333</td>\n",
       "      <td>14.413504</td>\n",
       "    </tr>\n",
       "    <tr>\n",
       "      <th>3</th>\n",
       "      <td>JJ</td>\n",
       "      <td>9.462106</td>\n",
       "      <td>7.592410</td>\n",
       "    </tr>\n",
       "    <tr>\n",
       "      <th>4</th>\n",
       "      <td>VBD</td>\n",
       "      <td>1.390430</td>\n",
       "      <td>1.444061</td>\n",
       "    </tr>\n",
       "  </tbody>\n",
       "</table>\n",
       "</div>\n",
       "      <button class=\"colab-df-convert\" onclick=\"convertToInteractive('df-98f54a63-bea5-4205-94f0-530173de055b')\"\n",
       "              title=\"Convert this dataframe to an interactive table.\"\n",
       "              style=\"display:none;\">\n",
       "        \n",
       "  <svg xmlns=\"http://www.w3.org/2000/svg\" height=\"24px\"viewBox=\"0 0 24 24\"\n",
       "       width=\"24px\">\n",
       "    <path d=\"M0 0h24v24H0V0z\" fill=\"none\"/>\n",
       "    <path d=\"M18.56 5.44l.94 2.06.94-2.06 2.06-.94-2.06-.94-.94-2.06-.94 2.06-2.06.94zm-11 1L8.5 8.5l.94-2.06 2.06-.94-2.06-.94L8.5 2.5l-.94 2.06-2.06.94zm10 10l.94 2.06.94-2.06 2.06-.94-2.06-.94-.94-2.06-.94 2.06-2.06.94z\"/><path d=\"M17.41 7.96l-1.37-1.37c-.4-.4-.92-.59-1.43-.59-.52 0-1.04.2-1.43.59L10.3 9.45l-7.72 7.72c-.78.78-.78 2.05 0 2.83L4 21.41c.39.39.9.59 1.41.59.51 0 1.02-.2 1.41-.59l7.78-7.78 2.81-2.81c.8-.78.8-2.07 0-2.86zM5.41 20L4 18.59l7.72-7.72 1.47 1.35L5.41 20z\"/>\n",
       "  </svg>\n",
       "      </button>\n",
       "      \n",
       "  <style>\n",
       "    .colab-df-container {\n",
       "      display:flex;\n",
       "      flex-wrap:wrap;\n",
       "      gap: 12px;\n",
       "    }\n",
       "\n",
       "    .colab-df-convert {\n",
       "      background-color: #E8F0FE;\n",
       "      border: none;\n",
       "      border-radius: 50%;\n",
       "      cursor: pointer;\n",
       "      display: none;\n",
       "      fill: #1967D2;\n",
       "      height: 32px;\n",
       "      padding: 0 0 0 0;\n",
       "      width: 32px;\n",
       "    }\n",
       "\n",
       "    .colab-df-convert:hover {\n",
       "      background-color: #E2EBFA;\n",
       "      box-shadow: 0px 1px 2px rgba(60, 64, 67, 0.3), 0px 1px 3px 1px rgba(60, 64, 67, 0.15);\n",
       "      fill: #174EA6;\n",
       "    }\n",
       "\n",
       "    [theme=dark] .colab-df-convert {\n",
       "      background-color: #3B4455;\n",
       "      fill: #D2E3FC;\n",
       "    }\n",
       "\n",
       "    [theme=dark] .colab-df-convert:hover {\n",
       "      background-color: #434B5C;\n",
       "      box-shadow: 0px 1px 3px 1px rgba(0, 0, 0, 0.15);\n",
       "      filter: drop-shadow(0px 1px 2px rgba(0, 0, 0, 0.3));\n",
       "      fill: #FFFFFF;\n",
       "    }\n",
       "  </style>\n",
       "\n",
       "      <script>\n",
       "        const buttonEl =\n",
       "          document.querySelector('#df-98f54a63-bea5-4205-94f0-530173de055b button.colab-df-convert');\n",
       "        buttonEl.style.display =\n",
       "          google.colab.kernel.accessAllowed ? 'block' : 'none';\n",
       "\n",
       "        async function convertToInteractive(key) {\n",
       "          const element = document.querySelector('#df-98f54a63-bea5-4205-94f0-530173de055b');\n",
       "          const dataTable =\n",
       "            await google.colab.kernel.invokeFunction('convertToInteractive',\n",
       "                                                     [key], {});\n",
       "          if (!dataTable) return;\n",
       "\n",
       "          const docLinkHtml = 'Like what you see? Visit the ' +\n",
       "            '<a target=\"_blank\" href=https://colab.research.google.com/notebooks/data_table.ipynb>data table notebook</a>'\n",
       "            + ' to learn more about interactive tables.';\n",
       "          element.innerHTML = '';\n",
       "          dataTable['output_type'] = 'display_data';\n",
       "          await google.colab.output.renderOutput(dataTable, element);\n",
       "          const docLink = document.createElement('div');\n",
       "          docLink.innerHTML = docLinkHtml;\n",
       "          element.appendChild(docLink);\n",
       "        }\n",
       "      </script>\n",
       "    </div>\n",
       "  </div>\n",
       "  "
      ],
      "text/plain": [
       "  Pos_tag  Genuine News  Fake News\n",
       "0      NN     51.321888  59.684574\n",
       "1      RB      3.201906   2.863480\n",
       "2     NNS     18.542333  14.413504\n",
       "3      JJ      9.462106   7.592410\n",
       "4     VBD      1.390430   1.444061"
      ]
     },
     "execution_count": 65,
     "metadata": {},
     "output_type": "execute_result"
    }
   ],
   "source": [
    "pos_df2['Genuine News'] = pos_df2['Genuine News'] * 100 / pos_df2['Genuine News'].sum()\n",
    "pos_df2['Fake News'] = pos_df2['Fake News'] * 100 / pos_df2['Fake News'].sum()\n",
    "pos_df2.head()"
   ]
  },
  {
   "cell_type": "code",
   "execution_count": 45,
   "metadata": {
    "colab": {
     "base_uri": "https://localhost:8080/"
    },
    "executionInfo": {
     "elapsed": 227,
     "status": "ok",
     "timestamp": 1649753003809,
     "user": {
      "displayName": "Marco Schildt",
      "userId": "08365269881482043900"
     },
     "user_tz": -120
    },
    "id": "GXyAxc8_8Q8-",
    "outputId": "b3565be4-2627-4048-870d-d4c7223b80bf"
   },
   "outputs": [
    {
     "name": "stdout",
     "output_type": "stream",
     "text": [
      "[nltk_data] Downloading package tagsets to /root/nltk_data...\n",
      "[nltk_data]   Unzipping help/tagsets.zip.\n"
     ]
    },
    {
     "data": {
      "text/plain": [
       "True"
      ]
     },
     "execution_count": 45,
     "metadata": {},
     "output_type": "execute_result"
    }
   ],
   "source": [
    "nltk.download('tagsets')"
   ]
  },
  {
   "cell_type": "code",
   "execution_count": 70,
   "metadata": {
    "colab": {
     "base_uri": "https://localhost:8080/"
    },
    "executionInfo": {
     "elapsed": 234,
     "status": "ok",
     "timestamp": 1649754186214,
     "user": {
      "displayName": "Marco Schildt",
      "userId": "08365269881482043900"
     },
     "user_tz": -120
    },
    "id": "ORs1_Vnt76HU",
    "outputId": "40576091-c7c7-432c-f569-487962b5e7e4"
   },
   "outputs": [
    {
     "name": "stdout",
     "output_type": "stream",
     "text": [
      "VBD: verb, past tense\n",
      "    dipped pleaded swiped regummed soaked tidied convened halted registered\n",
      "    cushioned exacted snubbed strode aimed adopted belied figgered\n",
      "    speculated wore appreciated contemplated ...\n"
     ]
    }
   ],
   "source": [
    "nltk.help.upenn_tagset(\"VBD\")"
   ]
  }
 ],
 "metadata": {
  "colab": {
   "authorship_tag": "ABX9TyM6eOHr1/1TlN+yDitdVR/t",
   "name": "POS_Tag_Counts.ipynb",
   "provenance": []
  },
  "kernelspec": {
   "display_name": "Python 3",
   "language": "python",
   "name": "python3"
  },
  "language_info": {
   "codemirror_mode": {
    "name": "ipython",
    "version": 3
   },
   "file_extension": ".py",
   "mimetype": "text/x-python",
   "name": "python",
   "nbconvert_exporter": "python",
   "pygments_lexer": "ipython3",
   "version": "3.8.8"
  }
 },
 "nbformat": 4,
 "nbformat_minor": 1
}
