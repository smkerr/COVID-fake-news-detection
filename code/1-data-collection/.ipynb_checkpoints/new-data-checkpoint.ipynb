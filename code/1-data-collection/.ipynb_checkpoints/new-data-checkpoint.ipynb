{
 "cells": [
  {
   "cell_type": "code",
   "execution_count": 1,
   "metadata": {
    "executionInfo": {
     "elapsed": 1216,
     "status": "ok",
     "timestamp": 1651047264409,
     "user": {
      "displayName": "Hannah Schweren",
      "userId": "17418859482307087546"
     },
     "user_tz": -120
    },
    "id": "6w8szcYuFJz1"
   },
   "outputs": [],
   "source": [
    "import pandas as pd"
   ]
  },
  {
   "cell_type": "code",
   "execution_count": 2,
   "metadata": {
    "executionInfo": {
     "elapsed": 4,
     "status": "ok",
     "timestamp": 1651047264741,
     "user": {
      "displayName": "Hannah Schweren",
      "userId": "17418859482307087546"
     },
     "user_tz": -120
    },
    "id": "h6YkMZxrFae-"
   },
   "outputs": [],
   "source": [
    "real_news = pd.read_csv(\"real_data_raw_noRT3.csv\")\n",
    "fake_data = pd.read_csv(\"FakeNews.csv\")"
   ]
  },
  {
   "cell_type": "code",
   "execution_count": 4,
   "metadata": {
    "colab": {
     "base_uri": "https://localhost:8080/"
    },
    "executionInfo": {
     "elapsed": 243,
     "status": "ok",
     "timestamp": 1651047632938,
     "user": {
      "displayName": "Hannah Schweren",
      "userId": "17418859482307087546"
     },
     "user_tz": -120
    },
    "id": "wvJUYUPjFqw7",
    "outputId": "157ca3dc-e815-4c1f-e20e-d69e70106dad"
   },
   "outputs": [
    {
     "name": "stdout",
     "output_type": "stream",
     "text": [
      "     Unnamed: 0                                              Tweet\n",
      "2             2  Did you know? \\nOf nearly 5.7 billion #COVID19...\n",
      "4             4  Vaccines accompany us through our life-course ...\n",
      "10           10  Two years into the pandemic, we ask “what will...\n",
      "13           13  Yesterday, @DrTedros met with #Nepal’s Preside...\n",
      "17           17  📣 WHO updates its recommendations for the use ...\n",
      "..          ...                                                ...\n",
      "366         366  #AmritMahotsav\\n#Unite2FightCorona\\n#LargestVa...\n",
      "368         368  #Unite2FightCorona \\n#AmritMahotsav https://t....\n",
      "370         370  #LargestVaccineDrive \\n#Unite2FightCorona \\n#A...\n",
      "371         371  #LargestVaccineDrive \\n#Unite2FightCorona \\n#A...\n",
      "372         372  #AmritMahotsav\\n#Unite2FightCorona\\n#LargestVa...\n",
      "\n",
      "[100 rows x 2 columns]\n"
     ]
    },
    {
     "name": "stderr",
     "output_type": "stream",
     "text": [
      "/usr/local/lib/python3.7/dist-packages/ipykernel_launcher.py:1: UserWarning: This pattern has match groups. To actually get the groups, use str.extract.\n",
      "  \"\"\"Entry point for launching an IPython kernel.\n"
     ]
    }
   ],
   "source": [
    "real_news = real_news.loc[real_news.Tweet.str.contains('(C|c)ovid|COVID|(C|c)orona|CORONA|SARS-CoV-2'),:]\n",
    "\n",
    "print(real_news)"
   ]
  },
  {
   "cell_type": "code",
   "execution_count": 5,
   "metadata": {
    "executionInfo": {
     "elapsed": 222,
     "status": "ok",
     "timestamp": 1651047644285,
     "user": {
      "displayName": "Hannah Schweren",
      "userId": "17418859482307087546"
     },
     "user_tz": -120
    },
    "id": "OBwzS8L8FtXk"
   },
   "outputs": [],
   "source": [
    "#real_news = real_news.reset_index(drop=True, inplace=)\n",
    "real_news['label'] = 'real'\n",
    "fake_data['label'] = 'fake'"
   ]
  },
  {
   "cell_type": "code",
   "execution_count": 6,
   "metadata": {
    "executionInfo": {
     "elapsed": 237,
     "status": "ok",
     "timestamp": 1651047647904,
     "user": {
      "displayName": "Hannah Schweren",
      "userId": "17418859482307087546"
     },
     "user_tz": -120
    },
    "id": "ssUD5ogsGiPf"
   },
   "outputs": [],
   "source": [
    "real_news = real_news.rename(columns = {'Tweet':'statement'})\n"
   ]
  },
  {
   "cell_type": "code",
   "execution_count": 7,
   "metadata": {
    "colab": {
     "base_uri": "https://localhost:8080/"
    },
    "executionInfo": {
     "elapsed": 223,
     "status": "ok",
     "timestamp": 1651047652745,
     "user": {
      "displayName": "Hannah Schweren",
      "userId": "17418859482307087546"
     },
     "user_tz": -120
    },
    "id": "rUHzWbQtHz8m",
    "outputId": "9b088760-862b-4fba-c5df-190a42066462"
   },
   "outputs": [
    {
     "name": "stdout",
     "output_type": "stream",
     "text": [
      "     Unnamed: 0                                          statement label\n",
      "2             2  Did you know? \\nOf nearly 5.7 billion #COVID19...  real\n",
      "4             4  Vaccines accompany us through our life-course ...  real\n",
      "10           10  Two years into the pandemic, we ask “what will...  real\n",
      "13           13  Yesterday, @DrTedros met with #Nepal’s Preside...  real\n",
      "17           17  📣 WHO updates its recommendations for the use ...  real\n",
      "..          ...                                                ...   ...\n",
      "366         366  #AmritMahotsav\\n#Unite2FightCorona\\n#LargestVa...  real\n",
      "368         368  #Unite2FightCorona \\n#AmritMahotsav https://t....  real\n",
      "370         370  #LargestVaccineDrive \\n#Unite2FightCorona \\n#A...  real\n",
      "371         371  #LargestVaccineDrive \\n#Unite2FightCorona \\n#A...  real\n",
      "372         372  #AmritMahotsav\\n#Unite2FightCorona\\n#LargestVa...  real\n",
      "\n",
      "[100 rows x 3 columns]\n"
     ]
    }
   ],
   "source": [
    "print(real_news)"
   ]
  },
  {
   "cell_type": "code",
   "execution_count": 8,
   "metadata": {
    "colab": {
     "base_uri": "https://localhost:8080/",
     "height": 419
    },
    "executionInfo": {
     "elapsed": 331,
     "status": "ok",
     "timestamp": 1651047657480,
     "user": {
      "displayName": "Hannah Schweren",
      "userId": "17418859482307087546"
     },
     "user_tz": -120
    },
    "id": "q8oq9ZciIuPq",
    "outputId": "c3134b66-a4dc-44b1-f92d-cb9a633f0b81"
   },
   "outputs": [
    {
     "data": {
      "text/html": [
       "\n",
       "  <div id=\"df-a7f5ed67-8285-4652-84e0-5aada917459c\">\n",
       "    <div class=\"colab-df-container\">\n",
       "      <div>\n",
       "<style scoped>\n",
       "    .dataframe tbody tr th:only-of-type {\n",
       "        vertical-align: middle;\n",
       "    }\n",
       "\n",
       "    .dataframe tbody tr th {\n",
       "        vertical-align: top;\n",
       "    }\n",
       "\n",
       "    .dataframe thead th {\n",
       "        text-align: right;\n",
       "    }\n",
       "</style>\n",
       "<table border=\"1\" class=\"dataframe\">\n",
       "  <thead>\n",
       "    <tr style=\"text-align: right;\">\n",
       "      <th></th>\n",
       "      <th>statement</th>\n",
       "      <th>label</th>\n",
       "    </tr>\n",
       "  </thead>\n",
       "  <tbody>\n",
       "    <tr>\n",
       "      <th>0</th>\n",
       "      <td>Did you know? \\nOf nearly 5.7 billion #COVID19...</td>\n",
       "      <td>real</td>\n",
       "    </tr>\n",
       "    <tr>\n",
       "      <th>1</th>\n",
       "      <td>Vaccines accompany us through our life-course ...</td>\n",
       "      <td>real</td>\n",
       "    </tr>\n",
       "    <tr>\n",
       "      <th>2</th>\n",
       "      <td>Two years into the pandemic, we ask “what will...</td>\n",
       "      <td>real</td>\n",
       "    </tr>\n",
       "    <tr>\n",
       "      <th>3</th>\n",
       "      <td>Yesterday, @DrTedros met with #Nepal’s Preside...</td>\n",
       "      <td>real</td>\n",
       "    </tr>\n",
       "    <tr>\n",
       "      <th>4</th>\n",
       "      <td>📣 WHO updates its recommendations for the use ...</td>\n",
       "      <td>real</td>\n",
       "    </tr>\n",
       "    <tr>\n",
       "      <th>...</th>\n",
       "      <td>...</td>\n",
       "      <td>...</td>\n",
       "    </tr>\n",
       "    <tr>\n",
       "      <th>194</th>\n",
       "      <td>\"Total deaths from COVID MUCH LOWER than repor...</td>\n",
       "      <td>fake</td>\n",
       "    </tr>\n",
       "    <tr>\n",
       "      <th>195</th>\n",
       "      <td>Estimated annual COVID-19 deaths in the U.S. t...</td>\n",
       "      <td>fake</td>\n",
       "    </tr>\n",
       "    <tr>\n",
       "      <th>196</th>\n",
       "      <td>Walgreens refrigerators are scanning shoppers’...</td>\n",
       "      <td>fake</td>\n",
       "    </tr>\n",
       "    <tr>\n",
       "      <th>197</th>\n",
       "      <td>Says Betty White said Dec. 28, days before she...</td>\n",
       "      <td>fake</td>\n",
       "    </tr>\n",
       "    <tr>\n",
       "      <th>198</th>\n",
       "      <td>“Six-month Pfizer data show COVID vaccine caus...</td>\n",
       "      <td>fake</td>\n",
       "    </tr>\n",
       "  </tbody>\n",
       "</table>\n",
       "<p>199 rows × 2 columns</p>\n",
       "</div>\n",
       "      <button class=\"colab-df-convert\" onclick=\"convertToInteractive('df-a7f5ed67-8285-4652-84e0-5aada917459c')\"\n",
       "              title=\"Convert this dataframe to an interactive table.\"\n",
       "              style=\"display:none;\">\n",
       "        \n",
       "  <svg xmlns=\"http://www.w3.org/2000/svg\" height=\"24px\"viewBox=\"0 0 24 24\"\n",
       "       width=\"24px\">\n",
       "    <path d=\"M0 0h24v24H0V0z\" fill=\"none\"/>\n",
       "    <path d=\"M18.56 5.44l.94 2.06.94-2.06 2.06-.94-2.06-.94-.94-2.06-.94 2.06-2.06.94zm-11 1L8.5 8.5l.94-2.06 2.06-.94-2.06-.94L8.5 2.5l-.94 2.06-2.06.94zm10 10l.94 2.06.94-2.06 2.06-.94-2.06-.94-.94-2.06-.94 2.06-2.06.94z\"/><path d=\"M17.41 7.96l-1.37-1.37c-.4-.4-.92-.59-1.43-.59-.52 0-1.04.2-1.43.59L10.3 9.45l-7.72 7.72c-.78.78-.78 2.05 0 2.83L4 21.41c.39.39.9.59 1.41.59.51 0 1.02-.2 1.41-.59l7.78-7.78 2.81-2.81c.8-.78.8-2.07 0-2.86zM5.41 20L4 18.59l7.72-7.72 1.47 1.35L5.41 20z\"/>\n",
       "  </svg>\n",
       "      </button>\n",
       "      \n",
       "  <style>\n",
       "    .colab-df-container {\n",
       "      display:flex;\n",
       "      flex-wrap:wrap;\n",
       "      gap: 12px;\n",
       "    }\n",
       "\n",
       "    .colab-df-convert {\n",
       "      background-color: #E8F0FE;\n",
       "      border: none;\n",
       "      border-radius: 50%;\n",
       "      cursor: pointer;\n",
       "      display: none;\n",
       "      fill: #1967D2;\n",
       "      height: 32px;\n",
       "      padding: 0 0 0 0;\n",
       "      width: 32px;\n",
       "    }\n",
       "\n",
       "    .colab-df-convert:hover {\n",
       "      background-color: #E2EBFA;\n",
       "      box-shadow: 0px 1px 2px rgba(60, 64, 67, 0.3), 0px 1px 3px 1px rgba(60, 64, 67, 0.15);\n",
       "      fill: #174EA6;\n",
       "    }\n",
       "\n",
       "    [theme=dark] .colab-df-convert {\n",
       "      background-color: #3B4455;\n",
       "      fill: #D2E3FC;\n",
       "    }\n",
       "\n",
       "    [theme=dark] .colab-df-convert:hover {\n",
       "      background-color: #434B5C;\n",
       "      box-shadow: 0px 1px 3px 1px rgba(0, 0, 0, 0.15);\n",
       "      filter: drop-shadow(0px 1px 2px rgba(0, 0, 0, 0.3));\n",
       "      fill: #FFFFFF;\n",
       "    }\n",
       "  </style>\n",
       "\n",
       "      <script>\n",
       "        const buttonEl =\n",
       "          document.querySelector('#df-a7f5ed67-8285-4652-84e0-5aada917459c button.colab-df-convert');\n",
       "        buttonEl.style.display =\n",
       "          google.colab.kernel.accessAllowed ? 'block' : 'none';\n",
       "\n",
       "        async function convertToInteractive(key) {\n",
       "          const element = document.querySelector('#df-a7f5ed67-8285-4652-84e0-5aada917459c');\n",
       "          const dataTable =\n",
       "            await google.colab.kernel.invokeFunction('convertToInteractive',\n",
       "                                                     [key], {});\n",
       "          if (!dataTable) return;\n",
       "\n",
       "          const docLinkHtml = 'Like what you see? Visit the ' +\n",
       "            '<a target=\"_blank\" href=https://colab.research.google.com/notebooks/data_table.ipynb>data table notebook</a>'\n",
       "            + ' to learn more about interactive tables.';\n",
       "          element.innerHTML = '';\n",
       "          dataTable['output_type'] = 'display_data';\n",
       "          await google.colab.output.renderOutput(dataTable, element);\n",
       "          const docLink = document.createElement('div');\n",
       "          docLink.innerHTML = docLinkHtml;\n",
       "          element.appendChild(docLink);\n",
       "        }\n",
       "      </script>\n",
       "    </div>\n",
       "  </div>\n",
       "  "
      ],
      "text/plain": [
       "                                             statement label\n",
       "0    Did you know? \\nOf nearly 5.7 billion #COVID19...  real\n",
       "1    Vaccines accompany us through our life-course ...  real\n",
       "2    Two years into the pandemic, we ask “what will...  real\n",
       "3    Yesterday, @DrTedros met with #Nepal’s Preside...  real\n",
       "4    📣 WHO updates its recommendations for the use ...  real\n",
       "..                                                 ...   ...\n",
       "194  \"Total deaths from COVID MUCH LOWER than repor...  fake\n",
       "195  Estimated annual COVID-19 deaths in the U.S. t...  fake\n",
       "196  Walgreens refrigerators are scanning shoppers’...  fake\n",
       "197  Says Betty White said Dec. 28, days before she...  fake\n",
       "198  “Six-month Pfizer data show COVID vaccine caus...  fake\n",
       "\n",
       "[199 rows x 2 columns]"
      ]
     },
     "execution_count": 8,
     "metadata": {},
     "output_type": "execute_result"
    }
   ],
   "source": [
    "frames = [real_news, fake_data]\n",
    "fake_real_data = pd.concat(frames)\n",
    "fake_real_data = fake_real_data.iloc[: , 1:]\n",
    "fake_real_data.reset_index(drop=True, inplace=False)"
   ]
  },
  {
   "cell_type": "code",
   "execution_count": 9,
   "metadata": {
    "colab": {
     "base_uri": "https://localhost:8080/"
    },
    "executionInfo": {
     "elapsed": 14404,
     "status": "ok",
     "timestamp": 1651047676301,
     "user": {
      "displayName": "Hannah Schweren",
      "userId": "17418859482307087546"
     },
     "user_tz": -120
    },
    "id": "sa8miNc9wMMy",
    "outputId": "b938068d-058c-4cb0-ae24-be13b3c45c74"
   },
   "outputs": [
    {
     "name": "stdout",
     "output_type": "stream",
     "text": [
      "Mounted at drive\n"
     ]
    }
   ],
   "source": [
    "from google.colab import drive\n",
    "drive.mount('drive')\n",
    "\n",
    "fake_real_data.to_csv('/content/drive/MyDrive/Final Project/COVID-fake-news-detection/New data/Data/new_data.csv', encoding='utf-8')"
   ]
  }
 ],
 "metadata": {
  "colab": {
   "authorship_tag": "ABX9TyN/+EWpaeic/CDxM/FMPr6B",
   "name": "newdata.ipynb",
   "provenance": []
  },
  "kernelspec": {
   "display_name": "Python 3",
   "language": "python",
   "name": "python3"
  },
  "language_info": {
   "codemirror_mode": {
    "name": "ipython",
    "version": 3
   },
   "file_extension": ".py",
   "mimetype": "text/x-python",
   "name": "python",
   "nbconvert_exporter": "python",
   "pygments_lexer": "ipython3",
   "version": "3.8.8"
  }
 },
 "nbformat": 4,
 "nbformat_minor": 1
}
