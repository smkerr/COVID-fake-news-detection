{
  "nbformat": 4,
  "nbformat_minor": 0,
  "metadata": {
    "colab": {
      "name": "tuning-SVM.ipynb",
      "provenance": [],
      "authorship_tag": "ABX9TyO3SGEF/TnxZwz1+tNzWBek"
    },
    "kernelspec": {
      "name": "python3",
      "display_name": "Python 3"
    },
    "language_info": {
      "name": "python"
    }
  },
  "cells": [
    {
      "cell_type": "markdown",
      "source": [
        "# Hyperparameter Tuning\n"
      ],
      "metadata": {
        "id": "daXzkq5PPmM2"
      }
    },
    {
      "cell_type": "markdown",
      "source": [
        "## Setup"
      ],
      "metadata": {
        "id": "GUp2B-OxvOOP"
      }
    },
    {
      "cell_type": "code",
      "execution_count": 1,
      "metadata": {
        "id": "CP2WjObTnUMM"
      },
      "outputs": [],
      "source": [
        "# import depedencies\n",
        "import pandas as pd \n",
        "import numpy as np\n",
        "from sklearn import model_selection\n",
        "from sklearn.svm import SVC\n",
        "from sklearn.metrics import confusion_matrix, classification_report, accuracy_score, precision_score, recall_score, f1_score\n",
        "from sklearn.feature_extraction.text import CountVectorizer, TfidfTransformer\n",
        "import matplotlib.pyplot as plt \n",
        "import itertools"
      ]
    },
    {
      "cell_type": "code",
      "source": [
        "# load & clean data \n",
        "train = pd.read_csv('https://raw.githubusercontent.com/smkerr/COVID-fake-news-detection/main/data/Constraint_Train.csv', header=0)\n",
        "train_clean = train[train[\"tweet\"].map(len) <= 280].drop_duplicates() # drop posts longer than 280 characters & drop duplicates\n",
        "X_train, y_train = train_clean[\"tweet\"], train_clean[\"label\"]\n",
        "\n",
        "\n",
        "val = pd.read_csv('https://raw.githubusercontent.com/smkerr/COVID-fake-news-detection/main/data/Constraint_Val.csv', header=0)\n",
        "val_clean = val[val[\"tweet\"].map(len) <= 280].drop_duplicates()  # drop posts longer than 280 characters & drop duplicates\n",
        "X_val, y_val = val_clean[\"tweet\"], val_clean[\"label\"]"
      ],
      "metadata": {
        "id": "ktBa4wVIqoIN"
      },
      "execution_count": 2,
      "outputs": []
    },
    {
      "cell_type": "markdown",
      "source": [
        "# Pre-Processing"
      ],
      "metadata": {
        "id": "CBobXic98hUT"
      }
    },
    {
      "cell_type": "code",
      "source": [
        "# Import label encoder\n",
        "from sklearn import preprocessing\n",
        " \n",
        "# label_encoder object knows how to understand word labels.\n",
        "label_encoder = preprocessing.LabelEncoder()\n",
        "\n",
        "# Encode labels in column 'label'.\n",
        "y_train = label_encoder.fit_transform(y_train)\n",
        "y_val = label_encoder.fit_transform(y_val)\n",
        "#y_test = label_encoder.fit_transform(y_test)"
      ],
      "metadata": {
        "id": "7rUfnUZj8e4Y"
      },
      "execution_count": 3,
      "outputs": []
    },
    {
      "cell_type": "code",
      "source": [
        "import nltk \n",
        "import re\n",
        "from nltk.stem import WordNetLemmatizer\n",
        "lemmatizer = WordNetLemmatizer()\n",
        "nltk.download('wordnet')\n",
        "\n",
        "# create stop word list\n",
        "import spacy\n",
        "from spacy.lang.en.stop_words import STOP_WORDS\n",
        "stoplist = list(STOP_WORDS)\n",
        "\n",
        "# create CleanText() function\n",
        "def CleanText(string):\n",
        "    text = string.lower() # lowercase\n",
        "    #text = text.split() #  splits into a list of words\n",
        "    #text = \" \".join(text) # joins the list of words\n",
        "    # .split() + .join() cancel each other out -- consider removing?\n",
        "    text = re.sub(r\"http(\\S)+\",' ',text) # remove URLs   \n",
        "    text = re.sub(r\"www(\\S)+\",' ',text) # remove URLs\n",
        "    text = re.sub(r\"&\",' and ',text) # replace & with ' and '\n",
        "    text = text.replace('&amp',' ') # replace &amp with ' '\n",
        "    text = re.sub(r\"[^0-9a-zA-Z]+\",' ',text) # remove non-alphanumeric characters\n",
        "    text = text.split() # splits into a list of words\n",
        "    text = [w for w in text if not w in stoplist] # remove stop words\n",
        "    text = [lemmatizer.lemmatize(w) for w in text] # lemmatization\n",
        "    text = \" \".join(text) # joins the list of words\n",
        "    return text\n",
        "\n",
        "# apply CleanText() function to all tweets \n",
        "X_train = X_train.map(lambda x: CleanText(x))\n",
        "X_val = X_val.map(lambda x: CleanText(x))"
      ],
      "metadata": {
        "colab": {
          "base_uri": "https://localhost:8080/"
        },
        "id": "ZmBM_WEOLlkH",
        "outputId": "a58b01d9-456d-4eae-a2cb-f08540bcb462"
      },
      "execution_count": 4,
      "outputs": [
        {
          "output_type": "stream",
          "name": "stdout",
          "text": [
            "[nltk_data] Downloading package wordnet to /root/nltk_data...\n",
            "[nltk_data]   Unzipping corpora/wordnet.zip.\n"
          ]
        }
      ]
    },
    {
      "cell_type": "markdown",
      "source": [
        "# Feature Extraction"
      ],
      "metadata": {
        "id": "lRsrVBhIwpfe"
      }
    },
    {
      "cell_type": "markdown",
      "source": [
        "## Bag of Words"
      ],
      "metadata": {
        "id": "YgR8DCDRws5O"
      }
    },
    {
      "cell_type": "code",
      "source": [
        "# count vectorizer\n",
        "cv = CountVectorizer(ngram_range=(1, 2)) # count term frequency\n",
        "\n",
        "# fit and transform train data to count vectorizer\n",
        "cv.fit(X_train.values)\n",
        "cv_train = cv.transform(X_train.values)\n",
        "\n",
        "# fit and transform validation data to counter vectorizer\n",
        "cv_val = cv.transform(X_val.values)"
      ],
      "metadata": {
        "id": "8yS0vyr3xGYZ"
      },
      "execution_count": 5,
      "outputs": []
    },
    {
      "cell_type": "markdown",
      "source": [
        "## TF-IDF"
      ],
      "metadata": {
        "id": "82rsQ4Zxwu_A"
      }
    },
    {
      "cell_type": "code",
      "source": [
        "# TF-IDF\n",
        "tfidf = TfidfTransformer()\n",
        "\n",
        "# fit the CountVector to TF-IDF transformer\n",
        "tfidf.fit(cv_train)\n",
        "tfidf_train = tfidf.transform(cv_train)\n",
        "\n",
        "# do the same for the validation set\n",
        "tfidf.fit(cv_val)\n",
        "tfidf_val = tfidf.transform(cv_val)"
      ],
      "metadata": {
        "id": "r0q76x7UxKSp"
      },
      "execution_count": 6,
      "outputs": []
    },
    {
      "cell_type": "markdown",
      "source": [
        "# SVM"
      ],
      "metadata": {
        "id": "x_2IsN_hQCwX"
      }
    },
    {
      "cell_type": "code",
      "source": [
        "from sklearn.model_selection import GridSearchCV\n",
        "\n",
        "# create logistic regression object\n",
        "svm = SVC(kernel='linear', probability=True)\n",
        "\n",
        "# create list of parameters\n",
        "param_grid = {\n",
        "    'C': [0.1, 1, 10, 100],\n",
        "    'class_weight': ['balanced', 'none']\n",
        "}\n",
        "\n",
        "grid = GridSearchCV(svm, param_grid, cv=5, scoring='f1')\n",
        "\n",
        "grid.fit(tfidf_train,y_train)\n",
        "mean_score = grid.cv_results_[\"mean_test_score\"][grid.best_index_]\n",
        "print(f\"Best parameters: {grid.best_params_}\")\n",
        "print(f\"Mean CV score: {mean_score: .6f}\")\n",
        "#print(f\"Standard deviation of CV score: {std_test_score: .6f}\")"
      ],
      "metadata": {
        "id": "fkbs4nVU6ZOK",
        "colab": {
          "base_uri": "https://localhost:8080/"
        },
        "outputId": "0b6e3367-3027-46b7-ff22-5fc175f57d82"
      },
      "execution_count": 7,
      "outputs": [
        {
          "output_type": "stream",
          "name": "stderr",
          "text": [
            "/usr/local/lib/python3.7/dist-packages/sklearn/model_selection/_validation.py:372: FitFailedWarning: \n",
            "20 fits failed out of a total of 40.\n",
            "The score on these train-test partitions for these parameters will be set to nan.\n",
            "If these failures are not expected, you can try to debug them by setting error_score='raise'.\n",
            "\n",
            "Below are more details about the failures:\n",
            "--------------------------------------------------------------------------------\n",
            "20 fits failed with the following error:\n",
            "Traceback (most recent call last):\n",
            "  File \"/usr/local/lib/python3.7/dist-packages/sklearn/model_selection/_validation.py\", line 680, in _fit_and_score\n",
            "    estimator.fit(X_train, y_train, **fit_params)\n",
            "  File \"/usr/local/lib/python3.7/dist-packages/sklearn/svm/_base.py\", line 199, in fit\n",
            "    y = self._validate_targets(y)\n",
            "  File \"/usr/local/lib/python3.7/dist-packages/sklearn/svm/_base.py\", line 718, in _validate_targets\n",
            "    self.class_weight_ = compute_class_weight(self.class_weight, classes=cls, y=y_)\n",
            "  File \"/usr/local/lib/python3.7/dist-packages/sklearn/utils/class_weight.py\", line 59, in compute_class_weight\n",
            "    \"class_weight must be dict, 'balanced', or None, got: %r\" % class_weight\n",
            "ValueError: class_weight must be dict, 'balanced', or None, got: 'none'\n",
            "\n",
            "  warnings.warn(some_fits_failed_message, FitFailedWarning)\n",
            "/usr/local/lib/python3.7/dist-packages/sklearn/model_selection/_search.py:972: UserWarning: One or more of the test scores are non-finite: [0.8180595         nan 0.9256287         nan 0.92567452        nan\n",
            " 0.92567452        nan]\n",
            "  category=UserWarning,\n"
          ]
        },
        {
          "output_type": "stream",
          "name": "stdout",
          "text": [
            "Best parameters: {'C': 10, 'class_weight': 'balanced'}\n",
            "Mean CV score:  0.925675\n"
          ]
        }
      ]
    },
    {
      "cell_type": "code",
      "source": [
        "from sklearn.pipeline import Pipeline\n",
        "\n",
        "# create svm object\n",
        "svm = SVC(kernel='linear', probability=True, C=10, class_weight='balanced') \n",
        "\n",
        "# create pipeline\n",
        "pipeline = Pipeline([\n",
        "        ('count', CountVectorizer(ngram_range=(1, 2))), # count term frequency\n",
        "        ('tfidf', TfidfTransformer()), # downweight words which appear frequently\n",
        "        ('c', svm) # classifier\n",
        "    ])\n",
        "\n",
        "# train model\n",
        "fit = pipeline.fit(X_train,y_train)\n",
        "\n",
        "# make predictions\n",
        "pred = pipeline.predict(X_val) "
      ],
      "metadata": {
        "id": "65wEzTAl4xPK"
      },
      "execution_count": 8,
      "outputs": []
    },
    {
      "cell_type": "code",
      "source": [
        "# define plot_confusion_matrix() function to display results\n",
        "def plot_confusion_matrix(cm,\n",
        "                          target_names,\n",
        "                          title='Confusion matrix',\n",
        "                          cmap=None,\n",
        "                          normalize=True):\n",
        "    \"\"\"\n",
        "    given a sklearn confusion matrix (cm), make a nice plot\n",
        "\n",
        "    Arguments\n",
        "    ---------\n",
        "    cm:           confusion matrix from sklearn.metrics.confusion_matrix\n",
        "\n",
        "    target_names: given classification classes such as [0, 1, 2]\n",
        "                  the class names, for example: ['high', 'medium', 'low']\n",
        "\n",
        "    title:        the text to display at the top of the matrix\n",
        "\n",
        "    cmap:         the gradient of the values displayed from matplotlib.pyplot.cm\n",
        "                  see http://matplotlib.org/examples/color/colormaps_reference.html\n",
        "                  plt.get_cmap('jet') or plt.cm.Blues\n",
        "\n",
        "    normalize:    If False, plot the raw numbers\n",
        "                  If True, plot the proportions\n",
        "\n",
        "    Usage\n",
        "    -----\n",
        "    plot_confusion_matrix(cm           = cm,                  # confusion matrix created by\n",
        "                                                              # sklearn.metrics.confusion_matrix\n",
        "                          normalize    = True,                # show proportions\n",
        "                          target_names = y_labels_vals,       # list of names of the classes\n",
        "                          title        = best_estimator_name) # title of graph\n",
        "\n",
        "    Citiation\n",
        "    ---------\n",
        "    http://scikit-learn.org/stable/auto_examples/model_selection/plot_confusion_matrix.html\n",
        "\n",
        "    \"\"\"\n",
        "\n",
        "    accuracy = np.trace(cm) / float(np.sum(cm))\n",
        "    misclass = 1 - accuracy\n",
        "\n",
        "    if cmap is None:\n",
        "        cmap = plt.get_cmap('Blues')\n",
        "\n",
        "    plt.figure(figsize=(5, 4))\n",
        "    plt.imshow(cm, interpolation='nearest', cmap=cmap)\n",
        "    plt.title(title)\n",
        "    plt.colorbar()\n",
        "\n",
        "    if target_names is not None:\n",
        "        tick_marks = np.arange(len(target_names))\n",
        "        plt.xticks(tick_marks, target_names, rotation=45)\n",
        "        plt.yticks(tick_marks, target_names)\n",
        "\n",
        "    if normalize:\n",
        "        cm = cm.astype('float') / cm.sum(axis=1)[:, np.newaxis]\n",
        "\n",
        "\n",
        "    thresh = cm.max() / 1.5 if normalize else cm.max() / 2\n",
        "    for i, j in itertools.product(range(cm.shape[0]), range(cm.shape[1])):\n",
        "        if normalize:\n",
        "            plt.text(j, i, \"{:0.4f}\".format(cm[i, j]),\n",
        "                     horizontalalignment=\"center\",\n",
        "                     color=\"white\" if cm[i, j] > thresh else \"black\")\n",
        "        else:\n",
        "            plt.text(j, i, \"{:,}\".format(cm[i, j]),\n",
        "                     horizontalalignment=\"center\",\n",
        "                     color=\"white\" if cm[i, j] > thresh else \"black\")\n",
        "\n",
        "\n",
        "    plt.tight_layout()\n",
        "    plt.ylabel('True label')\n",
        "    #plt.xlabel('Predicted label\\naccuracy={:0.4f}; misclass={:0.4f}'.format(accuracy, misclass))\n",
        "    plt.xlabel('Predicted label')\n",
        "    plt.show()"
      ],
      "metadata": {
        "id": "KQX_MtHMFo5a"
      },
      "execution_count": 9,
      "outputs": []
    },
    {
      "cell_type": "code",
      "source": [
        "# define print_metrics() function to print results\n",
        "def print_metrics(pred,true):\n",
        "    print(confusion_matrix(true,pred))\n",
        "    print(classification_report(true,pred,))\n",
        "    print(\"Accuracy : \",accuracy_score(pred,true))\n",
        "    print(\"Precison : \",precision_score(pred,true, average = 'weighted'))\n",
        "    print(\"Recall : \",recall_score(pred,true,  average = 'weighted'))\n",
        "    print(\"F1 : \",f1_score(pred,true,  average = 'weighted'))"
      ],
      "metadata": {
        "id": "yPbK6WILFqpA"
      },
      "execution_count": 10,
      "outputs": []
    },
    {
      "cell_type": "code",
      "source": [
        "# display results\n",
        "print_metrics(pred,y_val)\n",
        "plot_confusion_matrix(confusion_matrix(y_val,pred),target_names=['fake','real'], normalize = False, \\\n",
        "                      title = 'Confusion matix of SVM on val data')"
      ],
      "metadata": {
        "colab": {
          "base_uri": "https://localhost:8080/",
          "height": 579
        },
        "id": "WULQOmeKMs8j",
        "outputId": "3f35a4ca-e469-4a53-99cc-a1cba16e79b8"
      },
      "execution_count": 11,
      "outputs": [
        {
          "output_type": "stream",
          "name": "stdout",
          "text": [
            "[[892  56]\n",
            " [ 64 861]]\n",
            "              precision    recall  f1-score   support\n",
            "\n",
            "           0       0.93      0.94      0.94       948\n",
            "           1       0.94      0.93      0.93       925\n",
            "\n",
            "    accuracy                           0.94      1873\n",
            "   macro avg       0.94      0.94      0.94      1873\n",
            "weighted avg       0.94      0.94      0.94      1873\n",
            "\n",
            "Accuracy :  0.9359316604378003\n",
            "Precison :  0.9359748743587032\n",
            "Recall :  0.9359316604378003\n",
            "F1 :  0.9359361908589867\n"
          ]
        },
        {
          "output_type": "display_data",
          "data": {
            "text/plain": [
              "<Figure size 360x288 with 2 Axes>"
            ],
            "image/png": "[encoded data removed]"
          },
          "metadata": {
            "needs_background": "light"
          }
        }
      ]
    }
  ]
}