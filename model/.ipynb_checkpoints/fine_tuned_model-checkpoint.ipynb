{
 "cells": [
  {
   "cell_type": "markdown",
   "metadata": {
    "id": "X96VzyHuGU4-"
   },
   "source": [
    "# Setup"
   ]
  },
  {
   "cell_type": "code",
   "execution_count": 7,
   "metadata": {
    "colab": {
     "base_uri": "https://localhost:8080/"
    },
    "executionInfo": {
     "elapsed": 1813,
     "status": "ok",
     "timestamp": 1651521489938,
     "user": {
      "displayName": "Hannah Schweren",
      "userId": "17418859482307087546"
     },
     "user_tz": -120
    },
    "id": "LDUxonlU7VeH",
    "outputId": "a7107017-a6d0-4de1-dab2-60d9ac71726c"
   },
   "outputs": [
    {
     "name": "stderr",
     "output_type": "stream",
     "text": [
      "[nltk_data] Downloading package stopwords to /Users/steve/nltk_data...\n",
      "[nltk_data]   Package stopwords is already up-to-date!\n",
      "[nltk_data] Downloading package wordnet to /Users/steve/nltk_data...\n",
      "[nltk_data]   Package wordnet is already up-to-date!\n"
     ]
    }
   ],
   "source": [
    "# import dependencies\n",
    "import itertools\n",
    "import matplotlib.pyplot as plt\n",
    "import numpy as np\n",
    "import nltk\n",
    "import pandas as pd\n",
    "import pickle\n",
    "import re\n",
    "from joblib import dump, load\n",
    "from xgboost import XGBClassifier\n",
    "\n",
    "## nltk\n",
    "from nltk.corpus import stopwords\n",
    "from nltk.stem import WordNetLemmatizer\n",
    "nltk.download('stopwords')\n",
    "nltk.download('wordnet')\n",
    "\n",
    "# spacy\n",
    "import spacy\n",
    "!pip3 install https://github.com/explosion/spacy-models/releases/download/en_core_web_md-3.3.0/en_core_web_md-3.3.0.tar.gz &> /dev/null\n",
    "nlp = spacy.load(\"en_core_web_md\") # md: reduced word vector table with 20k unique vectors for ~500k words\n",
    "\n",
    "## sklearn\n",
    "from sklearn import preprocessing\n",
    "from sklearn.feature_extraction.text import CountVectorizer, TfidfTransformer \n",
    "from sklearn.metrics import accuracy_score, classification_report, confusion_matrix, f1_score, plot_confusion_matrix, precision_score, recall_score\n",
    "from sklearn.svm import SVC\n",
    "from sklearn.pipeline import Pipeline\n",
    "from sklearn.linear_model import LogisticRegression\n",
    "from sklearn.ensemble import AdaBoostClassifier, VotingClassifier\n",
    "from sklearn.datasets import make_classification\n",
    "from sklearn.pipeline import Pipeline"
   ]
  },
  {
   "cell_type": "code",
   "execution_count": 8,
   "metadata": {},
   "outputs": [],
   "source": [
    "# set seed\n",
    "np.random.seed(42)"
   ]
  },
  {
   "cell_type": "code",
   "execution_count": 9,
   "metadata": {
    "executionInfo": {
     "elapsed": 338,
     "status": "ok",
     "timestamp": 1651521490272,
     "user": {
      "displayName": "Hannah Schweren",
      "userId": "17418859482307087546"
     },
     "user_tz": -120
    },
    "id": "mQiCiSQUBO75"
   },
   "outputs": [],
   "source": [
    "# load & clean data \n",
    "train = pd.read_csv('https://raw.githubusercontent.com/smkerr/COVID-fake-news-detection/main/data/original%20data/Constraint_Train.csv', header=0)\n",
    "X_train, y_train = train[\"tweet\"], train[\"label\"]\n",
    "\n",
    "\n",
    "val = pd.read_csv('https://raw.githubusercontent.com/smkerr/COVID-fake-news-detection/main/data/original%20data/Constraint_Val.csv', header=0)\n",
    "X_val, y_val = val[\"tweet\"], val[\"label\"]\n",
    "\n",
    "test = pd.read_csv('https://raw.githubusercontent.com/smkerr/COVID-fake-news-detection/main/data/original%20data/Constraint_Test.csv', header=0)\n",
    "X_test, y_test = test[\"tweet\"], test[\"label\"]"
   ]
  },
  {
   "cell_type": "markdown",
   "metadata": {
    "id": "b1RHfeVkGYNg"
   },
   "source": [
    "# Pre-processing"
   ]
  },
  {
   "cell_type": "code",
   "execution_count": 10,
   "metadata": {
    "colab": {
     "base_uri": "https://localhost:8080/"
    },
    "executionInfo": {
     "elapsed": 3445,
     "status": "ok",
     "timestamp": 1651521508236,
     "user": {
      "displayName": "Hannah Schweren",
      "userId": "17418859482307087546"
     },
     "user_tz": -120
    },
    "id": "LlXp-6juE_8t",
    "outputId": "f005bd32-c6c5-4e1e-97ef-816f60d6356f"
   },
   "outputs": [],
   "source": [
    "# initialize lemmatizer \n",
    "lemmatizer = WordNetLemmatizer()\n",
    "\n",
    "# create stop word list\n",
    "stoplist = set(stopwords.words('english'))\n",
    "\n",
    "# create CleanText() function\n",
    "def CleanText(string):\n",
    "    text = string.lower() # lowercase\n",
    "    text = re.sub(r\"http(\\S)+\",' ',text) # remove URLs   \n",
    "    text = re.sub(r\"www(\\S)+\",' ',text) # remove URLs\n",
    "    text = re.sub(r\"&\",' and ',text) # replace & with ' and '\n",
    "    text = text.replace('&amp',' ') # replace &amp with ' '\n",
    "    text = re.sub(r\"[^0-9a-zA-Z]+\",' ',text) # remove non-alphanumeric characters\n",
    "    text = text.split() # splits into a list of words\n",
    "    text = [w for w in text if not w in stoplist] # remove stop words\n",
    "    text = [lemmatizer.lemmatize(w) for w in text] # lemmatization\n",
    "    text = \" \".join(text) # joins the list of words\n",
    "    return text\n",
    "\n",
    "# apply CleanText() function to all tweets \n",
    "X_train = X_train.map(lambda x: CleanText(x))\n",
    "X_val = X_val.map(lambda x: CleanText(x))\n",
    "X_test = X_test.map(lambda x: CleanText(x))"
   ]
  },
  {
   "cell_type": "code",
   "execution_count": 11,
   "metadata": {
    "executionInfo": {
     "elapsed": 5,
     "status": "ok",
     "timestamp": 1651521508236,
     "user": {
      "displayName": "Hannah Schweren",
      "userId": "17418859482307087546"
     },
     "user_tz": -120
    },
    "id": "W2nxpRa27d6i"
   },
   "outputs": [],
   "source": [
    "# initialize label encoder\n",
    "label_encoder = preprocessing.LabelEncoder()\n",
    "\n",
    "# encode 'fake' as 0 and 'real' as 1 to make target variables machine-readable\n",
    "y_train = label_encoder.fit_transform(y_train)\n",
    "y_val = label_encoder.fit_transform(y_val)\n",
    "y_test = label_encoder.fit_transform(y_test)"
   ]
  },
  {
   "cell_type": "markdown",
   "metadata": {
    "id": "t8fAkUZbSKZb"
   },
   "source": [
    "# Feature Extraction\n"
   ]
  },
  {
   "cell_type": "markdown",
   "metadata": {
    "id": "cn9TbYAmMfWM"
   },
   "source": [
    "## Word Embeddings"
   ]
  },
  {
   "cell_type": "code",
   "execution_count": 21,
   "metadata": {
    "executionInfo": {
     "elapsed": 78876,
     "status": "ok",
     "timestamp": 1651521589931,
     "user": {
      "displayName": "Hannah Schweren",
      "userId": "17418859482307087546"
     },
     "user_tz": -120
    },
    "id": "4Pds9s8jMfWN"
   },
   "outputs": [],
   "source": [
    "# generate word vectors for each tweet \n",
    "## train set \n",
    "tweet2vec_list = [nlp(doc).vector.reshape(1,-1) for doc in X_train] # creates 6420x1 list, with each entry containing a 300x1 np.array word vector corresponding with a tweet\n",
    "tweet2vec_data = np.concatenate(tweet2vec_list) # joins word vectors into 6420x300 np.array\n",
    "tweet2vec_train = pd.DataFrame(tweet2vec_data) # convert to data frame\n",
    "\n",
    "## validation set \n",
    "tweet2vec_list = [nlp(doc).vector.reshape(1,-1) for doc in X_val] # creates 6420x1 list, with each entry containing a 300x1 np.array word vector corresponding with a tweet\n",
    "tweet2vec_data = np.concatenate(tweet2vec_list) # joins word vectors into 6420x300 np.array\n",
    "tweet2vec_val = pd.DataFrame(tweet2vec_data) # convert to data frame\n",
    "\n",
    "## test set \n",
    "tweet2vec_list = [nlp(doc).vector.reshape(1,-1) for doc in X_test] # creates 6420x1 list, with each entry containing a 300x1 np.array word vector corresponding with a tweet\n",
    "tweet2vec_data = np.concatenate(tweet2vec_list) # joins word vectors into 6420x300 np.array\n",
    "tweet2vec_test = pd.DataFrame(tweet2vec_data) # convert to data frame"
   ]
  },
  {
   "cell_type": "markdown",
   "metadata": {
    "id": "SO_3oqJGXjnN"
   },
   "source": [
    "## Bag-of-Words (BoW)"
   ]
  },
  {
   "cell_type": "code",
   "execution_count": 22,
   "metadata": {
    "executionInfo": {
     "elapsed": 661,
     "status": "ok",
     "timestamp": 1651516927107,
     "user": {
      "displayName": "Hannah Schweren",
      "userId": "17418859482307087546"
     },
     "user_tz": -120
    },
    "id": "xS1DYYRMSUz2"
   },
   "outputs": [],
   "source": [
    "# count vectorizer\n",
    "cv = CountVectorizer(ngram_range=(1, 2)) # count term frequency\n",
    "\n",
    "# fit and transform train data to count vectorizer\n",
    "cv.fit(X_train.values)\n",
    "cv_train = cv.transform(X_train.values)\n",
    "\n",
    "# fit and transform validation data to counter vectorizer\n",
    "cv_val = cv.transform(X_val.values)\n",
    "\n",
    "# fit and transform validation data to counter vectorizer\n",
    "cv_test = cv.transform(X_test.values)"
   ]
  },
  {
   "cell_type": "code",
   "execution_count": 23,
   "metadata": {
    "executionInfo": {
     "elapsed": 297,
     "status": "ok",
     "timestamp": 1651516930274,
     "user": {
      "displayName": "Hannah Schweren",
      "userId": "17418859482307087546"
     },
     "user_tz": -120
    },
    "id": "1YUXus_ioR5Y"
   },
   "outputs": [],
   "source": [
    "# rename word2vec columns to de-conflict merge\n",
    "\n",
    "## train set\n",
    "### create list of word embedding column names\n",
    "word2vec_col = []\n",
    "for i in range(len(tweet2vec_train.columns)):\n",
    "  num = str(i)\n",
    "  name = \"word2vec_\"+num\n",
    "  word2vec_col.append(name) \n",
    "\n",
    "### rename word embedding columns \n",
    "tweet2vec_train.columns = word2vec_col\n",
    "\n",
    "## validation set\n",
    "### create list of word embedding column names\n",
    "word2vec_col = []\n",
    "for i in range(len(tweet2vec_val.columns)):\n",
    "  num = str(i)\n",
    "  name = \"word2vec_\"+num\n",
    "  word2vec_col.append(name) \n",
    "\n",
    "### rename word embedding columns \n",
    "tweet2vec_val.columns = word2vec_col\n",
    "\n",
    "## test set\n",
    "### create list of word embedding column names\n",
    "word2vec_col = []\n",
    "for i in range(len(tweet2vec_test.columns)):\n",
    "  num = str(i)\n",
    "  name = \"word2vec_\"+num\n",
    "  word2vec_col.append(name) \n",
    "\n",
    "### rename word embedding columns \n",
    "tweet2vec_test.columns = word2vec_col"
   ]
  },
  {
   "cell_type": "markdown",
   "metadata": {
    "id": "n4yhIIAkXoh3"
   },
   "source": [
    "## TF-IDF"
   ]
  },
  {
   "cell_type": "code",
   "execution_count": 24,
   "metadata": {
    "executionInfo": {
     "elapsed": 198,
     "status": "ok",
     "timestamp": 1651516932541,
     "user": {
      "displayName": "Hannah Schweren",
      "userId": "17418859482307087546"
     },
     "user_tz": -120
    },
    "id": "XG3Q80cZXqXG"
   },
   "outputs": [],
   "source": [
    "# TF-IDF\n",
    "tfidf = TfidfTransformer()\n",
    "\n",
    "# fit the CountVector to TF-IDF transformer\n",
    "tfidf.fit(cv_train)\n",
    "tfidf_train = tfidf.transform(cv_train)\n",
    "\n",
    "# do the same for the validation set\n",
    "tfidf.fit(cv_val)\n",
    "tfidf_val = tfidf.transform(cv_val)\n",
    "\n",
    "# and the same for the validation set\n",
    "tfidf.fit(cv_test)\n",
    "tfidf_test = tfidf.transform(cv_test)"
   ]
  },
  {
   "cell_type": "code",
   "execution_count": 25,
   "metadata": {
    "executionInfo": {
     "elapsed": 2560,
     "status": "ok",
     "timestamp": 1651516936350,
     "user": {
      "displayName": "Hannah Schweren",
      "userId": "17418859482307087546"
     },
     "user_tz": -120
    },
    "id": "LfcL820MoR5Y"
   },
   "outputs": [],
   "source": [
    "# convert tfidf_train to data frame\n",
    "## train set\n",
    "tfidf_train = pd.DataFrame(tfidf_train.toarray())\n",
    "\n",
    "## validation set \n",
    "tfidf_val = pd.DataFrame(tfidf_val.toarray())\n",
    "\n",
    "## test set \n",
    "tfidf_test = pd.DataFrame(tfidf_test.toarray())"
   ]
  },
  {
   "cell_type": "code",
   "execution_count": 26,
   "metadata": {
    "executionInfo": {
     "elapsed": 7,
     "status": "ok",
     "timestamp": 1651516936351,
     "user": {
      "displayName": "Hannah Schweren",
      "userId": "17418859482307087546"
     },
     "user_tz": -120
    },
    "id": "Q3vDunFxoR5Z"
   },
   "outputs": [],
   "source": [
    "# rename tfidf columns to de-conflict merge\n",
    "\n",
    "## train set\n",
    "### create list of tfidf column names\n",
    "tfidf_col = []\n",
    "for i in range(len(tfidf_train.columns)):\n",
    "  num = str(i)\n",
    "  name = \"tfidf_\"+num\n",
    "  tfidf_col.append(name) \n",
    "\n",
    "### rename tfidf columns\n",
    "tfidf_train.columns = tfidf_col\n",
    "\n",
    "## validation set\n",
    "### create list of tfidf column names\n",
    "tfidf_col = []\n",
    "for i in range(len(tfidf_val.columns)):\n",
    "  num = str(i)\n",
    "  name = \"tfidf_\"+num\n",
    "  tfidf_col.append(name) \n",
    "\n",
    "### rename tfidf columns\n",
    "tfidf_val.columns = tfidf_col\n",
    "\n",
    "## test set\n",
    "### create list of tfidf column names\n",
    "tfidf_col = []\n",
    "for i in range(len(tfidf_test.columns)):\n",
    "  num = str(i)\n",
    "  name = \"tfidf_\"+num\n",
    "  tfidf_col.append(name) \n",
    "\n",
    "### rename tfidf columns\n",
    "tfidf_test.columns = tfidf_col"
   ]
  },
  {
   "cell_type": "markdown",
   "metadata": {},
   "source": [
    "## Scale Features"
   ]
  },
  {
   "cell_type": "code",
   "execution_count": 20,
   "metadata": {},
   "outputs": [],
   "source": [
    "#from sklearn.preprocessing import StandardScaler\n",
    "#scaler = StandardScaler()\n",
    "#\n",
    "## Word Embeddings\n",
    "### scale train set \n",
    "#scaler.fit(tweet2vec_train)\n",
    "#\n",
    "### transform word vectors \n",
    "#tweet2vec_train = scaler.transform(tweet2vec_train)\n",
    "#tweet2vec_val = scaler.transform(tweet2vec_val)\n",
    "#tweet2vec_test = scaler.transform(tweet2vec_test)"
   ]
  },
  {
   "cell_type": "code",
   "execution_count": 21,
   "metadata": {},
   "outputs": [],
   "source": [
    "## TFIDF \n",
    "### scale train set\n",
    "#scaler.fit(tfidf_train)\n",
    "#           \n",
    "### transform tfidf data \n",
    "#tfidf_train = scaler.transform(tfidf_train)\n",
    "#tfidf_val = scaler.transform(tfidf_val)\n",
    "#tfidf_test = scaler.transform(tfidf_test)"
   ]
  },
  {
   "cell_type": "markdown",
   "metadata": {
    "id": "cQ5OnihEoR5Y"
   },
   "source": [
    "## Combine Features"
   ]
  },
  {
   "cell_type": "code",
   "execution_count": 27,
   "metadata": {
    "id": "kP23ax2DoR5Z"
   },
   "outputs": [],
   "source": [
    "# join tf-idf with word embeddings \n",
    "\n",
    "## train set \n",
    "X_train = tfidf_train.join(tweet2vec_train) \n",
    "\n",
    "## validation set \n",
    "X_val = tfidf_val.join(tweet2vec_val) \n",
    "\n",
    "## test set \n",
    "X_test = tfidf_test.join(tweet2vec_test) "
   ]
  },
  {
   "cell_type": "markdown",
   "metadata": {},
   "source": [
    "## Scale Features"
   ]
  },
  {
   "cell_type": "code",
   "execution_count": 28,
   "metadata": {},
   "outputs": [],
   "source": [
    "from sklearn.preprocessing import StandardScaler\n",
    "scaler = StandardScaler()\n",
    "\n",
    "# Word Embeddings\n",
    "## scale train set \n",
    "scaler.fit(X_train)\n",
    "\n",
    "## transform word vectors \n",
    "tweet2vec_train = scaler.transform(X_train)\n",
    "tweet2vec_val = scaler.transform(X_val)\n",
    "tweet2vec_test = scaler.transform(X_test)"
   ]
  },
  {
   "cell_type": "markdown",
   "metadata": {
    "id": "cBGrHpbcBqEB"
   },
   "source": [
    "# Model Training"
   ]
  },
  {
   "cell_type": "code",
   "execution_count": 14,
   "metadata": {},
   "outputs": [
    {
     "name": "stderr",
     "output_type": "stream",
     "text": [
      "/Users/steve/opt/anaconda3/lib/python3.8/site-packages/sklearn/base.py:310: UserWarning: Trying to unpickle estimator SVC from version 1.0.1 when using version 0.24.1. This might lead to breaking code or invalid results. Use at your own risk.\n",
      "  warnings.warn(\n",
      "/Users/steve/opt/anaconda3/lib/python3.8/site-packages/sklearn/base.py:310: UserWarning: Trying to unpickle estimator LogisticRegression from version 1.0.1 when using version 0.24.1. This might lead to breaking code or invalid results. Use at your own risk.\n",
      "  warnings.warn(\n"
     ]
    },
    {
     "ename": "XGBoostError",
     "evalue": "[17:22:07] /Users/runner/miniforge3/conda-bld/xgboost_1593723618214/work/include/xgboost/json.h:65: Invalid cast, from Null to Array\nStack trace:\n  [bt] (0) 1   libxgboost.dylib                    0x0000000135a3261e dmlc::LogMessageFatal::~LogMessageFatal() + 110\n  [bt] (1) 2   libxgboost.dylib                    0x0000000135a6fdec xgboost::JsonArray const* xgboost::Cast<xgboost::JsonArray const, xgboost::Value>(xgboost::Value*) + 764\n  [bt] (2) 3   libxgboost.dylib                    0x0000000135b40256 xgboost::RegTree::LoadModel(xgboost::Json const&) + 1414\n  [bt] (3) 4   libxgboost.dylib                    0x0000000135acd4dc xgboost::gbm::GBTreeModel::LoadModel(xgboost::Json const&) + 508\n  [bt] (4) 5   libxgboost.dylib                    0x0000000135abcac7 xgboost::gbm::GBTree::LoadModel(xgboost::Json const&) + 375\n  [bt] (5) 6   libxgboost.dylib                    0x0000000135acfcd2 xgboost::LearnerIO::LoadModel(xgboost::Json const&) + 1634\n  [bt] (6) 7   libxgboost.dylib                    0x0000000135ad87e8 xgboost::LearnerIO::Load(dmlc::Stream*) + 584\n  [bt] (7) 8   libxgboost.dylib                    0x0000000135a2e128 XGBoosterUnserializeFromBuffer + 168\n  [bt] (8) 9   libffi.7.dylib                      0x000000010de64ead ffi_call_unix64 + 85\n\n",
     "output_type": "error",
     "traceback": [
      "\u001b[0;31m---------------------------------------------------------------------------\u001b[0m",
      "\u001b[0;31mXGBoostError\u001b[0m                              Traceback (most recent call last)",
      "\u001b[0;32m<ipython-input-14-a3d0fcaa8842>\u001b[0m in \u001b[0;36m<module>\u001b[0;34m\u001b[0m\n\u001b[1;32m      7\u001b[0m \u001b[0;34m\u001b[0m\u001b[0m\n\u001b[1;32m      8\u001b[0m \u001b[0;32mwith\u001b[0m \u001b[0mopen\u001b[0m\u001b[0;34m(\u001b[0m\u001b[0;34m\"pickle_xgb_clf.pkl\"\u001b[0m\u001b[0;34m,\u001b[0m \u001b[0;34m'rb'\u001b[0m\u001b[0;34m)\u001b[0m \u001b[0;32mas\u001b[0m \u001b[0mfile\u001b[0m\u001b[0;34m:\u001b[0m\u001b[0;34m\u001b[0m\u001b[0;34m\u001b[0m\u001b[0m\n\u001b[0;32m----> 9\u001b[0;31m     \u001b[0mpickle_xgb_clf\u001b[0m \u001b[0;34m=\u001b[0m \u001b[0mpickle\u001b[0m\u001b[0;34m.\u001b[0m\u001b[0mload\u001b[0m\u001b[0;34m(\u001b[0m\u001b[0mfile\u001b[0m\u001b[0;34m)\u001b[0m\u001b[0;34m\u001b[0m\u001b[0;34m\u001b[0m\u001b[0m\n\u001b[0m\u001b[1;32m     10\u001b[0m \u001b[0;34m\u001b[0m\u001b[0m\n\u001b[1;32m     11\u001b[0m \u001b[0;32mwith\u001b[0m \u001b[0mopen\u001b[0m\u001b[0;34m(\u001b[0m\u001b[0;34m\"pickle_ada_clf.pkl\"\u001b[0m\u001b[0;34m,\u001b[0m \u001b[0;34m'rb'\u001b[0m\u001b[0;34m)\u001b[0m \u001b[0;32mas\u001b[0m \u001b[0mfile\u001b[0m\u001b[0;34m:\u001b[0m\u001b[0;34m\u001b[0m\u001b[0;34m\u001b[0m\u001b[0m\n",
      "\u001b[0;32m~/opt/anaconda3/lib/python3.8/site-packages/xgboost/core.py\u001b[0m in \u001b[0;36m__setstate__\u001b[0;34m(self, state)\u001b[0m\n\u001b[1;32m   1209\u001b[0m             \u001b[0mlength\u001b[0m \u001b[0;34m=\u001b[0m \u001b[0mc_bst_ulong\u001b[0m\u001b[0;34m(\u001b[0m\u001b[0mlen\u001b[0m\u001b[0;34m(\u001b[0m\u001b[0mbuf\u001b[0m\u001b[0;34m)\u001b[0m\u001b[0;34m)\u001b[0m\u001b[0;34m\u001b[0m\u001b[0;34m\u001b[0m\u001b[0m\n\u001b[1;32m   1210\u001b[0m             \u001b[0mptr\u001b[0m \u001b[0;34m=\u001b[0m \u001b[0;34m(\u001b[0m\u001b[0mctypes\u001b[0m\u001b[0;34m.\u001b[0m\u001b[0mc_char\u001b[0m \u001b[0;34m*\u001b[0m \u001b[0mlen\u001b[0m\u001b[0;34m(\u001b[0m\u001b[0mbuf\u001b[0m\u001b[0;34m)\u001b[0m\u001b[0;34m)\u001b[0m\u001b[0;34m.\u001b[0m\u001b[0mfrom_buffer\u001b[0m\u001b[0;34m(\u001b[0m\u001b[0mbuf\u001b[0m\u001b[0;34m)\u001b[0m\u001b[0;34m\u001b[0m\u001b[0;34m\u001b[0m\u001b[0m\n\u001b[0;32m-> 1211\u001b[0;31m             _check_call(\n\u001b[0m\u001b[1;32m   1212\u001b[0m                 _LIB.XGBoosterUnserializeFromBuffer(handle, ptr, length))\n\u001b[1;32m   1213\u001b[0m             \u001b[0mstate\u001b[0m\u001b[0;34m[\u001b[0m\u001b[0;34m'handle'\u001b[0m\u001b[0;34m]\u001b[0m \u001b[0;34m=\u001b[0m \u001b[0mhandle\u001b[0m\u001b[0;34m\u001b[0m\u001b[0;34m\u001b[0m\u001b[0m\n",
      "\u001b[0;32m~/opt/anaconda3/lib/python3.8/site-packages/xgboost/core.py\u001b[0m in \u001b[0;36m_check_call\u001b[0;34m(ret)\u001b[0m\n\u001b[1;32m    188\u001b[0m     \"\"\"\n\u001b[1;32m    189\u001b[0m     \u001b[0;32mif\u001b[0m \u001b[0mret\u001b[0m \u001b[0;34m!=\u001b[0m \u001b[0;36m0\u001b[0m\u001b[0;34m:\u001b[0m\u001b[0;34m\u001b[0m\u001b[0;34m\u001b[0m\u001b[0m\n\u001b[0;32m--> 190\u001b[0;31m         \u001b[0;32mraise\u001b[0m \u001b[0mXGBoostError\u001b[0m\u001b[0;34m(\u001b[0m\u001b[0mpy_str\u001b[0m\u001b[0;34m(\u001b[0m\u001b[0m_LIB\u001b[0m\u001b[0;34m.\u001b[0m\u001b[0mXGBGetLastError\u001b[0m\u001b[0;34m(\u001b[0m\u001b[0;34m)\u001b[0m\u001b[0;34m)\u001b[0m\u001b[0;34m)\u001b[0m\u001b[0;34m\u001b[0m\u001b[0;34m\u001b[0m\u001b[0m\n\u001b[0m\u001b[1;32m    191\u001b[0m \u001b[0;34m\u001b[0m\u001b[0m\n\u001b[1;32m    192\u001b[0m \u001b[0;34m\u001b[0m\u001b[0m\n",
      "\u001b[0;31mXGBoostError\u001b[0m: [17:22:07] /Users/runner/miniforge3/conda-bld/xgboost_1593723618214/work/include/xgboost/json.h:65: Invalid cast, from Null to Array\nStack trace:\n  [bt] (0) 1   libxgboost.dylib                    0x0000000135a3261e dmlc::LogMessageFatal::~LogMessageFatal() + 110\n  [bt] (1) 2   libxgboost.dylib                    0x0000000135a6fdec xgboost::JsonArray const* xgboost::Cast<xgboost::JsonArray const, xgboost::Value>(xgboost::Value*) + 764\n  [bt] (2) 3   libxgboost.dylib                    0x0000000135b40256 xgboost::RegTree::LoadModel(xgboost::Json const&) + 1414\n  [bt] (3) 4   libxgboost.dylib                    0x0000000135acd4dc xgboost::gbm::GBTreeModel::LoadModel(xgboost::Json const&) + 508\n  [bt] (4) 5   libxgboost.dylib                    0x0000000135abcac7 xgboost::gbm::GBTree::LoadModel(xgboost::Json const&) + 375\n  [bt] (5) 6   libxgboost.dylib                    0x0000000135acfcd2 xgboost::LearnerIO::LoadModel(xgboost::Json const&) + 1634\n  [bt] (6) 7   libxgboost.dylib                    0x0000000135ad87e8 xgboost::LearnerIO::Load(dmlc::Stream*) + 584\n  [bt] (7) 8   libxgboost.dylib                    0x0000000135a2e128 XGBoosterUnserializeFromBuffer + 168\n  [bt] (8) 9   libffi.7.dylib                      0x000000010de64ead ffi_call_unix64 + 85\n\n"
     ]
    }
   ],
   "source": [
    "# load pickled classifiers from file\n",
    "with open(\"pickle_svm_clf.pkl\", 'rb') as file:\n",
    "    pickle_svm_clf = pickle.load(file)\n",
    "\n",
    "with open(\"pickle_lg_clf.pkl\", 'rb') as file:\n",
    "    pickle_lr_clf = pickle.load(file)\n",
    "    \n",
    "with open(\"pickle_xgb_clf.pkl\", 'rb') as file:\n",
    "    pickle_xgb_clf = pickle.load(file)\n",
    "    \n",
    "with open(\"pickle_ada_clf.pkl\", 'rb') as file:\n",
    "    pickle_ada_clf = pickle.load(file)"
   ]
  },
  {
   "cell_type": "markdown",
   "metadata": {
    "id": "_XnE-4bmBrQk"
   },
   "source": [
    "## #1 SVM"
   ]
  },
  {
   "cell_type": "code",
   "execution_count": 15,
   "metadata": {},
   "outputs": [
    {
     "ename": "ValueError",
     "evalue": "X.shape[1] = 63050 should be equal to 74303, the number of features at training time",
     "output_type": "error",
     "traceback": [
      "\u001b[0;31m---------------------------------------------------------------------------\u001b[0m",
      "\u001b[0;31mValueError\u001b[0m                                Traceback (most recent call last)",
      "\u001b[0;32m<ipython-input-15-626e3348df6e>\u001b[0m in \u001b[0;36m<module>\u001b[0;34m\u001b[0m\n\u001b[1;32m      1\u001b[0m \u001b[0;31m# pickled svm_clf\u001b[0m\u001b[0;34m\u001b[0m\u001b[0;34m\u001b[0m\u001b[0;34m\u001b[0m\u001b[0m\n\u001b[1;32m      2\u001b[0m \u001b[0;31m# make predictions\u001b[0m\u001b[0;34m\u001b[0m\u001b[0;34m\u001b[0m\u001b[0;34m\u001b[0m\u001b[0m\n\u001b[0;32m----> 3\u001b[0;31m \u001b[0mpickle_svm_pred_val\u001b[0m \u001b[0;34m=\u001b[0m \u001b[0mpickle_svm_clf\u001b[0m\u001b[0;34m.\u001b[0m\u001b[0mpredict\u001b[0m\u001b[0;34m(\u001b[0m\u001b[0mX_val\u001b[0m\u001b[0;34m)\u001b[0m\u001b[0;34m\u001b[0m\u001b[0;34m\u001b[0m\u001b[0m\n\u001b[0m\u001b[1;32m      4\u001b[0m \u001b[0mpickle_svm_pred_test\u001b[0m \u001b[0;34m=\u001b[0m \u001b[0mpickle_svm_clf\u001b[0m\u001b[0;34m.\u001b[0m\u001b[0mpredict\u001b[0m\u001b[0;34m(\u001b[0m\u001b[0mX_test\u001b[0m\u001b[0;34m)\u001b[0m\u001b[0;34m\u001b[0m\u001b[0;34m\u001b[0m\u001b[0m\n",
      "\u001b[0;32m~/opt/anaconda3/lib/python3.8/site-packages/sklearn/svm/_base.py\u001b[0m in \u001b[0;36mpredict\u001b[0;34m(self, X)\u001b[0m\n\u001b[1;32m    622\u001b[0m             \u001b[0my\u001b[0m \u001b[0;34m=\u001b[0m \u001b[0mnp\u001b[0m\u001b[0;34m.\u001b[0m\u001b[0margmax\u001b[0m\u001b[0;34m(\u001b[0m\u001b[0mself\u001b[0m\u001b[0;34m.\u001b[0m\u001b[0mdecision_function\u001b[0m\u001b[0;34m(\u001b[0m\u001b[0mX\u001b[0m\u001b[0;34m)\u001b[0m\u001b[0;34m,\u001b[0m \u001b[0maxis\u001b[0m\u001b[0;34m=\u001b[0m\u001b[0;36m1\u001b[0m\u001b[0;34m)\u001b[0m\u001b[0;34m\u001b[0m\u001b[0;34m\u001b[0m\u001b[0m\n\u001b[1;32m    623\u001b[0m         \u001b[0;32melse\u001b[0m\u001b[0;34m:\u001b[0m\u001b[0;34m\u001b[0m\u001b[0;34m\u001b[0m\u001b[0m\n\u001b[0;32m--> 624\u001b[0;31m             \u001b[0my\u001b[0m \u001b[0;34m=\u001b[0m \u001b[0msuper\u001b[0m\u001b[0;34m(\u001b[0m\u001b[0;34m)\u001b[0m\u001b[0;34m.\u001b[0m\u001b[0mpredict\u001b[0m\u001b[0;34m(\u001b[0m\u001b[0mX\u001b[0m\u001b[0;34m)\u001b[0m\u001b[0;34m\u001b[0m\u001b[0;34m\u001b[0m\u001b[0m\n\u001b[0m\u001b[1;32m    625\u001b[0m         \u001b[0;32mreturn\u001b[0m \u001b[0mself\u001b[0m\u001b[0;34m.\u001b[0m\u001b[0mclasses_\u001b[0m\u001b[0;34m.\u001b[0m\u001b[0mtake\u001b[0m\u001b[0;34m(\u001b[0m\u001b[0mnp\u001b[0m\u001b[0;34m.\u001b[0m\u001b[0masarray\u001b[0m\u001b[0;34m(\u001b[0m\u001b[0my\u001b[0m\u001b[0;34m,\u001b[0m \u001b[0mdtype\u001b[0m\u001b[0;34m=\u001b[0m\u001b[0mnp\u001b[0m\u001b[0;34m.\u001b[0m\u001b[0mintp\u001b[0m\u001b[0;34m)\u001b[0m\u001b[0;34m)\u001b[0m\u001b[0;34m\u001b[0m\u001b[0;34m\u001b[0m\u001b[0m\n\u001b[1;32m    626\u001b[0m \u001b[0;34m\u001b[0m\u001b[0m\n",
      "\u001b[0;32m~/opt/anaconda3/lib/python3.8/site-packages/sklearn/svm/_base.py\u001b[0m in \u001b[0;36mpredict\u001b[0;34m(self, X)\u001b[0m\n\u001b[1;32m    340\u001b[0m         \u001b[0my_pred\u001b[0m \u001b[0;34m:\u001b[0m \u001b[0mndarray\u001b[0m \u001b[0mof\u001b[0m \u001b[0mshape\u001b[0m \u001b[0;34m(\u001b[0m\u001b[0mn_samples\u001b[0m\u001b[0;34m,\u001b[0m\u001b[0;34m)\u001b[0m\u001b[0;34m\u001b[0m\u001b[0;34m\u001b[0m\u001b[0m\n\u001b[1;32m    341\u001b[0m         \"\"\"\n\u001b[0;32m--> 342\u001b[0;31m         \u001b[0mX\u001b[0m \u001b[0;34m=\u001b[0m \u001b[0mself\u001b[0m\u001b[0;34m.\u001b[0m\u001b[0m_validate_for_predict\u001b[0m\u001b[0;34m(\u001b[0m\u001b[0mX\u001b[0m\u001b[0;34m)\u001b[0m\u001b[0;34m\u001b[0m\u001b[0;34m\u001b[0m\u001b[0m\n\u001b[0m\u001b[1;32m    343\u001b[0m         \u001b[0mpredict\u001b[0m \u001b[0;34m=\u001b[0m \u001b[0mself\u001b[0m\u001b[0;34m.\u001b[0m\u001b[0m_sparse_predict\u001b[0m \u001b[0;32mif\u001b[0m \u001b[0mself\u001b[0m\u001b[0;34m.\u001b[0m\u001b[0m_sparse\u001b[0m \u001b[0;32melse\u001b[0m \u001b[0mself\u001b[0m\u001b[0;34m.\u001b[0m\u001b[0m_dense_predict\u001b[0m\u001b[0;34m\u001b[0m\u001b[0;34m\u001b[0m\u001b[0m\n\u001b[1;32m    344\u001b[0m         \u001b[0;32mreturn\u001b[0m \u001b[0mpredict\u001b[0m\u001b[0;34m(\u001b[0m\u001b[0mX\u001b[0m\u001b[0;34m)\u001b[0m\u001b[0;34m\u001b[0m\u001b[0;34m\u001b[0m\u001b[0m\n",
      "\u001b[0;32m~/opt/anaconda3/lib/python3.8/site-packages/sklearn/svm/_base.py\u001b[0m in \u001b[0;36m_validate_for_predict\u001b[0;34m(self, X)\u001b[0m\n\u001b[1;32m    491\u001b[0m                                  (X.shape[1], self.shape_fit_[0]))\n\u001b[1;32m    492\u001b[0m         \u001b[0;32melif\u001b[0m \u001b[0;32mnot\u001b[0m \u001b[0mcallable\u001b[0m\u001b[0;34m(\u001b[0m\u001b[0mself\u001b[0m\u001b[0;34m.\u001b[0m\u001b[0mkernel\u001b[0m\u001b[0;34m)\u001b[0m \u001b[0;32mand\u001b[0m \u001b[0mX\u001b[0m\u001b[0;34m.\u001b[0m\u001b[0mshape\u001b[0m\u001b[0;34m[\u001b[0m\u001b[0;36m1\u001b[0m\u001b[0;34m]\u001b[0m \u001b[0;34m!=\u001b[0m \u001b[0mself\u001b[0m\u001b[0;34m.\u001b[0m\u001b[0mshape_fit_\u001b[0m\u001b[0;34m[\u001b[0m\u001b[0;36m1\u001b[0m\u001b[0;34m]\u001b[0m\u001b[0;34m:\u001b[0m\u001b[0;34m\u001b[0m\u001b[0;34m\u001b[0m\u001b[0m\n\u001b[0;32m--> 493\u001b[0;31m             raise ValueError(\"X.shape[1] = %d should be equal to %d, \"\n\u001b[0m\u001b[1;32m    494\u001b[0m                              \u001b[0;34m\"the number of features at training time\"\u001b[0m \u001b[0;34m%\u001b[0m\u001b[0;34m\u001b[0m\u001b[0;34m\u001b[0m\u001b[0m\n\u001b[1;32m    495\u001b[0m                              (X.shape[1], self.shape_fit_[1]))\n",
      "\u001b[0;31mValueError\u001b[0m: X.shape[1] = 63050 should be equal to 74303, the number of features at training time"
     ]
    }
   ],
   "source": [
    "# pickled SVM classifier\n",
    "# make predictions\n",
    "pickle_svm_pred_val = pickle_svm_clf.predict(X_val)\n",
    "pickle_svm_pred_test = pickle_svm_clf.predict(X_test)"
   ]
  },
  {
   "cell_type": "code",
   "execution_count": null,
   "metadata": {
    "id": "TYf2PXd2TyCL",
    "outputId": "5030df76-0ea6-4627-a2fa-8ea37ab33f41"
   },
   "outputs": [
    {
     "name": "stdout",
     "output_type": "stream",
     "text": [
      "SVM\n",
      "val:\n"
     ]
    },
    {
     "ename": "NameError",
     "evalue": "name 'print_metrics' is not defined",
     "output_type": "error",
     "traceback": [
      "\u001b[0;31m---------------------------------------------------------------------------\u001b[0m",
      "\u001b[0;31mNameError\u001b[0m                                 Traceback (most recent call last)",
      "\u001b[0;32m/var/folders/nr/94zdnpbn2xj3pwc_d9lfk0cw0000gn/T/ipykernel_74013/3683411668.py\u001b[0m in \u001b[0;36m<module>\u001b[0;34m\u001b[0m\n\u001b[1;32m     18\u001b[0m \u001b[0;34m\u001b[0m\u001b[0m\n\u001b[1;32m     19\u001b[0m \u001b[0;31m# display results\u001b[0m\u001b[0;34m\u001b[0m\u001b[0;34m\u001b[0m\u001b[0;34m\u001b[0m\u001b[0m\n\u001b[0;32m---> 20\u001b[0;31m \u001b[0mprint_metrics\u001b[0m\u001b[0;34m(\u001b[0m\u001b[0mpred\u001b[0m\u001b[0;34m,\u001b[0m\u001b[0my_val\u001b[0m\u001b[0;34m)\u001b[0m\u001b[0;34m\u001b[0m\u001b[0;34m\u001b[0m\u001b[0m\n\u001b[0m\u001b[1;32m     21\u001b[0m plot_confusion_matrix(confusion_matrix(y_val,pred),target_names=['fake','real'], normalize = False, \\\n\u001b[1;32m     22\u001b[0m                       title = 'Confusion matix of SVM on val data')\n",
      "\u001b[0;31mNameError\u001b[0m: name 'print_metrics' is not defined"
     ]
    }
   ],
   "source": [
    "# create SVC object \n",
    "svm_clf = SVC(kernel='linear',probability=True, C=10, class_weight='balanced')\n",
    "\n",
    "# create pipeline\n",
    "pipeline = Pipeline([\n",
    "        ('bow', CountVectorizer(ngram_range=(1, 2))), # count term frequency\n",
    "        ('tfidf', TfidfTransformer()), # downweight words which appear frequently\n",
    "        ('c', svm_clf) # classifier\n",
    "    ])\n",
    "\n",
    "# train model\n",
    "fit = pipeline.fit(X_train,y_train)\n",
    "\n",
    "# make predictions\n",
    "svm_pred_val = pipeline.predict(X_val)\n",
    "svm_pred_test = pipeline.predict(X_test)"
   ]
  },
  {
   "cell_type": "markdown",
   "metadata": {
    "id": "ay0JYxPCB4sD"
   },
   "source": [
    "## #2 Logistic Regression"
   ]
  },
  {
   "cell_type": "code",
   "execution_count": 30,
   "metadata": {
    "scrolled": true
   },
   "outputs": [
    {
     "name": "stderr",
     "output_type": "stream",
     "text": [
      "/Users/steve/opt/anaconda3/lib/python3.8/site-packages/sklearn/base.py:310: UserWarning: Trying to unpickle estimator LogisticRegression from version 1.0.1 when using version 0.24.1. This might lead to breaking code or invalid results. Use at your own risk.\n",
      "  warnings.warn(\n"
     ]
    },
    {
     "ename": "ValueError",
     "evalue": "X has 78381 features per sample; expecting 74303",
     "output_type": "error",
     "traceback": [
      "\u001b[0;31m---------------------------------------------------------------------------\u001b[0m",
      "\u001b[0;31mValueError\u001b[0m                                Traceback (most recent call last)",
      "\u001b[0;32m<ipython-input-30-de9057362592>\u001b[0m in \u001b[0;36m<module>\u001b[0;34m\u001b[0m\n\u001b[1;32m      5\u001b[0m \u001b[0;31m# make predictions\u001b[0m\u001b[0;34m\u001b[0m\u001b[0;34m\u001b[0m\u001b[0;34m\u001b[0m\u001b[0m\n\u001b[1;32m      6\u001b[0m \u001b[0;31m#pickle_lr_pred_train = pickle_lr_clf.predict(X_train)\u001b[0m\u001b[0;34m\u001b[0m\u001b[0;34m\u001b[0m\u001b[0;34m\u001b[0m\u001b[0m\n\u001b[0;32m----> 7\u001b[0;31m \u001b[0mpickle_lr_pred_val\u001b[0m \u001b[0;34m=\u001b[0m \u001b[0mpickle_lr_clf\u001b[0m\u001b[0;34m.\u001b[0m\u001b[0mpredict\u001b[0m\u001b[0;34m(\u001b[0m\u001b[0mX_val\u001b[0m\u001b[0;34m)\u001b[0m\u001b[0;34m\u001b[0m\u001b[0;34m\u001b[0m\u001b[0m\n\u001b[0m\u001b[1;32m      8\u001b[0m \u001b[0;31m#pickle_lr_pred_test = pickle_lr_clf.predict(X_test)\u001b[0m\u001b[0;34m\u001b[0m\u001b[0;34m\u001b[0m\u001b[0;34m\u001b[0m\u001b[0m\n",
      "\u001b[0;32m~/opt/anaconda3/lib/python3.8/site-packages/sklearn/linear_model/_base.py\u001b[0m in \u001b[0;36mpredict\u001b[0;34m(self, X)\u001b[0m\n\u001b[1;32m    307\u001b[0m             \u001b[0mPredicted\u001b[0m \u001b[0;32mclass\u001b[0m \u001b[0mlabel\u001b[0m \u001b[0mper\u001b[0m \u001b[0msample\u001b[0m\u001b[0;34m.\u001b[0m\u001b[0;34m\u001b[0m\u001b[0;34m\u001b[0m\u001b[0m\n\u001b[1;32m    308\u001b[0m         \"\"\"\n\u001b[0;32m--> 309\u001b[0;31m         \u001b[0mscores\u001b[0m \u001b[0;34m=\u001b[0m \u001b[0mself\u001b[0m\u001b[0;34m.\u001b[0m\u001b[0mdecision_function\u001b[0m\u001b[0;34m(\u001b[0m\u001b[0mX\u001b[0m\u001b[0;34m)\u001b[0m\u001b[0;34m\u001b[0m\u001b[0;34m\u001b[0m\u001b[0m\n\u001b[0m\u001b[1;32m    310\u001b[0m         \u001b[0;32mif\u001b[0m \u001b[0mlen\u001b[0m\u001b[0;34m(\u001b[0m\u001b[0mscores\u001b[0m\u001b[0;34m.\u001b[0m\u001b[0mshape\u001b[0m\u001b[0;34m)\u001b[0m \u001b[0;34m==\u001b[0m \u001b[0;36m1\u001b[0m\u001b[0;34m:\u001b[0m\u001b[0;34m\u001b[0m\u001b[0;34m\u001b[0m\u001b[0m\n\u001b[1;32m    311\u001b[0m             \u001b[0mindices\u001b[0m \u001b[0;34m=\u001b[0m \u001b[0;34m(\u001b[0m\u001b[0mscores\u001b[0m \u001b[0;34m>\u001b[0m \u001b[0;36m0\u001b[0m\u001b[0;34m)\u001b[0m\u001b[0;34m.\u001b[0m\u001b[0mastype\u001b[0m\u001b[0;34m(\u001b[0m\u001b[0mint\u001b[0m\u001b[0;34m)\u001b[0m\u001b[0;34m\u001b[0m\u001b[0;34m\u001b[0m\u001b[0m\n",
      "\u001b[0;32m~/opt/anaconda3/lib/python3.8/site-packages/sklearn/linear_model/_base.py\u001b[0m in \u001b[0;36mdecision_function\u001b[0;34m(self, X)\u001b[0m\n\u001b[1;32m    286\u001b[0m         \u001b[0mn_features\u001b[0m \u001b[0;34m=\u001b[0m \u001b[0mself\u001b[0m\u001b[0;34m.\u001b[0m\u001b[0mcoef_\u001b[0m\u001b[0;34m.\u001b[0m\u001b[0mshape\u001b[0m\u001b[0;34m[\u001b[0m\u001b[0;36m1\u001b[0m\u001b[0;34m]\u001b[0m\u001b[0;34m\u001b[0m\u001b[0;34m\u001b[0m\u001b[0m\n\u001b[1;32m    287\u001b[0m         \u001b[0;32mif\u001b[0m \u001b[0mX\u001b[0m\u001b[0;34m.\u001b[0m\u001b[0mshape\u001b[0m\u001b[0;34m[\u001b[0m\u001b[0;36m1\u001b[0m\u001b[0;34m]\u001b[0m \u001b[0;34m!=\u001b[0m \u001b[0mn_features\u001b[0m\u001b[0;34m:\u001b[0m\u001b[0;34m\u001b[0m\u001b[0;34m\u001b[0m\u001b[0m\n\u001b[0;32m--> 288\u001b[0;31m             raise ValueError(\"X has %d features per sample; expecting %d\"\n\u001b[0m\u001b[1;32m    289\u001b[0m                              % (X.shape[1], n_features))\n\u001b[1;32m    290\u001b[0m \u001b[0;34m\u001b[0m\u001b[0m\n",
      "\u001b[0;31mValueError\u001b[0m: X has 78381 features per sample; expecting 74303"
     ]
    }
   ],
   "source": [
    "# load pickled Logistic Regression classifier\n",
    "with open(\"pickle_lg_clf.pkl\", 'rb') as file:\n",
    "    pickle_lr_clf = pickle.load(file)\n",
    "\n",
    "# make predictions\n",
    "#pickle_lr_pred_train = pickle_lr_clf.predict(X_train)\n",
    "pickle_lr_pred_val = pickle_lr_clf.predict(X_val)\n",
    "#pickle_lr_pred_test = pickle_lr_clf.predict(X_test)"
   ]
  },
  {
   "cell_type": "code",
   "execution_count": null,
   "metadata": {
    "id": "JZsimwCxO-du",
    "outputId": "b8cef749-bccd-47ac-bc16-2cf713b79e1d"
   },
   "outputs": [],
   "source": [
    "# create logistic regression object\n",
    "lr_clf = LogisticRegression(max_iter=1000, penalty='none', solver='saga')\n",
    "\n",
    "# create pipeline\n",
    "pipeline = Pipeline([\n",
    "        #('count', CountVectorizer(ngram_range=(1, 2))), # count term frequency\n",
    "        #('tfidf', TfidfTransformer()), # downweight words which appear frequently\n",
    "        ('c', lr_clf) # classifier\n",
    "    ])\n",
    "\n",
    "# train model\n",
    "fit = pipeline.fit(X_train,y_train)\n",
    "\n",
    "# make predictions\n",
    "pred = pipeline.predict(X_val) "
   ]
  },
  {
   "cell_type": "markdown",
   "metadata": {},
   "source": [
    "## Pickled!"
   ]
  },
  {
   "cell_type": "code",
   "execution_count": 25,
   "metadata": {},
   "outputs": [
    {
     "name": "stdout",
     "output_type": "stream",
     "text": [
      "[[966  54]\n",
      " [191 929]]\n",
      "              precision    recall  f1-score   support\n",
      "\n",
      "           0       0.83      0.95      0.89      1020\n",
      "           1       0.95      0.83      0.88      1120\n",
      "\n",
      "    accuracy                           0.89      2140\n",
      "   macro avg       0.89      0.89      0.89      2140\n",
      "weighted avg       0.89      0.89      0.89      2140\n",
      "\n",
      "Accuracy :  0.8855140186915887\n",
      "Precison :  0.8930422671405011\n",
      "Recall :  0.8855140186915887\n",
      "F1 :  0.8856407771358987\n"
     ]
    },
    {
     "data": {
      "image/png": "[encoded data removed]",
      "text/plain": [
       "<Figure size 360x288 with 2 Axes>"
      ]
     },
     "metadata": {
      "needs_background": "light"
     },
     "output_type": "display_data"
    }
   ],
   "source": [
    "# make predictions\n",
    "pred_lr_pickled = pickle_lr_clf.predict(X_test)\n",
    "\n",
    "# display results\n",
    "print_metrics(pred_lr_pickled,y_test)\n",
    "plot_confusion_matrix(confusion_matrix(y_test,pred_lr_pickled),target_names=['fake','real'], normalize = False, \\\n",
    "                      title = 'Confusion matix of Pickled LR on test data')"
   ]
  },
  {
   "cell_type": "markdown",
   "metadata": {
    "id": "HcYMm6vZB7-V"
   },
   "source": [
    "## #3 Extreme Gradient Boost"
   ]
  },
  {
   "cell_type": "code",
   "execution_count": null,
   "metadata": {
    "id": "14jIEEenBVi8"
   },
   "outputs": [],
   "source": [
    "# XGBoost classifier\n",
    "#gb_clf = GradientBoostingClassifier()\n",
    "\n",
    "# train model\n",
    "#fit = gb_clf.fit(X_train, y_train)\n",
    "\n",
    "# make predictions\n",
    "#gb_pred = gb_clf.predict(X_val)"
   ]
  },
  {
   "cell_type": "code",
   "execution_count": null,
   "metadata": {
    "colab": {
     "base_uri": "https://localhost:8080/",
     "height": 614
    },
    "id": "FeZ9DHPNpNNN",
    "outputId": "77bd2c23-6dff-4bc5-9e5b-a79511b27c59"
   },
   "outputs": [
    {
     "name": "stderr",
     "output_type": "stream",
     "text": [
      "/Users/marco/opt/anaconda3/lib/python3.8/site-packages/xgboost/sklearn.py:1224: UserWarning: The use of label encoder in XGBClassifier is deprecated and will be removed in a future release. To remove this warning, do the following: 1) Pass option use_label_encoder=False when constructing XGBClassifier object; and 2) Encode your labels (y) as integers starting with 0, i.e. 0, 1, 2, ..., [num_class - 1].\n",
      "  warnings.warn(label_encoder_deprecation_msg, UserWarning)\n"
     ]
    },
    {
     "name": "stdout",
     "output_type": "stream",
     "text": [
      "[19:54:58] WARNING: ../src/learner.cc:576: \n",
      "Parameters: { \"scale\" } might not be used.\n",
      "\n",
      "  This could be a false alarm, with some parameters getting used by language bindings but\n",
      "  then being mistakenly passed down to XGBoost core, or some parameter actually being used\n",
      "  but getting flagged wrongly here. Please open an issue if you find any such cases.\n",
      "\n",
      "\n",
      "[19:54:59] WARNING: ../src/learner.cc:1115: Starting in XGBoost 1.3.0, the default evaluation metric used with the objective 'binary:logistic' was changed from 'error' to 'logloss'. Explicitly set eval_metric if you'd like to restore the old behavior.\n",
      "XGBoost\n",
      "val:\n",
      "[[ 935   85]\n",
      " [  82 1038]]\n",
      "              precision    recall  f1-score   support\n",
      "\n",
      "           0       0.92      0.92      0.92      1020\n",
      "           1       0.92      0.93      0.93      1120\n",
      "\n",
      "    accuracy                           0.92      2140\n",
      "   macro avg       0.92      0.92      0.92      2140\n",
      "weighted avg       0.92      0.92      0.92      2140\n",
      "\n",
      "Accuracy :  0.9219626168224299\n",
      "Precison :  0.9219768024032042\n",
      "Recall :  0.9219626168224299\n",
      "F1 :  0.9219678944759429\n"
     ]
    },
    {
     "data": {
      "image/png": "[encoded data removed]",
      "text/plain": [
       "<Figure size 360x288 with 2 Axes>"
      ]
     },
     "metadata": {
      "needs_background": "light"
     },
     "output_type": "display_data"
    }
   ],
   "source": [
    "# XGBoost Classifier\n",
    "\n",
    "# create pipeline\n",
    "pipeline = Pipeline([\n",
    "        #('bow', CountVectorizer(ngram_range=(1, 1))), # count term frequency\n",
    "        #('tfidf', TfidfTransformer()), # downweight words which appear frequently\n",
    "        ('c', XGBClassifier(max_depth=3, min_child_weight=3, eta = 0.15000000000000002,n_estimators = 550, scale=1, subsample =0.8500000000000001 )) # classifier\n",
    "        #('c', XGBClassifier(max_depth=20, min_child_weight=2)) # classifier\n",
    "        #('c', XGBClassifier(**params, objective='binary:logistic')) # classifier \n",
    "        # Best parameters: {'model__max_depth': 10, 'model__min_child_weight': 1, 'model__n_estimators': 100}\n",
    "    ])\n",
    "\n",
    " \n",
    "\n",
    "fit = pipeline.fit(X_train,y_train) # train model\n",
    "print('XGBoost')\n",
    "print ('val:')\n",
    "pred_EGB = pipeline.predict(X_val) # make predictions\n",
    "\n",
    "# display results\n",
    "print_metrics(pred_EGB,y_val)\n",
    "plot_confusion_matrix(confusion_matrix(y_val,pred_EGB),target_names=['fake','real'], normalize = False, \\\n",
    "                      title = 'Confusion matix of XGBoost on val data')"
   ]
  },
  {
   "cell_type": "markdown",
   "metadata": {
    "id": "WcYc9QrCB_9j"
   },
   "source": [
    "## #4 Adaptive Boost"
   ]
  },
  {
   "cell_type": "code",
   "execution_count": null,
   "metadata": {
    "id": "kKs_IrTSBYQw"
   },
   "outputs": [],
   "source": [
    "# AdaBoost classifier\n",
    "ada_clf = AdaBoostClassifier(n_estimators=500, random_state=0, learning_rate = 1.0)\n",
    "\n",
    "# train model\n",
    "fit = ada_clf.fit(X_train, y_train)\n",
    "\n",
    "# make predictions\n",
    "ada_pred = ada_clf.predict(X_val)"
   ]
  },
  {
   "cell_type": "code",
   "execution_count": 17,
   "metadata": {
    "colab": {
     "base_uri": "https://localhost:8080/"
    },
    "executionInfo": {
     "elapsed": 1812,
     "status": "ok",
     "timestamp": 1651516590506,
     "user": {
      "displayName": "Hannah Schweren",
      "userId": "17418859482307087546"
     },
     "user_tz": -120
    },
    "id": "SFUC6NTCA1kS",
    "outputId": "f85ca20b-803c-4796-a52b-020cad16947b"
   },
   "outputs": [
    {
     "name": "stdout",
     "output_type": "stream",
     "text": [
      "Drive already mounted at drive; to attempt to forcibly remount, call drive.mount(\"drive\", force_remount=True).\n"
     ]
    }
   ],
   "source": [
    "import pickle\n",
    "#mount drive to save data\n",
    "from google.colab import drive\n",
    "drive.mount('drive')"
   ]
  },
  {
   "cell_type": "code",
   "execution_count": 8,
   "metadata": {
    "colab": {
     "base_uri": "https://localhost:8080/",
     "height": 236
    },
    "executionInfo": {
     "elapsed": 227,
     "status": "error",
     "timestamp": 1651515959403,
     "user": {
      "displayName": "Hannah Schweren",
      "userId": "17418859482307087546"
     },
     "user_tz": -120
    },
    "id": "96rEtjBPA1kS",
    "outputId": "ed6d0ac7-5059-400d-97a4-2fd5abf02233"
   },
   "outputs": [
    {
     "ename": "NameError",
     "evalue": "ignored",
     "output_type": "error",
     "traceback": [
      "\u001b[0;31m---------------------------------------------------------------------------\u001b[0m",
      "\u001b[0;31mNameError\u001b[0m                                 Traceback (most recent call last)",
      "\u001b[0;32m<ipython-input-8-0a39ce4e28e1>\u001b[0m in \u001b[0;36m<module>\u001b[0;34m()\u001b[0m\n\u001b[1;32m      2\u001b[0m \u001b[0mpkl_filename\u001b[0m \u001b[0;34m=\u001b[0m \u001b[0;34m\"pickle_svm_clf.pkl\"\u001b[0m\u001b[0;34m\u001b[0m\u001b[0;34m\u001b[0m\u001b[0m\n\u001b[1;32m      3\u001b[0m \u001b[0;32mwith\u001b[0m \u001b[0mopen\u001b[0m\u001b[0;34m(\u001b[0m\u001b[0mpkl_filename\u001b[0m\u001b[0;34m,\u001b[0m \u001b[0;34m'wb'\u001b[0m\u001b[0;34m)\u001b[0m \u001b[0;32mas\u001b[0m \u001b[0mfile\u001b[0m\u001b[0;34m:\u001b[0m\u001b[0;34m\u001b[0m\u001b[0;34m\u001b[0m\u001b[0m\n\u001b[0;32m----> 4\u001b[0;31m     \u001b[0mpickle\u001b[0m\u001b[0;34m.\u001b[0m\u001b[0mdump\u001b[0m\u001b[0;34m(\u001b[0m\u001b[0msvm_clf\u001b[0m\u001b[0;34m,\u001b[0m \u001b[0mfile\u001b[0m\u001b[0;34m)\u001b[0m\u001b[0;34m\u001b[0m\u001b[0;34m\u001b[0m\u001b[0m\n\u001b[0m\u001b[1;32m      5\u001b[0m \u001b[0;34m\u001b[0m\u001b[0m\n\u001b[1;32m      6\u001b[0m \u001b[0;31m# Load from file\u001b[0m\u001b[0;34m\u001b[0m\u001b[0;34m\u001b[0m\u001b[0;34m\u001b[0m\u001b[0m\n",
      "\u001b[0;31mNameError\u001b[0m: name 'pickle' is not defined"
     ]
    }
   ],
   "source": [
    "#save SVM\n",
    "pkl_filename = \"pickle_svm_clf.pkl\"\n",
    "with open(pkl_filename, 'wb') as file:\n",
    "    pickle.dump(svm_clf, file)\n",
    "\n",
    "# Load from file\n",
    "#with open(pkl_filename, 'rb') as file:\n",
    "#    pickle_svm_clf = pickle.load(file)\n",
    "\n",
    "#use pickle_svm_clf as model for unseen data"
   ]
  },
  {
   "cell_type": "code",
   "execution_count": 18,
   "metadata": {
    "colab": {
     "base_uri": "https://localhost:8080/"
    },
    "executionInfo": {
     "elapsed": 201,
     "status": "ok",
     "timestamp": 1651516593091,
     "user": {
      "displayName": "Hannah Schweren",
      "userId": "17418859482307087546"
     },
     "user_tz": -120
    },
    "id": "93n4GkxrA1kS",
    "outputId": "7cfb933f-95f4-49c4-a7ef-7321078d4a69"
   },
   "outputs": [
    {
     "name": "stderr",
     "output_type": "stream",
     "text": [
      "/usr/local/lib/python3.7/dist-packages/sklearn/base.py:338: UserWarning: Trying to unpickle estimator LogisticRegression from version 1.0.1 when using version 1.0.2. This might lead to breaking code or invalid results. Use at your own risk. For more info please refer to:\n",
      "https://scikit-learn.org/stable/modules/model_persistence.html#security-maintainability-limitations\n",
      "  UserWarning,\n"
     ]
    }
   ],
   "source": [
    "# Load from file\n",
    "pkl_filename = \"pickle_lg_clf.pkl\"\n",
    "with open(pkl_filename, 'rb') as file:\n",
    "    pickle_lg_clf = pickle.load(file)\n",
    "\n",
    "\n",
    "\n",
    "    \n",
    "#use pickle_svm_clf as model for unseen data"
   ]
  },
  {
   "cell_type": "code",
   "execution_count": null,
   "metadata": {
    "id": "3euIXfjFCdFc"
   },
   "outputs": [],
   "source": [
    "pickle_lg_clf_pred = pickle_lg_clf.predict(X_val)\n",
    "\n",
    "print_metrics(pickle_lg_clf_pred, y_val)\n",
    "plot_confusion_matrix(confusion_matrix(y_val,pickle_lg_clf_pred),target_names=['fake','real'], normalize = False, \\\n",
    "                      title = 'Confusion matix of pickle lg on val data')"
   ]
  },
  {
   "cell_type": "code",
   "execution_count": null,
   "metadata": {
    "id": "mNkNNu7fA1kS"
   },
   "outputs": [],
   "source": [
    "#save LG\n",
    "pkl_filename = \"pickle_lg_clf.pkl\"\n",
    "with open(pkl_filename, 'wb') as file:\n",
    "    pickle.dump(lr_clf, file)\n",
    "\n",
    "# Load from file\n",
    "#with open(pkl_filename, 'rb') as file:\n",
    "#    pickle_svm_clf = pickle.load(file)\n",
    "\n",
    "#use pickle_svm_clf as model for unseen data"
   ]
  },
  {
   "cell_type": "code",
   "execution_count": 11,
   "metadata": {
    "colab": {
     "base_uri": "https://localhost:8080/",
     "height": 236
    },
    "executionInfo": {
     "elapsed": 296,
     "status": "error",
     "timestamp": 1651516083313,
     "user": {
      "displayName": "Hannah Schweren",
      "userId": "17418859482307087546"
     },
     "user_tz": -120
    },
    "id": "0K6VAQNQA1kT",
    "outputId": "b9f21db8-7a1f-4a27-800b-bc6f2b0b91e3"
   },
   "outputs": [
    {
     "ename": "NameError",
     "evalue": "ignored",
     "output_type": "error",
     "traceback": [
      "\u001b[0;31m---------------------------------------------------------------------------\u001b[0m",
      "\u001b[0;31mNameError\u001b[0m                                 Traceback (most recent call last)",
      "\u001b[0;32m<ipython-input-11-8491a981da81>\u001b[0m in \u001b[0;36m<module>\u001b[0;34m()\u001b[0m\n\u001b[1;32m      2\u001b[0m \u001b[0mpkl_filename\u001b[0m \u001b[0;34m=\u001b[0m \u001b[0;34m\"pickle_xgb_clf.pkl\"\u001b[0m\u001b[0;34m\u001b[0m\u001b[0;34m\u001b[0m\u001b[0m\n\u001b[1;32m      3\u001b[0m \u001b[0;32mwith\u001b[0m \u001b[0mopen\u001b[0m\u001b[0;34m(\u001b[0m\u001b[0mpkl_filename\u001b[0m\u001b[0;34m,\u001b[0m \u001b[0;34m'wb'\u001b[0m\u001b[0;34m)\u001b[0m \u001b[0;32mas\u001b[0m \u001b[0mfile\u001b[0m\u001b[0;34m:\u001b[0m\u001b[0;34m\u001b[0m\u001b[0;34m\u001b[0m\u001b[0m\n\u001b[0;32m----> 4\u001b[0;31m     \u001b[0mpickle\u001b[0m\u001b[0;34m.\u001b[0m\u001b[0mdump\u001b[0m\u001b[0;34m(\u001b[0m\u001b[0msvm_clf\u001b[0m\u001b[0;34m,\u001b[0m \u001b[0mfile\u001b[0m\u001b[0;34m)\u001b[0m\u001b[0;34m\u001b[0m\u001b[0;34m\u001b[0m\u001b[0m\n\u001b[0m\u001b[1;32m      5\u001b[0m \u001b[0;34m\u001b[0m\u001b[0m\n\u001b[1;32m      6\u001b[0m \u001b[0;31m# Load from file\u001b[0m\u001b[0;34m\u001b[0m\u001b[0;34m\u001b[0m\u001b[0;34m\u001b[0m\u001b[0m\n",
      "\u001b[0;31mNameError\u001b[0m: name 'svm_clf' is not defined"
     ]
    }
   ],
   "source": [
    "#save XGB\n",
    "pkl_filename = \"pickle_xgb_clf.pkl\"\n",
    "with open(pkl_filename, 'wb') as file:\n",
    "    pickle.dump(svm_clf, file)\n",
    "\n",
    "# Load from file\n",
    "#with open(pkl_filename, 'rb') as file:\n",
    "#    pickle_svm_clf = pickle.load(file)\n",
    "\n",
    "#use pickle_svm_clf as model for unseen data"
   ]
  },
  {
   "cell_type": "code",
   "execution_count": null,
   "metadata": {
    "id": "Tj2NRJTzA1kT"
   },
   "outputs": [],
   "source": [
    "#save it\n",
    "pkl_filename = \"pickle_svm_clf.pkl\"\n",
    "with open(pkl_filename, 'wb') as file:\n",
    "    pickle.dump(svm_clf, file)\n",
    "\n",
    "# Load from file\n",
    "with open(pkl_filename, 'rb') as file:\n",
    "    pickle_svm_clf = pickle.load(file)\n",
    "\n",
    "#use pickle_svm_clf as model for unseen data"
   ]
  },
  {
   "cell_type": "code",
   "execution_count": null,
   "metadata": {
    "id": "aQTanypmA1kU"
   },
   "outputs": [],
   "source": []
  },
  {
   "cell_type": "markdown",
   "metadata": {
    "id": "rcdD5s2tM4mU"
   },
   "source": [
    "## #5 Voting Classifier"
   ]
  },
  {
   "cell_type": "code",
   "execution_count": null,
   "metadata": {
    "id": "wnr4nCQzIlOz"
   },
   "outputs": [],
   "source": [
    "named_estimators = [\n",
    "    (\"SVM\", svm_clf),\n",
    "    (\"Logistic Regression\", lr_clf),\n",
    "    (\"Ada Boost\", ada_clf),\n",
    "    (\"Gradient Boosting\", gb_clf), # for each of the individual models\n",
    "]"
   ]
  },
  {
   "cell_type": "code",
   "execution_count": null,
   "metadata": {
    "id": "3SrkWvL_MJ9o"
   },
   "outputs": [],
   "source": [
    "# voting classifier\n",
    "voting_clf = VotingClassifier(named_estimators, voting = \"soft\") #soft voting (predicts the class label based on the argmax of the sums of the predicted probabilities)\n",
    "\n",
    "# fit model\n",
    "voting_clf.fit(X_train,y_train)\n",
    "\n",
    "# make prediction\n",
    "voting_pred = voting_clf.predict(X_val)"
   ]
  },
  {
   "cell_type": "markdown",
   "metadata": {
    "id": "gogyysMESVOy"
   },
   "source": [
    "# Evaluation"
   ]
  },
  {
   "cell_type": "code",
   "execution_count": 8,
   "metadata": {
    "executionInfo": {
     "elapsed": 232,
     "status": "ok",
     "timestamp": 1651521495232,
     "user": {
      "displayName": "Hannah Schweren",
      "userId": "17418859482307087546"
     },
     "user_tz": -120
    },
    "id": "HpF-fmjkTY1_"
   },
   "outputs": [],
   "source": [
    "# define print_metrics() function to print results\n",
    "def print_metrics(pred,true):\n",
    "    print(confusion_matrix(true,pred))\n",
    "    print(classification_report(true,pred,))\n",
    "    print(\"Accuracy : \",accuracy_score(pred,true))\n",
    "    print(\"Precison : \",precision_score(pred,true, average = 'weighted'))\n",
    "    print(\"Recall : \",recall_score(pred,true,  average = 'weighted'))\n",
    "    print(\"F1 : \",f1_score(pred,true,  average = 'weighted'))"
   ]
  },
  {
   "cell_type": "code",
   "execution_count": 9,
   "metadata": {
    "executionInfo": {
     "elapsed": 285,
     "status": "ok",
     "timestamp": 1651521496596,
     "user": {
      "displayName": "Hannah Schweren",
      "userId": "17418859482307087546"
     },
     "user_tz": -120
    },
    "id": "7kn6E5WCBA6g"
   },
   "outputs": [],
   "source": [
    "# define plot_confusion_matrix() function to display results\n",
    "def plot_confusion_matrix(cm,\n",
    "                          target_names,\n",
    "                          title='Confusion matrix',\n",
    "                          cmap=None,\n",
    "                          normalize=True):\n",
    "    \"\"\"\n",
    "    given a sklearn confusion matrix (cm), make a nice plot\n",
    "\n",
    "    Arguments\n",
    "    ---------\n",
    "    cm:           confusion matrix from sklearn.metrics.confusion_matrix\n",
    "\n",
    "    target_names: given classification classes such as [0, 1, 2]\n",
    "                  the class names, for example: ['high', 'medium', 'low']\n",
    "\n",
    "    title:        the text to display at the top of the matrix\n",
    "\n",
    "    cmap:         the gradient of the values displayed from matplotlib.pyplot.cm\n",
    "                  see http://matplotlib.org/examples/color/colormaps_reference.html\n",
    "                  plt.get_cmap('jet') or plt.cm.Blues\n",
    "\n",
    "    normalize:    If False, plot the raw numbers\n",
    "                  If True, plot the proportions\n",
    "\n",
    "    Usage\n",
    "    -----\n",
    "    plot_confusion_matrix(cm           = cm,                  # confusion matrix created by\n",
    "                                                              # sklearn.metrics.confusion_matrix\n",
    "                          normalize    = True,                # show proportions\n",
    "                          target_names = y_labels_vals,       # list of names of the classes\n",
    "                          title        = best_estimator_name) # title of graph\n",
    "\n",
    "    Citiation\n",
    "    ---------\n",
    "    http://scikit-learn.org/stable/auto_examples/model_selection/plot_confusion_matrix.html\n",
    "\n",
    "    \"\"\"\n",
    "\n",
    "    accuracy = np.trace(cm) / float(np.sum(cm))\n",
    "    misclass = 1 - accuracy\n",
    "\n",
    "    if cmap is None:\n",
    "        cmap = plt.get_cmap('Blues')\n",
    "\n",
    "    plt.figure(figsize=(5, 4))\n",
    "    plt.imshow(cm, interpolation='nearest', cmap=cmap)\n",
    "    plt.title(title)\n",
    "    plt.colorbar()\n",
    "\n",
    "    if target_names is not None:\n",
    "        tick_marks = np.arange(len(target_names))\n",
    "        plt.xticks(tick_marks, target_names, rotation=45)\n",
    "        plt.yticks(tick_marks, target_names)\n",
    "\n",
    "    if normalize:\n",
    "        cm = cm.astype('float') / cm.sum(axis=1)[:, np.newaxis]\n",
    "\n",
    "\n",
    "    thresh = cm.max() / 1.5 if normalize else cm.max() / 2\n",
    "    for i, j in itertools.product(range(cm.shape[0]), range(cm.shape[1])):\n",
    "        if normalize:\n",
    "            plt.text(j, i, \"{:0.4f}\".format(cm[i, j]),\n",
    "                     horizontalalignment=\"center\",\n",
    "                     color=\"white\" if cm[i, j] > thresh else \"black\")\n",
    "        else:\n",
    "            plt.text(j, i, \"{:,}\".format(cm[i, j]),\n",
    "                     horizontalalignment=\"center\",\n",
    "                     color=\"white\" if cm[i, j] > thresh else \"black\")\n",
    "\n",
    "\n",
    "    plt.tight_layout()\n",
    "    plt.ylabel('True label')\n",
    "    #plt.xlabel('Predicted label\\naccuracy={:0.4f}; misclass={:0.4f}'.format(accuracy, misclass))\n",
    "    plt.xlabel('Predicted label')\n",
    "    plt.show()"
   ]
  },
  {
   "cell_type": "markdown",
   "metadata": {
    "id": "Qio2c88rMKT1"
   },
   "source": [
    "## #1 SVM"
   ]
  },
  {
   "cell_type": "code",
   "execution_count": null,
   "metadata": {
    "id": "Sn0tNQw5QAmO"
   },
   "outputs": [],
   "source": [
    "# display results\n",
    "print_metrics(svm_pred, y_val)\n",
    "plot_confusion_matrix(confusion_matrix(y_val,svm_pred),target_names=['fake','real'], normalize = False, \\\n",
    "                      title = 'Confusion matix of SVM on val data')"
   ]
  },
  {
   "cell_type": "code",
   "execution_count": null,
   "metadata": {},
   "outputs": [],
   "source": [
    "# display results\n",
    "print_metrics(pred,y_val)\n",
    "plot_confusion_matrix(confusion_matrix(y_val,pred),target_names=['fake','real'], normalize = False, \\\n",
    "                      title = 'Confusion matix of SVM on val data')"
   ]
  },
  {
   "cell_type": "markdown",
   "metadata": {
    "id": "0_hM1sTVMQei"
   },
   "source": [
    "## #2 Logisitic Regression"
   ]
  },
  {
   "cell_type": "code",
   "execution_count": null,
   "metadata": {
    "colab": {
     "base_uri": "https://localhost:8080/",
     "height": 579
    },
    "id": "lFnaDSXDUVJz",
    "outputId": "1cda23d9-29b3-4488-fa22-8a4657d08999"
   },
   "outputs": [
    {
     "name": "stdout",
     "output_type": "stream",
     "text": [
      "[[ 950   70]\n",
      " [  54 1066]]\n",
      "              precision    recall  f1-score   support\n",
      "\n",
      "           0       0.95      0.93      0.94      1020\n",
      "           1       0.94      0.95      0.95      1120\n",
      "\n",
      "    accuracy                           0.94      2140\n",
      "   macro avg       0.94      0.94      0.94      2140\n",
      "weighted avg       0.94      0.94      0.94      2140\n",
      "\n",
      "Accuracy :  0.9420560747663551\n",
      "Precison :  0.9422086965627371\n",
      "Recall :  0.9420560747663551\n",
      "F1 :  0.9420796272266441\n"
     ]
    },
    {
     "data": {
      "image/png": "[encoded data removed]",
      "text/plain": [
       "<Figure size 360x288 with 2 Axes>"
      ]
     },
     "metadata": {
      "needs_background": "light"
     },
     "output_type": "display_data"
    }
   ],
   "source": [
    "# display results\n",
    "print_metrics(pred, y_val)\n",
    "plot_confusion_matrix(confusion_matrix(y_val,pred),target_names=['fake','real'], normalize = False, \\\n",
    "                      title = 'Confusion matix of LR on val data')"
   ]
  },
  {
   "cell_type": "markdown",
   "metadata": {
    "id": "frfqzpeUMZni"
   },
   "source": [
    "## #3 Extreme Gradient Boost"
   ]
  },
  {
   "cell_type": "code",
   "execution_count": null,
   "metadata": {
    "id": "w0a8XHEMU8U8"
   },
   "outputs": [],
   "source": [
    "# display results\n",
    "print_metrics(gb_pred, y_val)\n",
    "plot_confusion_matrix(confusion_matrix(y_val, gb_pred),target_names=['fake','real'], normalize = False, \\\n",
    "                      title = 'Confusion matix of GDBT on val data')"
   ]
  },
  {
   "cell_type": "markdown",
   "metadata": {
    "id": "WZSeMLEDMfTL"
   },
   "source": [
    "## #4 Adaptive Boost"
   ]
  },
  {
   "cell_type": "code",
   "execution_count": null,
   "metadata": {
    "colab": {
     "base_uri": "https://localhost:8080/",
     "height": 572
    },
    "id": "BsKRB4AJiAWh",
    "outputId": "68e9cbf1-31be-4a4c-8bc0-69449b8855d8"
   },
   "outputs": [
    {
     "name": "stdout",
     "output_type": "stream",
     "text": [
      "[[ 932   88]\n",
      " [  94 1026]]\n",
      "              precision    recall  f1-score   support\n",
      "\n",
      "           0       0.91      0.91      0.91      1020\n",
      "           1       0.92      0.92      0.92      1120\n",
      "\n",
      "    accuracy                           0.91      2140\n",
      "   macro avg       0.91      0.91      0.91      2140\n",
      "weighted avg       0.91      0.91      0.91      2140\n",
      "\n",
      "Accuracy :  0.9149532710280374\n",
      "Precison :  0.9149466936307233\n",
      "Recall :  0.9149532710280374\n",
      "F1 :  0.9149427768622611\n"
     ]
    },
    {
     "data": {
      "image/png": "[encoded data removed]",
      "text/plain": [
       "<Figure size 360x288 with 2 Axes>"
      ]
     },
     "metadata": {
      "needs_background": "light"
     },
     "output_type": "display_data"
    }
   ],
   "source": [
    "#without hyperparameters: f1 = 0.8850370706902788\n",
    "# display results\n",
    "print_metrics(ada_pred,y_val)\n",
    "plot_confusion_matrix(confusion_matrix(y_val,ada_pred),target_names=['fake','real'], normalize = False, \\\n",
    "                      title = 'Confusion matix of Ada on val data')"
   ]
  },
  {
   "cell_type": "markdown",
   "metadata": {
    "id": "1paYU83BNAnz"
   },
   "source": [
    "## #5 Voting Classifier"
   ]
  },
  {
   "cell_type": "code",
   "execution_count": null,
   "metadata": {
    "id": "pWKteqEiRXFP"
   },
   "outputs": [],
   "source": [
    "# display results\n",
    "print_metrics(voting_pred,val['label'])\n",
    "plot_confusion_matrix(confusion_matrix(val['label'],voting_pred),target_names=['fake','real'], normalize = False, \\\n",
    "                      title = 'Confusion matix of Ensemble on val data')"
   ]
  },
  {
   "cell_type": "markdown",
   "metadata": {
    "id": "78_DTv2cRlkE"
   },
   "source": [
    "So far, simple SVM outfperforms ensemble learning"
   ]
  },
  {
   "cell_type": "code",
   "execution_count": null,
   "metadata": {
    "id": "nQ74LuujA4Ou"
   },
   "outputs": [],
   "source": []
  },
  {
   "cell_type": "markdown",
   "metadata": {
    "id": "BO60WIMcMiNO"
   },
   "source": [
    "# Error Analysis"
   ]
  },
  {
   "cell_type": "code",
   "execution_count": null,
   "metadata": {
    "id": "DqTnVTIeBadM"
   },
   "outputs": [],
   "source": [
    "# create a df of misclassified posts\n",
    "val_orig = pd.read_csv('https://raw.githubusercontent.com/smkerr/COVID-fake-news-detection/main/data/Constraint_Val.csv', header=0)\n",
    "svm_val_misclass_df = val_orig[svm_pred!=y_val]\n",
    "\n",
    "# inspect df\n",
    "svm_val_misclass_df.info()"
   ]
  },
  {
   "cell_type": "code",
   "execution_count": null,
   "metadata": {
    "id": "XHONng5cDZRS"
   },
   "outputs": [],
   "source": [
    "#error analysis, to compair the false classifications of the different models\n",
    "\n",
    "false_pred_svm = val[(val[\"label\"] != svm_pred)]\n",
    "false_pred_gb = val[(val[\"label\"] != gb_pred)]\n",
    "false_pred_lr = val[(val[\"label\"] != lr_pred)]\n",
    "false_pred_xg = val[(val[\"label\"] != pred)]\n",
    "false_pred_ada = val[(val[\"label\"] != ada_pred)]\n",
    "false_pred_ensemble = val[(val[\"label\"] != voting_pred)]\n",
    "\n",
    "#common_mistakes = false_pred_svm = false_pred_gb = false_pred_lr = false_pred_xg = false_pred_ada = false_pred_ensemble\n",
    "print(false_pred_ensemble)\n",
    "\n"
   ]
  },
  {
   "cell_type": "code",
   "execution_count": null,
   "metadata": {
    "id": "aJ5GX9khLilA"
   },
   "outputs": [],
   "source": [
    "#print(common_mistakes)\n",
    "common_mistakes = pd.merge(false_pred_svm, false_pred_ada, on=['tweet'], how='inner')\n",
    "print(common_mistakes)\n",
    "common_mistakes.to_csv('/content/drive/MyDrive/Final Project/COVID-fake-news-detection/model/error_analysis/common_mistakes.csv', encoding='utf-8')"
   ]
  },
  {
   "cell_type": "code",
   "execution_count": null,
   "metadata": {
    "id": "J-a1QA9WM1sP"
   },
   "outputs": [],
   "source": [
    "#mount drive to save data\n",
    "from google.colab import drive\n",
    "drive.mount('drive')"
   ]
  }
 ],
 "metadata": {
  "accelerator": "GPU",
  "colab": {
   "collapsed_sections": [],
   "name": "fine_tuned_model.ipynb",
   "provenance": []
  },
  "kernelspec": {
   "display_name": "Python 3",
   "language": "python",
   "name": "python3"
  },
  "language_info": {
   "codemirror_mode": {
    "name": "ipython",
    "version": 3
   },
   "file_extension": ".py",
   "mimetype": "text/x-python",
   "name": "python",
   "nbconvert_exporter": "python",
   "pygments_lexer": "ipython3",
   "version": "3.8.8"
  }
 },
 "nbformat": 4,
 "nbformat_minor": 1
}
