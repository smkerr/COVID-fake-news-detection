{
  "cells": [
    {
      "cell_type": "markdown",
      "metadata": {
        "id": "X96VzyHuGU4-"
      },
      "source": [
        "# Setup"
      ]
    },
    {
      "cell_type": "code",
      "execution_count": 3,
      "metadata": {
        "colab": {
          "base_uri": "https://localhost:8080/"
        },
        "id": "UhOljq0MMfWG",
        "outputId": "845040db-8e7b-4a77-84fa-6eebc40fc97d",
        "vscode": {
          "languageId": "plaintext"
        }
      },
      "outputs": [
        {
          "output_type": "stream",
          "name": "stdout",
          "text": [
            "Collecting en_core_web_md==2.2.5\n",
            "  Downloading https://github.com/explosion/spacy-models/releases/download/en_core_web_md-2.2.5/en_core_web_md-2.2.5.tar.gz (96.4 MB)\n",
            "\u001b[K     |████████████████████████████████| 96.4 MB 1.2 MB/s \n",
            "\u001b[?25hRequirement already satisfied: spacy>=2.2.2 in /usr/local/lib/python3.7/dist-packages (from en_core_web_md==2.2.5) (2.2.4)\n",
            "Requirement already satisfied: requests<3.0.0,>=2.13.0 in /usr/local/lib/python3.7/dist-packages (from spacy>=2.2.2->en_core_web_md==2.2.5) (2.23.0)\n",
            "Requirement already satisfied: plac<1.2.0,>=0.9.6 in /usr/local/lib/python3.7/dist-packages (from spacy>=2.2.2->en_core_web_md==2.2.5) (1.1.3)\n",
            "Requirement already satisfied: blis<0.5.0,>=0.4.0 in /usr/local/lib/python3.7/dist-packages (from spacy>=2.2.2->en_core_web_md==2.2.5) (0.4.1)\n",
            "Requirement already satisfied: preshed<3.1.0,>=3.0.2 in /usr/local/lib/python3.7/dist-packages (from spacy>=2.2.2->en_core_web_md==2.2.5) (3.0.6)\n",
            "Requirement already satisfied: thinc==7.4.0 in /usr/local/lib/python3.7/dist-packages (from spacy>=2.2.2->en_core_web_md==2.2.5) (7.4.0)\n",
            "Requirement already satisfied: setuptools in /usr/local/lib/python3.7/dist-packages (from spacy>=2.2.2->en_core_web_md==2.2.5) (57.4.0)\n",
            "Requirement already satisfied: wasabi<1.1.0,>=0.4.0 in /usr/local/lib/python3.7/dist-packages (from spacy>=2.2.2->en_core_web_md==2.2.5) (0.9.1)\n",
            "Requirement already satisfied: tqdm<5.0.0,>=4.38.0 in /usr/local/lib/python3.7/dist-packages (from spacy>=2.2.2->en_core_web_md==2.2.5) (4.64.0)\n",
            "Requirement already satisfied: cymem<2.1.0,>=2.0.2 in /usr/local/lib/python3.7/dist-packages (from spacy>=2.2.2->en_core_web_md==2.2.5) (2.0.6)\n",
            "Requirement already satisfied: numpy>=1.15.0 in /usr/local/lib/python3.7/dist-packages (from spacy>=2.2.2->en_core_web_md==2.2.5) (1.21.6)\n",
            "Requirement already satisfied: murmurhash<1.1.0,>=0.28.0 in /usr/local/lib/python3.7/dist-packages (from spacy>=2.2.2->en_core_web_md==2.2.5) (1.0.7)\n",
            "Requirement already satisfied: catalogue<1.1.0,>=0.0.7 in /usr/local/lib/python3.7/dist-packages (from spacy>=2.2.2->en_core_web_md==2.2.5) (1.0.0)\n",
            "Requirement already satisfied: srsly<1.1.0,>=1.0.2 in /usr/local/lib/python3.7/dist-packages (from spacy>=2.2.2->en_core_web_md==2.2.5) (1.0.5)\n",
            "Requirement already satisfied: importlib-metadata>=0.20 in /usr/local/lib/python3.7/dist-packages (from catalogue<1.1.0,>=0.0.7->spacy>=2.2.2->en_core_web_md==2.2.5) (4.11.3)\n",
            "Requirement already satisfied: zipp>=0.5 in /usr/local/lib/python3.7/dist-packages (from importlib-metadata>=0.20->catalogue<1.1.0,>=0.0.7->spacy>=2.2.2->en_core_web_md==2.2.5) (3.8.0)\n",
            "Requirement already satisfied: typing-extensions>=3.6.4 in /usr/local/lib/python3.7/dist-packages (from importlib-metadata>=0.20->catalogue<1.1.0,>=0.0.7->spacy>=2.2.2->en_core_web_md==2.2.5) (4.2.0)\n",
            "Requirement already satisfied: certifi>=2017.4.17 in /usr/local/lib/python3.7/dist-packages (from requests<3.0.0,>=2.13.0->spacy>=2.2.2->en_core_web_md==2.2.5) (2021.10.8)\n",
            "Requirement already satisfied: idna<3,>=2.5 in /usr/local/lib/python3.7/dist-packages (from requests<3.0.0,>=2.13.0->spacy>=2.2.2->en_core_web_md==2.2.5) (2.10)\n",
            "Requirement already satisfied: chardet<4,>=3.0.2 in /usr/local/lib/python3.7/dist-packages (from requests<3.0.0,>=2.13.0->spacy>=2.2.2->en_core_web_md==2.2.5) (3.0.4)\n",
            "Requirement already satisfied: urllib3!=1.25.0,!=1.25.1,<1.26,>=1.21.1 in /usr/local/lib/python3.7/dist-packages (from requests<3.0.0,>=2.13.0->spacy>=2.2.2->en_core_web_md==2.2.5) (1.24.3)\n",
            "Building wheels for collected packages: en-core-web-md\n",
            "  Building wheel for en-core-web-md (setup.py) ... \u001b[?25l\u001b[?25hdone\n",
            "  Created wheel for en-core-web-md: filename=en_core_web_md-2.2.5-py3-none-any.whl size=98051301 sha256=e9cd883c197734109996b91997a9cb9ecd4a75b2ab2e85c408c394a18270cc1a\n",
            "  Stored in directory: /tmp/pip-ephem-wheel-cache-3eon15v3/wheels/69/c5/b8/4f1c029d89238734311b3269762ab2ee325a42da2ce8edb997\n",
            "Successfully built en-core-web-md\n",
            "Installing collected packages: en-core-web-md\n",
            "Successfully installed en-core-web-md-2.2.5\n",
            "\u001b[38;5;2m✔ Download and installation successful\u001b[0m\n",
            "You can now load the model via spacy.load('en_core_web_md')\n"
          ]
        }
      ],
      "source": [
        "# run this code, then re-start runtime \n",
        "!python -m spacy download en_core_web_md"
      ]
    },
    {
      "cell_type": "code",
      "execution_count": 1,
      "metadata": {
        "id": "m5x4OLM8oR5S"
      },
      "outputs": [],
      "source": [
        "import spacy\n",
        "# md: reduced word vector table with 20k unique vectors for ~500k words\n",
        "nlp = spacy.load(\"en_core_web_md\")"
      ]
    },
    {
      "cell_type": "code",
      "execution_count": 2,
      "metadata": {
        "colab": {
          "base_uri": "https://localhost:8080/"
        },
        "id": "LDUxonlU7VeH",
        "outputId": "8033975d-2def-448e-f52e-12650b909cea"
      },
      "outputs": [
        {
          "output_type": "stream",
          "name": "stdout",
          "text": [
            "[nltk_data] Downloading package stopwords to /root/nltk_data...\n",
            "[nltk_data]   Unzipping corpora/stopwords.zip.\n"
          ]
        }
      ],
      "source": [
        "# import dependencies\n",
        "import pandas as pd\n",
        "import numpy as np\n",
        "import nltk\n",
        "import re\n",
        "import itertools\n",
        "import matplotlib.pyplot as plt\n",
        "\n",
        "## nltk\n",
        "from nltk.corpus import stopwords\n",
        "nltk.download('stopwords')\n",
        "from nltk.tokenize import word_tokenize\n",
        "from nltk.stem import PorterStemmer\n",
        "from nltk import pos_tag\n",
        "\n",
        "# spacy\n",
        "import spacy\n",
        "# md: reduced word vector table with 20k unique vectors for ~500k words\n",
        "\n",
        "## sklearn\n",
        "from sklearn.feature_extraction.text import CountVectorizer, TfidfTransformer \n",
        "from sklearn.metrics import classification_report,confusion_matrix, accuracy_score, f1_score, precision_score, recall_score, plot_confusion_matrix\n",
        "from sklearn.svm import LinearSVC\n",
        "from sklearn.svm import SVC\n",
        "from sklearn.pipeline import Pipeline\n",
        "from sklearn.linear_model import SGDClassifier, LogisticRegression\n",
        "from sklearn.neural_network import MLPClassifier\n",
        "from sklearn.ensemble import GradientBoostingClassifier\n",
        "from sklearn import tree\n",
        "from sklearn.ensemble import AdaBoostClassifier\n",
        "from sklearn.datasets import make_classification\n",
        "\n",
        "## joblib\n",
        "from joblib import dump, load\n",
        "\n",
        "##ensemble learning\n",
        "from sklearn.ensemble import VotingClassifier\n",
        "\n",
        "# set seed\n",
        "np.random.seed(42)"
      ]
    },
    {
      "cell_type": "code",
      "execution_count": 3,
      "metadata": {
        "id": "mQiCiSQUBO75"
      },
      "outputs": [],
      "source": [
        "# load data \n",
        "train = pd.read_csv('https://raw.githubusercontent.com/smkerr/COVID-fake-news-detection/main/data/Constraint_Train.csv', header=0)\n",
        "val = pd.read_csv('https://raw.githubusercontent.com/smkerr/COVID-fake-news-detection/main/data/Constraint_Val.csv', header=0)\n",
        "#test = pd.read.csv('https://raw.githubusercontent.com/smkerr/COVID-fake-news-detection/main/data/Constraint_Test.csv', header=0)"
      ]
    },
    {
      "cell_type": "code",
      "execution_count": null,
      "metadata": {
        "colab": {
          "base_uri": "https://localhost:8080/",
          "height": 224
        },
        "id": "tUV1RKS3BTIy",
        "outputId": "d68bd3cd-53c1-4858-847d-5db8f2397b9c"
      },
      "outputs": [
        {
          "name": "stdout",
          "output_type": "stream",
          "text": [
            "The training set contains 6420 observations.\n"
          ]
        },
        {
          "data": {
            "text/html": [
              "\n",
              "  <div id=\"df-63151c81-5221-4c2b-abdd-2e493b5b9848\">\n",
              "    <div class=\"colab-df-container\">\n",
              "      <div>\n",
              "<style scoped>\n",
              "    .dataframe tbody tr th:only-of-type {\n",
              "        vertical-align: middle;\n",
              "    }\n",
              "\n",
              "    .dataframe tbody tr th {\n",
              "        vertical-align: top;\n",
              "    }\n",
              "\n",
              "    .dataframe thead th {\n",
              "        text-align: right;\n",
              "    }\n",
              "</style>\n",
              "<table border=\"1\" class=\"dataframe\">\n",
              "  <thead>\n",
              "    <tr style=\"text-align: right;\">\n",
              "      <th></th>\n",
              "      <th>id</th>\n",
              "      <th>tweet</th>\n",
              "      <th>label</th>\n",
              "    </tr>\n",
              "  </thead>\n",
              "  <tbody>\n",
              "    <tr>\n",
              "      <th>0</th>\n",
              "      <td>1</td>\n",
              "      <td>The CDC currently reports 99031 deaths. In gen...</td>\n",
              "      <td>real</td>\n",
              "    </tr>\n",
              "    <tr>\n",
              "      <th>1</th>\n",
              "      <td>2</td>\n",
              "      <td>States reported 1121 deaths a small rise from ...</td>\n",
              "      <td>real</td>\n",
              "    </tr>\n",
              "    <tr>\n",
              "      <th>2</th>\n",
              "      <td>3</td>\n",
              "      <td>Politically Correct Woman (Almost) Uses Pandem...</td>\n",
              "      <td>fake</td>\n",
              "    </tr>\n",
              "    <tr>\n",
              "      <th>3</th>\n",
              "      <td>4</td>\n",
              "      <td>#IndiaFightsCorona: We have 1524 #COVID testin...</td>\n",
              "      <td>real</td>\n",
              "    </tr>\n",
              "    <tr>\n",
              "      <th>4</th>\n",
              "      <td>5</td>\n",
              "      <td>Populous states can generate large case counts...</td>\n",
              "      <td>real</td>\n",
              "    </tr>\n",
              "  </tbody>\n",
              "</table>\n",
              "</div>\n",
              "      <button class=\"colab-df-convert\" onclick=\"convertToInteractive('df-63151c81-5221-4c2b-abdd-2e493b5b9848')\"\n",
              "              title=\"Convert this dataframe to an interactive table.\"\n",
              "              style=\"display:none;\">\n",
              "        \n",
              "  <svg xmlns=\"http://www.w3.org/2000/svg\" height=\"24px\"viewBox=\"0 0 24 24\"\n",
              "       width=\"24px\">\n",
              "    <path d=\"M0 0h24v24H0V0z\" fill=\"none\"/>\n",
              "    <path d=\"M18.56 5.44l.94 2.06.94-2.06 2.06-.94-2.06-.94-.94-2.06-.94 2.06-2.06.94zm-11 1L8.5 8.5l.94-2.06 2.06-.94-2.06-.94L8.5 2.5l-.94 2.06-2.06.94zm10 10l.94 2.06.94-2.06 2.06-.94-2.06-.94-.94-2.06-.94 2.06-2.06.94z\"/><path d=\"M17.41 7.96l-1.37-1.37c-.4-.4-.92-.59-1.43-.59-.52 0-1.04.2-1.43.59L10.3 9.45l-7.72 7.72c-.78.78-.78 2.05 0 2.83L4 21.41c.39.39.9.59 1.41.59.51 0 1.02-.2 1.41-.59l7.78-7.78 2.81-2.81c.8-.78.8-2.07 0-2.86zM5.41 20L4 18.59l7.72-7.72 1.47 1.35L5.41 20z\"/>\n",
              "  </svg>\n",
              "      </button>\n",
              "      \n",
              "  <style>\n",
              "    .colab-df-container {\n",
              "      display:flex;\n",
              "      flex-wrap:wrap;\n",
              "      gap: 12px;\n",
              "    }\n",
              "\n",
              "    .colab-df-convert {\n",
              "      background-color: #E8F0FE;\n",
              "      border: none;\n",
              "      border-radius: 50%;\n",
              "      cursor: pointer;\n",
              "      display: none;\n",
              "      fill: #1967D2;\n",
              "      height: 32px;\n",
              "      padding: 0 0 0 0;\n",
              "      width: 32px;\n",
              "    }\n",
              "\n",
              "    .colab-df-convert:hover {\n",
              "      background-color: #E2EBFA;\n",
              "      box-shadow: 0px 1px 2px rgba(60, 64, 67, 0.3), 0px 1px 3px 1px rgba(60, 64, 67, 0.15);\n",
              "      fill: #174EA6;\n",
              "    }\n",
              "\n",
              "    [theme=dark] .colab-df-convert {\n",
              "      background-color: #3B4455;\n",
              "      fill: #D2E3FC;\n",
              "    }\n",
              "\n",
              "    [theme=dark] .colab-df-convert:hover {\n",
              "      background-color: #434B5C;\n",
              "      box-shadow: 0px 1px 3px 1px rgba(0, 0, 0, 0.15);\n",
              "      filter: drop-shadow(0px 1px 2px rgba(0, 0, 0, 0.3));\n",
              "      fill: #FFFFFF;\n",
              "    }\n",
              "  </style>\n",
              "\n",
              "      <script>\n",
              "        const buttonEl =\n",
              "          document.querySelector('#df-63151c81-5221-4c2b-abdd-2e493b5b9848 button.colab-df-convert');\n",
              "        buttonEl.style.display =\n",
              "          google.colab.kernel.accessAllowed ? 'block' : 'none';\n",
              "\n",
              "        async function convertToInteractive(key) {\n",
              "          const element = document.querySelector('#df-63151c81-5221-4c2b-abdd-2e493b5b9848');\n",
              "          const dataTable =\n",
              "            await google.colab.kernel.invokeFunction('convertToInteractive',\n",
              "                                                     [key], {});\n",
              "          if (!dataTable) return;\n",
              "\n",
              "          const docLinkHtml = 'Like what you see? Visit the ' +\n",
              "            '<a target=\"_blank\" href=https://colab.research.google.com/notebooks/data_table.ipynb>data table notebook</a>'\n",
              "            + ' to learn more about interactive tables.';\n",
              "          element.innerHTML = '';\n",
              "          dataTable['output_type'] = 'display_data';\n",
              "          await google.colab.output.renderOutput(dataTable, element);\n",
              "          const docLink = document.createElement('div');\n",
              "          docLink.innerHTML = docLinkHtml;\n",
              "          element.appendChild(docLink);\n",
              "        }\n",
              "      </script>\n",
              "    </div>\n",
              "  </div>\n",
              "  "
            ],
            "text/plain": [
              "   id                                              tweet label\n",
              "0   1  The CDC currently reports 99031 deaths. In gen...  real\n",
              "1   2  States reported 1121 deaths a small rise from ...  real\n",
              "2   3  Politically Correct Woman (Almost) Uses Pandem...  fake\n",
              "3   4  #IndiaFightsCorona: We have 1524 #COVID testin...  real\n",
              "4   5  Populous states can generate large case counts...  real"
            ]
          },
          "execution_count": 14,
          "metadata": {},
          "output_type": "execute_result"
        }
      ],
      "source": [
        "print(f\"The training set contains {len(train)} observations.\")\n",
        "train.head()"
      ]
    },
    {
      "cell_type": "code",
      "execution_count": 4,
      "metadata": {
        "id": "oxM4Pc9yMfWL"
      },
      "outputs": [],
      "source": [
        "# Define X & y for train, validation, & test sets \n",
        "X_train = train[\"tweet\"]\n",
        "y_train = train[\"label\"]\n",
        "\n",
        "X_val = val[\"tweet\"]\n",
        "y_val = val[\"label\"]\n",
        "\n",
        "#X_test = test[\"tweet\"]\n",
        "#y_test = test[\"label\"]\n",
        "\n",
        "# This code drops posts longer than 280 characters: \n",
        "#X_train = train[train[\"tweet\"].map(len) <= 280]"
      ]
    },
    {
      "cell_type": "markdown",
      "metadata": {
        "id": "b1RHfeVkGYNg"
      },
      "source": [
        "# Pre-processing"
      ]
    },
    {
      "cell_type": "code",
      "execution_count": 5,
      "metadata": {
        "id": "LlXp-6juE_8t"
      },
      "outputs": [],
      "source": [
        "# create stop word list\n",
        "from spacy.lang.en.stop_words import STOP_WORDS\n",
        "stoplist = list(STOP_WORDS)\n",
        "\n",
        "# create CleanText() function\n",
        "def CleanText(string):\n",
        "    text = string.lower() # lowercase\n",
        "    #text = text.split() #  splits into a list of words\n",
        "    #text = \" \".join(text) # joins the list of words\n",
        "    # .split() + .join() cancel each other out -- consider removing?\n",
        "    text = re.sub(r\"http(\\S)+\",' ',text) # remove URLs   \n",
        "    text = re.sub(r\"www(\\S)+\",' ',text) # remove URLs\n",
        "    text = re.sub(r\"&\",' and ',text) # replace & with ' and '\n",
        "    text = text.replace('&amp',' ') # replace &amp with ' '\n",
        "    text = re.sub(r\"[^0-9a-zA-Z]+\",' ',text) # remove non-alphanumeric characters\n",
        "    text = text.split() # splits into a list of words\n",
        "    text = [w for w in text if not w in stoplist] # remove stop words \n",
        "    text = \" \".join(text) # joins the list of words\n",
        "    return text\n",
        "\n",
        "# apply CleanText() function to all tweets \n",
        "X_train = X_train.map(lambda x: CleanText(x))\n",
        "X_val = X_val.map(lambda x: CleanText(x))\n",
        "#X_test = X_test.map(lambda x: CleanText(x))"
      ]
    },
    {
      "cell_type": "markdown",
      "metadata": {
        "id": "t8fAkUZbSKZb"
      },
      "source": [
        "# Feature Extraction\n"
      ]
    },
    {
      "cell_type": "markdown",
      "metadata": {
        "id": "cn9TbYAmMfWM"
      },
      "source": [
        "## Word Embeddings"
      ]
    },
    {
      "cell_type": "code",
      "execution_count": 6,
      "metadata": {
        "id": "4Pds9s8jMfWN"
      },
      "outputs": [],
      "source": [
        "# generate word vectors for each tweet \n",
        "tweet2vec_list = [nlp(doc).vector.reshape(1,-1) for doc in X_train] # creates 6420x1 list, with each entry containing a 300x1 np.array word vector corresponding with a tweet\n",
        "tweet2vec_data = np.concatenate(tweet2vec_list) # joins word vectors into 6420x300 np.array\n",
        "tweet2vec_df = pd.DataFrame(tweet2vec_data) # convert to data frame\n",
        "\n",
        "# generate word vectors for each tweet \n",
        "## train set \n",
        "tweet2vec_list = [nlp(doc).vector.reshape(1,-1) for doc in X_train] # creates 6420x1 list, with each entry containing a 300x1 np.array word vector corresponding with a tweet\n",
        "tweet2vec_data = np.concatenate(tweet2vec_list) # joins word vectors into 6420x300 np.array\n",
        "tweet2vec_train = pd.DataFrame(tweet2vec_data) # convert to data frame\n",
        "\n",
        "## validation set \n",
        "tweet2vec_list = [nlp(doc).vector.reshape(1,-1) for doc in X_val] # creates 6420x1 list, with each entry containing a 300x1 np.array word vector corresponding with a tweet\n",
        "tweet2vec_data = np.concatenate(tweet2vec_list) # joins word vectors into 6420x300 np.array\n",
        "tweet2vec_val = pd.DataFrame(tweet2vec_data) # convert to data frame\n",
        "\n",
        "## test set \n",
        "#tweet2vec_list = [nlp(doc).vector.reshape(1,-1) for doc in X_test] # creates 6420x1 list, with each entry containing a 300x1 np.array word vector corresponding with a tweet\n",
        "#tweet2vec_data = np.concatenate(tweet2vec_list) # joins word vectors into 6420x300 np.array\n",
        "#tweet2vec_test = pd.DataFrame(tweet2vec_data) # convert to data frame"
      ]
    },
    {
      "cell_type": "markdown",
      "metadata": {
        "id": "SO_3oqJGXjnN"
      },
      "source": [
        "## Bag-of-Words (BoW)"
      ]
    },
    {
      "cell_type": "code",
      "execution_count": 7,
      "metadata": {
        "id": "xS1DYYRMSUz2"
      },
      "outputs": [],
      "source": [
        "# count vectorizer\n",
        "cv = CountVectorizer(ngram_range=(1, 2)) # count term frequency\n",
        "\n",
        "# fit and transform train data to count vectorizer\n",
        "cv.fit(X_train.values)\n",
        "cv_train = cv.transform(X_train.values)\n",
        "\n",
        "# fit and transform validation data to counter vectorizer\n",
        "cv_val = cv.transform(X_val.values)\n",
        "\n",
        "# fit and transform validation data to counter vectorizer\n",
        "#cv_test = cv.transform(X_test.values)"
      ]
    },
    {
      "cell_type": "code",
      "execution_count": 10,
      "metadata": {
        "id": "1YUXus_ioR5Y"
      },
      "outputs": [],
      "source": [
        "# rename word2vec columns to de-conflict merge\n",
        "\n",
        "## train set\n",
        "### create list of word embedding column names\n",
        "word2vec_col = []\n",
        "for i in range(len(tweet2vec_train.columns)):\n",
        "  num = str(i)\n",
        "  name = \"word2vec_\"+num\n",
        "  word2vec_col.append(name) \n",
        "\n",
        "### rename word embedding columns \n",
        "tweet2vec_train.columns = word2vec_col\n",
        "\n",
        "## validation set\n",
        "### create list of word embedding column names\n",
        "word2vec_col = []\n",
        "for i in range(len(tweet2vec_val.columns)):\n",
        "  num = str(i)\n",
        "  name = \"word2vec_\"+num\n",
        "  word2vec_col.append(name) \n",
        "\n",
        "### rename word embedding columns \n",
        "tweet2vec_val.columns = word2vec_col\n",
        "\n",
        "## test set\n",
        "### create list of word embedding column names\n",
        "#word2vec_col = []\n",
        "#for i in range(len(tweet2vec_test.columns)):\n",
        "#  num = str(i)\n",
        "#  name = \"word2vec_\"+num\n",
        "#  word2vec_col.append(name) \n",
        "\n",
        "### rename word embedding columns \n",
        "#tweet2vec_test.columns = word2vec_col"
      ]
    },
    {
      "cell_type": "markdown",
      "metadata": {
        "id": "n4yhIIAkXoh3"
      },
      "source": [
        "## TF-IDF"
      ]
    },
    {
      "cell_type": "code",
      "execution_count": 8,
      "metadata": {
        "id": "XG3Q80cZXqXG"
      },
      "outputs": [],
      "source": [
        "# TF-IDF\n",
        "tfidf = TfidfTransformer()\n",
        "\n",
        "# fit the CountVector to TF-IDF transformer\n",
        "tfidf.fit(cv_train)\n",
        "tfidf_train = tfidf.transform(cv_train)\n",
        "\n",
        "# do the same for the validation set\n",
        "tfidf.fit(cv_val)\n",
        "tfidf_val = tfidf.transform(cv_val)\n",
        "\n",
        "# and the same for the validation set\n",
        "#tfidf.fit(cv_test)\n",
        "#tfidf_val = tfidf.transform(cv_test)"
      ]
    },
    {
      "cell_type": "code",
      "execution_count": 9,
      "metadata": {
        "id": "LfcL820MoR5Y"
      },
      "outputs": [],
      "source": [
        "# convert tfidf_train to data frame\n",
        "## train set\n",
        "tfidf_train = pd.DataFrame(tfidf_train.toarray())\n",
        "\n",
        "## validation set \n",
        "tfidf_val = pd.DataFrame(tfidf_val.toarray())\n",
        "\n",
        "## test set \n",
        "#tfidf_test = pd.DataFrame(tfidf_test.toarray())"
      ]
    },
    {
      "cell_type": "code",
      "execution_count": 11,
      "metadata": {
        "id": "Q3vDunFxoR5Z"
      },
      "outputs": [],
      "source": [
        "# rename tfidf columns to de-conflict merge\n",
        "\n",
        "## train set\n",
        "### create list of tfidf column names\n",
        "tfidf_col = []\n",
        "for i in range(len(tfidf_train.columns)):\n",
        "  num = str(i)\n",
        "  name = \"tfidf_\"+num\n",
        "  tfidf_col.append(name) \n",
        "\n",
        "### rename tfidf columns\n",
        "tfidf_train.columns = tfidf_col\n",
        "\n",
        "## validation set\n",
        "### create list of tfidf column names\n",
        "tfidf_col = []\n",
        "for i in range(len(tfidf_val.columns)):\n",
        "  num = str(i)\n",
        "  name = \"tfidf_\"+num\n",
        "  tfidf_col.append(name) \n",
        "\n",
        "### rename tfidf columns\n",
        "tfidf_val.columns = tfidf_col\n",
        "\n",
        "## test set\n",
        "### create list of tfidf column names\n",
        "#tfidf_col = []\n",
        "#for i in range(len(tfidf_test.columns)):\n",
        "#  num = str(i)\n",
        "#  name = \"tfidf_\"+num\n",
        "#  tfidf_col.append(name) \n",
        "\n",
        "### rename tfidf columns\n",
        "#tfidf_test.columns = tfidf_col"
      ]
    },
    {
      "cell_type": "markdown",
      "metadata": {
        "id": "cQ5OnihEoR5Y"
      },
      "source": [
        "## Combine Features"
      ]
    },
    {
      "cell_type": "code",
      "execution_count": 12,
      "metadata": {
        "id": "kP23ax2DoR5Z"
      },
      "outputs": [],
      "source": [
        "# join tf-idf with word embeddings \n",
        "\n",
        "## train set \n",
        "X_train = tfidf_train.join(tweet2vec_train) \n",
        "\n",
        "## validation set \n",
        "X_val = tfidf_val.join(tweet2vec_val) \n",
        "\n",
        "## test set \n",
        "#X_test = tfidf_test.join(tweet2vec_test) "
      ]
    },
    {
      "cell_type": "markdown",
      "metadata": {
        "id": "cBGrHpbcBqEB"
      },
      "source": [
        "# Model Training"
      ]
    },
    {
      "cell_type": "markdown",
      "metadata": {
        "id": "_XnE-4bmBrQk"
      },
      "source": [
        "## #1 SVM"
      ]
    },
    {
      "cell_type": "code",
      "execution_count": 13,
      "metadata": {
        "id": "W2l2XD_GBTG1"
      },
      "outputs": [],
      "source": [
        "# SVM classifier\n",
        "svm_clf = SVC(kernel='linear',probability=True)\n",
        "\n",
        "# train model\n",
        "fit = svm_clf.fit(X_train,y_train) # train model\n",
        "\n",
        "# make predictions\n",
        "svm_pred = svm_clf.predict(X_val)"
      ]
    },
    {
      "cell_type": "markdown",
      "metadata": {
        "id": "ay0JYxPCB4sD"
      },
      "source": [
        "## #2 Logistic Regression"
      ]
    },
    {
      "cell_type": "code",
      "execution_count": 14,
      "metadata": {
        "id": "mKiKPHlfBU4W",
        "outputId": "66270c64-5225-44b3-cf9c-a3b0d4029f85",
        "colab": {
          "base_uri": "https://localhost:8080/"
        }
      },
      "outputs": [
        {
          "metadata": {
            "tags": null
          },
          "name": "stderr",
          "output_type": "stream",
          "text": [
            "/usr/local/lib/python3.7/dist-packages/sklearn/linear_model/_logistic.py:818: ConvergenceWarning: lbfgs failed to converge (status=1):\n",
            "STOP: TOTAL NO. of ITERATIONS REACHED LIMIT.\n",
            "\n",
            "Increase the number of iterations (max_iter) or scale the data as shown in:\n",
            "    https://scikit-learn.org/stable/modules/preprocessing.html\n",
            "Please also refer to the documentation for alternative solver options:\n",
            "    https://scikit-learn.org/stable/modules/linear_model.html#logistic-regression\n",
            "  extra_warning_msg=_LOGISTIC_SOLVER_CONVERGENCE_MSG,\n"
          ]
        }
      ],
      "source": [
        "# Logistic Regression classifier\n",
        "lr_clf = LogisticRegression()\n",
        "\n",
        "# train model\n",
        "fit = lr_clf.fit(X_train,y_train)\n",
        "\n",
        "# make predictions\n",
        "lr_pred = lr_clf.predict(X_val)"
      ]
    },
    {
      "cell_type": "markdown",
      "metadata": {
        "id": "HcYMm6vZB7-V"
      },
      "source": [
        "## #3 Extreme Gradient Boost"
      ]
    },
    {
      "cell_type": "code",
      "execution_count": 15,
      "metadata": {
        "id": "14jIEEenBVi8"
      },
      "outputs": [],
      "source": [
        "# XGBoost classifier\n",
        "gb_clf = GradientBoostingClassifier()\n",
        "\n",
        "# train model\n",
        "fit = gb_clf.fit(X_train, y_train)\n",
        "\n",
        "# make predictions\n",
        "gb_pred = gb_clf.predict(X_val)"
      ]
    },
    {
      "cell_type": "code",
      "execution_count": null,
      "metadata": {
        "colab": {
          "base_uri": "https://localhost:8080/",
          "height": 606
        },
        "id": "FeZ9DHPNpNNN",
        "outputId": "6a05bce8-1eda-4e8a-ef3c-487e7354e55d"
      },
      "outputs": [
        {
          "name": "stdout",
          "output_type": "stream",
          "text": [
            "XGBoost\n",
            "val:\n",
            "[[942  78]\n",
            " [163 957]]\n",
            "              precision    recall  f1-score   support\n",
            "\n",
            "        fake       0.85      0.92      0.89      1020\n",
            "        real       0.92      0.85      0.89      1120\n",
            "\n",
            "    accuracy                           0.89      2140\n",
            "   macro avg       0.89      0.89      0.89      2140\n",
            "weighted avg       0.89      0.89      0.89      2140\n",
            "\n",
            "Accuracy :  0.8873831775700934\n",
            "Precison :  0.8901264185580775\n",
            "Recall :  0.8873831775700934\n",
            "F1 :  0.8873518225383265\n"
          ]
        },
        {
          "data": {
            "image/png": "[encoded data removed]",
            "text/plain": [
              "<Figure size 360x288 with 2 Axes>"
            ]
          },
          "metadata": {
            "needs_background": "light"
          },
          "output_type": "display_data"
        }
      ],
      "source": [
        "from xgboost import XGBClassifier\n",
        "# XGBoost Classifier\n",
        "\n",
        "# create pipeline\n",
        "pipeline = Pipeline([\n",
        "        ('bow', CountVectorizer(ngram_range=(1, 2))), # count term frequency\n",
        "        ('tfidf', TfidfTransformer()), # downweight words which appear frequently\n",
        "        ('c', XGBClassifier(max_depth=10, min_child_weight=3)) # classifier\n",
        "    ])\n",
        "\n",
        "fit = pipeline.fit(train['tweet'],train['label']) # train model\n",
        "print('XGBoost')\n",
        "print ('val:')\n",
        "pred = pipeline.predict(val['tweet']) # make predictions\n",
        "\n",
        "# display results\n",
        "print_metrics(pred,val['label'])\n",
        "plot_confusion_matrix(confusion_matrix(val['label'],pred),target_names=['fake','real'], normalize = False, \\\n",
        "                      title = 'Confusion matix of DT on val data')"
      ]
    },
    {
      "cell_type": "markdown",
      "metadata": {
        "id": "WcYc9QrCB_9j"
      },
      "source": [
        "## #4 Adaptive Boost"
      ]
    },
    {
      "cell_type": "code",
      "execution_count": 16,
      "metadata": {
        "id": "kKs_IrTSBYQw"
      },
      "outputs": [],
      "source": [
        "# AdaBoost classifier\n",
        "ada_clf = AdaBoostClassifier(n_estimators=500, random_state=0, learning_rate = 1.0)\n",
        "\n",
        "# train model\n",
        "fit = ada_clf.fit(X_train, y_train)\n",
        "\n",
        "# make predictions\n",
        "ada_pred = ada_clf.predict(X_val)"
      ]
    },
    {
      "cell_type": "markdown",
      "source": [
        "## #5 Voting Classifier"
      ],
      "metadata": {
        "id": "rcdD5s2tM4mU"
      }
    },
    {
      "cell_type": "code",
      "execution_count": 20,
      "metadata": {
        "id": "wnr4nCQzIlOz"
      },
      "outputs": [],
      "source": [
        "named_estimators = [\n",
        "    (\"SVM\", svm_clf),\n",
        "    (\"Logistic Regression\", lr_clf),\n",
        "    (\"Ada Boost\", ada_clf),\n",
        "    (\"Gradient Boosting\", gb_clf), # for each of the individual models\n",
        "]"
      ]
    },
    {
      "cell_type": "code",
      "execution_count": 21,
      "metadata": {
        "id": "3SrkWvL_MJ9o",
        "outputId": "edab168e-7e5a-426c-86f9-4d2d5d5de95d",
        "colab": {
          "base_uri": "https://localhost:8080/"
        }
      },
      "outputs": [
        {
          "output_type": "stream",
          "name": "stderr",
          "text": [
            "/usr/local/lib/python3.7/dist-packages/sklearn/linear_model/_logistic.py:818: ConvergenceWarning: lbfgs failed to converge (status=1):\n",
            "STOP: TOTAL NO. of ITERATIONS REACHED LIMIT.\n",
            "\n",
            "Increase the number of iterations (max_iter) or scale the data as shown in:\n",
            "    https://scikit-learn.org/stable/modules/preprocessing.html\n",
            "Please also refer to the documentation for alternative solver options:\n",
            "    https://scikit-learn.org/stable/modules/linear_model.html#logistic-regression\n",
            "  extra_warning_msg=_LOGISTIC_SOLVER_CONVERGENCE_MSG,\n"
          ]
        }
      ],
      "source": [
        "# voting classifier\n",
        "voting_clf = VotingClassifier(named_estimators, voting = \"soft\") #soft voting (predicts the class label based on the argmax of the sums of the predicted probabilities)\n",
        "\n",
        "# fit model\n",
        "voting_clf.fit(X_train,y_train)\n",
        "\n",
        "# make prediction\n",
        "voting_pred = voting_clf.predict(X_val)"
      ]
    },
    {
      "cell_type": "markdown",
      "metadata": {
        "id": "gogyysMESVOy"
      },
      "source": [
        "# Evaluation"
      ]
    },
    {
      "cell_type": "code",
      "execution_count": 17,
      "metadata": {
        "id": "HpF-fmjkTY1_"
      },
      "outputs": [],
      "source": [
        "# define print_metrics() function to print results\n",
        "def print_metrics(pred,true):\n",
        "    print(confusion_matrix(true,pred))\n",
        "    print(classification_report(true,pred,))\n",
        "    print(\"Accuracy : \",accuracy_score(pred,true))\n",
        "    print(\"Precison : \",precision_score(pred,true, average = 'weighted'))\n",
        "    print(\"Recall : \",recall_score(pred,true,  average = 'weighted'))\n",
        "    print(\"F1 : \",f1_score(pred,true,  average = 'weighted'))"
      ]
    },
    {
      "cell_type": "code",
      "execution_count": 18,
      "metadata": {
        "id": "7kn6E5WCBA6g"
      },
      "outputs": [],
      "source": [
        "# define plot_confusion_matrix() function to display results\n",
        "def plot_confusion_matrix(cm,\n",
        "                          target_names,\n",
        "                          title='Confusion matrix',\n",
        "                          cmap=None,\n",
        "                          normalize=True):\n",
        "    \"\"\"\n",
        "    given a sklearn confusion matrix (cm), make a nice plot\n",
        "\n",
        "    Arguments\n",
        "    ---------\n",
        "    cm:           confusion matrix from sklearn.metrics.confusion_matrix\n",
        "\n",
        "    target_names: given classification classes such as [0, 1, 2]\n",
        "                  the class names, for example: ['high', 'medium', 'low']\n",
        "\n",
        "    title:        the text to display at the top of the matrix\n",
        "\n",
        "    cmap:         the gradient of the values displayed from matplotlib.pyplot.cm\n",
        "                  see http://matplotlib.org/examples/color/colormaps_reference.html\n",
        "                  plt.get_cmap('jet') or plt.cm.Blues\n",
        "\n",
        "    normalize:    If False, plot the raw numbers\n",
        "                  If True, plot the proportions\n",
        "\n",
        "    Usage\n",
        "    -----\n",
        "    plot_confusion_matrix(cm           = cm,                  # confusion matrix created by\n",
        "                                                              # sklearn.metrics.confusion_matrix\n",
        "                          normalize    = True,                # show proportions\n",
        "                          target_names = y_labels_vals,       # list of names of the classes\n",
        "                          title        = best_estimator_name) # title of graph\n",
        "\n",
        "    Citiation\n",
        "    ---------\n",
        "    http://scikit-learn.org/stable/auto_examples/model_selection/plot_confusion_matrix.html\n",
        "\n",
        "    \"\"\"\n",
        "\n",
        "    accuracy = np.trace(cm) / float(np.sum(cm))\n",
        "    misclass = 1 - accuracy\n",
        "\n",
        "    if cmap is None:\n",
        "        cmap = plt.get_cmap('Blues')\n",
        "\n",
        "    plt.figure(figsize=(5, 4))\n",
        "    plt.imshow(cm, interpolation='nearest', cmap=cmap)\n",
        "    plt.title(title)\n",
        "    plt.colorbar()\n",
        "\n",
        "    if target_names is not None:\n",
        "        tick_marks = np.arange(len(target_names))\n",
        "        plt.xticks(tick_marks, target_names, rotation=45)\n",
        "        plt.yticks(tick_marks, target_names)\n",
        "\n",
        "    if normalize:\n",
        "        cm = cm.astype('float') / cm.sum(axis=1)[:, np.newaxis]\n",
        "\n",
        "\n",
        "    thresh = cm.max() / 1.5 if normalize else cm.max() / 2\n",
        "    for i, j in itertools.product(range(cm.shape[0]), range(cm.shape[1])):\n",
        "        if normalize:\n",
        "            plt.text(j, i, \"{:0.4f}\".format(cm[i, j]),\n",
        "                     horizontalalignment=\"center\",\n",
        "                     color=\"white\" if cm[i, j] > thresh else \"black\")\n",
        "        else:\n",
        "            plt.text(j, i, \"{:,}\".format(cm[i, j]),\n",
        "                     horizontalalignment=\"center\",\n",
        "                     color=\"white\" if cm[i, j] > thresh else \"black\")\n",
        "\n",
        "\n",
        "    plt.tight_layout()\n",
        "    plt.ylabel('True label')\n",
        "    #plt.xlabel('Predicted label\\naccuracy={:0.4f}; misclass={:0.4f}'.format(accuracy, misclass))\n",
        "    plt.xlabel('Predicted label')\n",
        "    plt.show()"
      ]
    },
    {
      "cell_type": "markdown",
      "source": [
        "## #1 SVM"
      ],
      "metadata": {
        "id": "Qio2c88rMKT1"
      }
    },
    {
      "cell_type": "code",
      "execution_count": 19,
      "metadata": {
        "colab": {
          "base_uri": "https://localhost:8080/",
          "height": 579
        },
        "id": "Sn0tNQw5QAmO",
        "outputId": "fa7710f5-dcd8-483a-ad70-1c25e0240b6a"
      },
      "outputs": [
        {
          "metadata": {
            "tags": null
          },
          "name": "stdout",
          "output_type": "stream",
          "text": [
            "[[ 944   76]\n",
            " [  67 1053]]\n",
            "              precision    recall  f1-score   support\n",
            "\n",
            "        fake       0.93      0.93      0.93      1020\n",
            "        real       0.93      0.94      0.94      1120\n",
            "\n",
            "    accuracy                           0.93      2140\n",
            "   macro avg       0.93      0.93      0.93      2140\n",
            "weighted avg       0.93      0.93      0.93      2140\n",
            "\n",
            "Accuracy :  0.9331775700934579\n",
            "Precison :  0.9332393436346501\n",
            "Recall :  0.9331775700934579\n",
            "F1 :  0.9331919214149245\n"
          ]
        },
        {
          "data": {
            "image/png": "[encoded data removed]",
            "text/plain": [
              "<Figure size 360x288 with 2 Axes>"
            ]
          },
          "metadata": {},
          "output_type": "display_data"
        }
      ],
      "source": [
        "# display results\n",
        "print_metrics(svm_pred, y_val)\n",
        "plot_confusion_matrix(confusion_matrix(y_val,svm_pred),target_names=['fake','real'], normalize = False, \\\n",
        "                      title = 'Confusion matix of SVM on val data')"
      ]
    },
    {
      "cell_type": "markdown",
      "source": [
        "## #2 Logisitic Regression"
      ],
      "metadata": {
        "id": "0_hM1sTVMQei"
      }
    },
    {
      "cell_type": "code",
      "execution_count": 20,
      "metadata": {
        "colab": {
          "base_uri": "https://localhost:8080/",
          "height": 579
        },
        "id": "lFnaDSXDUVJz",
        "outputId": "1cda23d9-29b3-4488-fa22-8a4657d08999"
      },
      "outputs": [
        {
          "metadata": {
            "tags": null
          },
          "name": "stdout",
          "output_type": "stream",
          "text": [
            "[[ 929   91]\n",
            " [  76 1044]]\n",
            "              precision    recall  f1-score   support\n",
            "\n",
            "        fake       0.92      0.91      0.92      1020\n",
            "        real       0.92      0.93      0.93      1120\n",
            "\n",
            "    accuracy                           0.92      2140\n",
            "   macro avg       0.92      0.92      0.92      2140\n",
            "weighted avg       0.92      0.92      0.92      2140\n",
            "\n",
            "Accuracy :  0.9219626168224299\n",
            "Precison :  0.9221123262389068\n",
            "Recall :  0.9219626168224299\n",
            "F1 :  0.9219920963299126\n"
          ]
        },
        {
          "data": {
            "image/png": "[encoded data removed]",
            "text/plain": [
              "<Figure size 360x288 with 2 Axes>"
            ]
          },
          "metadata": {},
          "output_type": "display_data"
        }
      ],
      "source": [
        "# display results\n",
        "print_metrics(lr_pred, y_val)\n",
        "plot_confusion_matrix(confusion_matrix(y_val,lr_pred),target_names=['fake','real'], normalize = False, \\\n",
        "                      title = 'Confusion matix of LR on val data')"
      ]
    },
    {
      "cell_type": "markdown",
      "source": [
        "## #3 Extreme Gradient Boost"
      ],
      "metadata": {
        "id": "frfqzpeUMZni"
      }
    },
    {
      "cell_type": "code",
      "execution_count": 21,
      "metadata": {
        "colab": {
          "base_uri": "https://localhost:8080/",
          "height": 579
        },
        "id": "w0a8XHEMU8U8",
        "outputId": "6ab4e5a3-0e02-4eb7-b69e-80f42697e9ba"
      },
      "outputs": [
        {
          "metadata": {
            "tags": null
          },
          "name": "stdout",
          "output_type": "stream",
          "text": [
            "[[ 904  116]\n",
            " [ 116 1004]]\n",
            "              precision    recall  f1-score   support\n",
            "\n",
            "        fake       0.89      0.89      0.89      1020\n",
            "        real       0.90      0.90      0.90      1120\n",
            "\n",
            "    accuracy                           0.89      2140\n",
            "   macro avg       0.89      0.89      0.89      2140\n",
            "weighted avg       0.89      0.89      0.89      2140\n",
            "\n",
            "Accuracy :  0.891588785046729\n",
            "Precison :  0.891588785046729\n",
            "Recall :  0.891588785046729\n",
            "F1 :  0.891588785046729\n"
          ]
        },
        {
          "data": {
            "image/png": "[encoded data removed]",
            "text/plain": [
              "<Figure size 360x288 with 2 Axes>"
            ]
          },
          "metadata": {},
          "output_type": "display_data"
        }
      ],
      "source": [
        "# display results\n",
        "print_metrics(gb_pred, y_val)\n",
        "plot_confusion_matrix(confusion_matrix(y_val, gb_pred),target_names=['fake','real'], normalize = False, \\\n",
        "                      title = 'Confusion matix of GDBT on val data')"
      ]
    },
    {
      "cell_type": "markdown",
      "source": [
        "## #4 Adaptive Boost"
      ],
      "metadata": {
        "id": "WZSeMLEDMfTL"
      }
    },
    {
      "cell_type": "code",
      "execution_count": null,
      "metadata": {
        "colab": {
          "base_uri": "https://localhost:8080/",
          "height": 572
        },
        "id": "BsKRB4AJiAWh",
        "outputId": "68e9cbf1-31be-4a4c-8bc0-69449b8855d8"
      },
      "outputs": [
        {
          "name": "stdout",
          "output_type": "stream",
          "text": [
            "[[ 910  110]\n",
            " [  92 1028]]\n",
            "              precision    recall  f1-score   support\n",
            "\n",
            "        fake       0.91      0.89      0.90      1020\n",
            "        real       0.90      0.92      0.91      1120\n",
            "\n",
            "    accuracy                           0.91      2140\n",
            "   macro avg       0.91      0.91      0.91      2140\n",
            "weighted avg       0.91      0.91      0.91      2140\n",
            "\n",
            "Accuracy :  0.905607476635514\n",
            "Precison :  0.9058236472158957\n",
            "Recall :  0.905607476635514\n",
            "F1 :  0.9056513890199289\n"
          ]
        },
        {
          "data": {
            "image/png": "[encoded data removed]",
            "text/plain": [
              "<Figure size 360x288 with 2 Axes>"
            ]
          },
          "metadata": {
            "needs_background": "light"
          },
          "output_type": "display_data"
        }
      ],
      "source": [
        "#without hyperparameters: f1 = 0.8850370706902788\n",
        "# display results\n",
        "print_metrics(ada_pred,val['label'])\n",
        "plot_confusion_matrix(confusion_matrix(val['label'],ada_pred),target_names=['fake','real'], normalize = False, \\\n",
        "                      title = 'Confusion matix of Ada on val data')"
      ]
    },
    {
      "cell_type": "markdown",
      "source": [
        "## #5 Voting Classifier"
      ],
      "metadata": {
        "id": "1paYU83BNAnz"
      }
    },
    {
      "cell_type": "code",
      "execution_count": 22,
      "metadata": {
        "colab": {
          "base_uri": "https://localhost:8080/",
          "height": 579
        },
        "id": "pWKteqEiRXFP",
        "outputId": "bfc3d34d-9336-41dd-af66-4ec184be1eab"
      },
      "outputs": [
        {
          "output_type": "stream",
          "name": "stdout",
          "text": [
            "[[ 938   82]\n",
            " [  69 1051]]\n",
            "              precision    recall  f1-score   support\n",
            "\n",
            "        fake       0.93      0.92      0.93      1020\n",
            "        real       0.93      0.94      0.93      1120\n",
            "\n",
            "    accuracy                           0.93      2140\n",
            "   macro avg       0.93      0.93      0.93      2140\n",
            "weighted avg       0.93      0.93      0.93      2140\n",
            "\n",
            "Accuracy :  0.9294392523364486\n",
            "Precison :  0.9295533669075107\n",
            "Recall :  0.9294392523364486\n",
            "F1 :  0.9294619494185866\n"
          ]
        },
        {
          "output_type": "display_data",
          "data": {
            "text/plain": [
              "<Figure size 360x288 with 2 Axes>"
            ],
            "image/png": "[encoded data removed]"
          },
          "metadata": {
            "needs_background": "light"
          }
        }
      ],
      "source": [
        "# display results\n",
        "print_metrics(voting_pred,val['label'])\n",
        "plot_confusion_matrix(confusion_matrix(val['label'],voting_pred),target_names=['fake','real'], normalize = False, \\\n",
        "                      title = 'Confusion matix of Ensemble on val data')"
      ]
    },
    {
      "cell_type": "markdown",
      "metadata": {
        "id": "78_DTv2cRlkE"
      },
      "source": [
        "So far, simple SVM outfperforms ensemble learning"
      ]
    },
    {
      "cell_type": "markdown",
      "source": [
        "# Error Analysis"
      ],
      "metadata": {
        "id": "BO60WIMcMiNO"
      }
    },
    {
      "cell_type": "code",
      "execution_count": 22,
      "metadata": {
        "colab": {
          "base_uri": "https://localhost:8080/"
        },
        "id": "DqTnVTIeBadM",
        "outputId": "9395cad5-a0dd-437f-b963-827d06c0ce6b"
      },
      "outputs": [
        {
          "metadata": {
            "tags": null
          },
          "name": "stdout",
          "output_type": "stream",
          "text": [
            "<class 'pandas.core.frame.DataFrame'>\n",
            "Int64Index: 143 entries, 1 to 2104\n",
            "Data columns (total 3 columns):\n",
            " #   Column  Non-Null Count  Dtype \n",
            "---  ------  --------------  ----- \n",
            " 0   id      143 non-null    int64 \n",
            " 1   tweet   143 non-null    object\n",
            " 2   label   143 non-null    object\n",
            "dtypes: int64(1), object(2)\n",
            "memory usage: 4.5+ KB\n"
          ]
        }
      ],
      "source": [
        "# create a df of misclassified posts\n",
        "val_orig = pd.read_csv('https://raw.githubusercontent.com/smkerr/COVID-fake-news-detection/main/data/Constraint_Val.csv', header=0)\n",
        "svm_val_misclass_df = val_orig[svm_pred!=y_val]\n",
        "\n",
        "# inspect df\n",
        "svm_val_misclass_df.info()"
      ]
    },
    {
      "cell_type": "code",
      "execution_count": null,
      "metadata": {
        "colab": {
          "base_uri": "https://localhost:8080/"
        },
        "id": "XHONng5cDZRS",
        "outputId": "f379dad2-5b54-418d-b94f-4004c426ee74"
      },
      "outputs": [
        {
          "name": "stdout",
          "output_type": "stream",
          "text": [
            "        id                                              tweet label\n",
            "1        2  11 13 people diamond princess cruise ship inti...  fake\n",
            "10      11  still fly friendly skies without fear covid ai...  real\n",
            "13      14  tomorrow april 6 pass 10000 coronavirus deaths...  real\n",
            "25      26  breathlessness excessive fatigue muscle aches ...  real\n",
            "28      29  everyone help prevent spread covid19 clara cor...  real\n",
            "...    ...                                                ...   ...\n",
            "2051  2052  missouri businesses open monday may 4 new orde...  fake\n",
            "2079  2080  coronavirus sir keir starmer says second lockd...  real\n",
            "2090  2091  uk government says responded well coronavirus ...  real\n",
            "2104  2105  june 26 taipei veterans general hospital imple...  fake\n",
            "2107  2108  icymi deborah birx 3 8 20 white house briefing...  real\n",
            "\n",
            "[161 rows x 3 columns]\n"
          ]
        }
      ],
      "source": [
        "#error analysis, to compair the false classifications of the different models\n",
        "\n",
        "false_pred_svm = val[(val[\"label\"] != svm_pred)]\n",
        "false_pred_gb = val[(val[\"label\"] != gb_pred)]\n",
        "false_pred_lr = val[(val[\"label\"] != lr_pred)]\n",
        "false_pred_xg = val[(val[\"label\"] != pred)]\n",
        "false_pred_ada = val[(val[\"label\"] != ada_pred)]\n",
        "false_pred_ensemble = val[(val[\"label\"] != voting_pred)]\n",
        "\n",
        "#common_mistakes = false_pred_svm = false_pred_gb = false_pred_lr = false_pred_xg = false_pred_ada = false_pred_ensemble\n",
        "print(false_pred_ensemble)\n",
        "\n"
      ]
    },
    {
      "cell_type": "code",
      "execution_count": null,
      "metadata": {
        "colab": {
          "base_uri": "https://localhost:8080/"
        },
        "id": "aJ5GX9khLilA",
        "outputId": "c842b651-5762-4caf-b72b-c31a6b4f5db0"
      },
      "outputs": [
        {
          "name": "stdout",
          "output_type": "stream",
          "text": [
            "    id_x                                              tweet label_x  id_y  \\\n",
            "0      2  11 13 people diamond princess cruise ship inti...    fake     2   \n",
            "1     11  still fly friendly skies without fear covid ai...    real    11   \n",
            "2     14  tomorrow april 6 pass 10000 coronavirus deaths...    real    14   \n",
            "3     56  india 3 covid19vaccine trials underway dcgi pe...    real    56   \n",
            "4     56  india 3 covid19vaccine trials underway dcgi pe...    real   274   \n",
            "..   ...                                                ...     ...   ...   \n",
            "87  2018  u nears 2 7 million total covid 19 cases 13000...    fake  2018   \n",
            "88  2044  kids covid contagious adults methodsmanmd expl...    real  2044   \n",
            "89  2059  wwn brings groundbreaking reportage government...    fake  2059   \n",
            "90  2080  coronavirus sir keir starmer says second lockd...    real  2080   \n",
            "91  2105  june 26 taipei veterans general hospital imple...    fake  2105   \n",
            "\n",
            "   label_y  \n",
            "0     fake  \n",
            "1     real  \n",
            "2     real  \n",
            "3     real  \n",
            "4     real  \n",
            "..     ...  \n",
            "87    fake  \n",
            "88    real  \n",
            "89    fake  \n",
            "90    real  \n",
            "91    fake  \n",
            "\n",
            "[92 rows x 5 columns]\n"
          ]
        }
      ],
      "source": [
        "#print(common_mistakes)\n",
        "common_mistakes = pd.merge(false_pred_svm, false_pred_ada, on=['tweet'], how='inner')\n",
        "print(common_mistakes)\n",
        "common_mistakes.to_csv('/content/drive/MyDrive/Final Project/COVID-fake-news-detection/model/error_analysis/common_mistakes.csv', encoding='utf-8')"
      ]
    },
    {
      "cell_type": "code",
      "execution_count": null,
      "metadata": {
        "colab": {
          "base_uri": "https://localhost:8080/"
        },
        "id": "J-a1QA9WM1sP",
        "outputId": "e955310e-0415-4e6a-c11a-aa67eff56a10"
      },
      "outputs": [
        {
          "name": "stdout",
          "output_type": "stream",
          "text": [
            "Mounted at drive\n"
          ]
        }
      ],
      "source": [
        "#mount drive to save data\n",
        "from google.colab import drive\n",
        "drive.mount('drive')"
      ]
    }
  ],
  "metadata": {
    "colab": {
      "collapsed_sections": [],
      "name": "fine_tuned_model.ipynb",
      "provenance": []
    },
    "kernelspec": {
      "display_name": "Python 3",
      "name": "python3"
    },
    "language_info": {
      "name": "python"
    },
    "accelerator": "GPU"
  },
  "nbformat": 4,
  "nbformat_minor": 0
}