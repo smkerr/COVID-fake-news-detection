{
  "nbformat": 4,
  "nbformat_minor": 0,
  "metadata": {
    "colab": {
      "name": "baseline-model.ipynb",
      "provenance": [],
      "collapsed_sections": []
    },
    "kernelspec": {
      "name": "python3",
      "display_name": "Python 3"
    },
    "language_info": {
      "name": "python"
    }
  },
  "cells": [
    {
      "cell_type": "markdown",
      "source": [
        "## Wishlist:\n",
        "*   plot bias-variance trade-off for each baseline model (Model Complexity vs. Error, see Lecture #6 slides)\n",
        "\n"
      ],
      "metadata": {
        "id": "iT99bk45OGeV"
      }
    },
    {
      "cell_type": "code",
      "execution_count": null,
      "metadata": {
        "id": "LDUxonlU7VeH",
        "colab": {
          "base_uri": "https://localhost:8080/"
        },
        "outputId": "b117a3db-a950-45e7-a04a-95b262db667a"
      },
      "outputs": [
        {
          "output_type": "stream",
          "name": "stdout",
          "text": [
            "[nltk_data] Downloading package stopwords to /root/nltk_data...\n",
            "[nltk_data]   Unzipping corpora/stopwords.zip.\n"
          ]
        }
      ],
      "source": [
        "# initial code w/ help from Patwa et al. & AG textbook\n",
        "# REMOVE UNNECESSARY DEPENDENCIES FOR FINAL DRAFT\n",
        "\n",
        "# load dependencies\n",
        "import pandas as pd\n",
        "import nltk\n",
        "nltk.download('stopwords')\n",
        "import re\n",
        "from nltk.corpus import stopwords\n",
        "import matplotlib.pyplot as plt\n",
        "from sklearn.feature_extraction.text import CountVectorizer, TfidfTransformer\n",
        "from sklearn.metrics import classification_report,confusion_matrix\n",
        "from sklearn.metrics import accuracy_score, f1_score, precision_score, recall_score\n",
        "from sklearn.svm import LinearSVC\n",
        "from sklearn.pipeline import Pipeline\n",
        "from sklearn.linear_model import SGDClassifier, LogisticRegression\n",
        "from sklearn.neural_network import MLPClassifier\n",
        "from joblib import dump, load\n",
        "from sklearn.ensemble import GradientBoostingClassifier\n",
        "from sklearn import tree\n",
        "import numpy as np\n",
        "import itertools\n",
        "\n",
        "# set seed\n",
        "np.random.seed(42)"
      ]
    },
    {
      "cell_type": "code",
      "source": [
        "# mount drive \n",
        "from google.colab import drive\n",
        "drive.mount('/content/drive')"
      ],
      "metadata": {
        "colab": {
          "base_uri": "https://localhost:8080/"
        },
        "id": "sYL2Dm6PC7bd",
        "outputId": "d3f62220-cd90-4bf0-c055-d3324d6446f8"
      },
      "execution_count": null,
      "outputs": [
        {
          "output_type": "stream",
          "name": "stdout",
          "text": [
            "Mounted at /content/drive\n"
          ]
        }
      ]
    },
    {
      "cell_type": "code",
      "source": [
        "# LOAD POST-PROCESSED DATA (IN FINAL DRAFT)\n",
        "\n",
        "# upload data \n",
        "train = pd.read_csv('/content/Constraint_Train.csv')\n",
        "val = pd.read_csv('/content/Constraint_Val.csv')"
      ],
      "metadata": {
        "id": "mQiCiSQUBO75"
      },
      "execution_count": null,
      "outputs": []
    },
    {
      "cell_type": "code",
      "source": [
        "# REMOVE IN FINAL DRAFT\n",
        "\n",
        "# pre-processing \n",
        "stops = set(stopwords.words(\"english\"))\n",
        "def cleantext(string):\n",
        "    text = string.lower().split()\n",
        "    text = \" \".join(text)\n",
        "    text = re.sub(r\"http(\\S)+\",' ',text)    \n",
        "    text = re.sub(r\"www(\\S)+\",' ',text)\n",
        "    text = re.sub(r\"&\",' and ',text)  \n",
        "    tx = text.replace('&amp',' ')\n",
        "    text = re.sub(r\"[^0-9a-zA-Z]+\",' ',text)\n",
        "    text = text.split()\n",
        "    text = [w for w in text if not w in stops]\n",
        "    text = \" \".join(text)\n",
        "    return text"
      ],
      "metadata": {
        "id": "LlXp-6juE_8t"
      },
      "execution_count": null,
      "outputs": []
    },
    {
      "cell_type": "code",
      "source": [
        "# REMOVE IN FINAL DRAFT\n",
        "\n",
        "# apply cleantext() function to all tweets \n",
        "train['tweet'] = train['tweet'].map(lambda x: cleantext(x))\n",
        "val['tweet'] = val['tweet'].map(lambda x: cleantext(x))\n",
        "#test['tweet'] = test['tweet'].map(lambda x: cleantext(x))"
      ],
      "metadata": {
        "id": "nMcHawkuBPqY"
      },
      "execution_count": null,
      "outputs": []
    },
    {
      "cell_type": "code",
      "source": [
        "# define plot_confusion_matrix() function to display results\n",
        "def plot_confusion_matrix(cm,\n",
        "                          target_names,\n",
        "                          title='Confusion matrix',\n",
        "                          cmap=None,\n",
        "                          normalize=True):\n",
        "    \"\"\"\n",
        "    given a sklearn confusion matrix (cm), make a nice plot\n",
        "\n",
        "    Arguments\n",
        "    ---------\n",
        "    cm:           confusion matrix from sklearn.metrics.confusion_matrix\n",
        "\n",
        "    target_names: given classification classes such as [0, 1, 2]\n",
        "                  the class names, for example: ['high', 'medium', 'low']\n",
        "\n",
        "    title:        the text to display at the top of the matrix\n",
        "\n",
        "    cmap:         the gradient of the values displayed from matplotlib.pyplot.cm\n",
        "                  see http://matplotlib.org/examples/color/colormaps_reference.html\n",
        "                  plt.get_cmap('jet') or plt.cm.Blues\n",
        "\n",
        "    normalize:    If False, plot the raw numbers\n",
        "                  If True, plot the proportions\n",
        "\n",
        "    Usage\n",
        "    -----\n",
        "    plot_confusion_matrix(cm           = cm,                  # confusion matrix created by\n",
        "                                                              # sklearn.metrics.confusion_matrix\n",
        "                          normalize    = True,                # show proportions\n",
        "                          target_names = y_labels_vals,       # list of names of the classes\n",
        "                          title        = best_estimator_name) # title of graph\n",
        "\n",
        "    Citiation\n",
        "    ---------\n",
        "    http://scikit-learn.org/stable/auto_examples/model_selection/plot_confusion_matrix.html\n",
        "\n",
        "    \"\"\"\n",
        "\n",
        "    accuracy = np.trace(cm) / float(np.sum(cm))\n",
        "    misclass = 1 - accuracy\n",
        "\n",
        "    if cmap is None:\n",
        "        cmap = plt.get_cmap('Blues')\n",
        "\n",
        "    plt.figure(figsize=(5, 4))\n",
        "    plt.imshow(cm, interpolation='nearest', cmap=cmap)\n",
        "    plt.title(title)\n",
        "    plt.colorbar()\n",
        "\n",
        "    if target_names is not None:\n",
        "        tick_marks = np.arange(len(target_names))\n",
        "        plt.xticks(tick_marks, target_names, rotation=45)\n",
        "        plt.yticks(tick_marks, target_names)\n",
        "\n",
        "    if normalize:\n",
        "        cm = cm.astype('float') / cm.sum(axis=1)[:, np.newaxis]\n",
        "\n",
        "\n",
        "    thresh = cm.max() / 1.5 if normalize else cm.max() / 2\n",
        "    for i, j in itertools.product(range(cm.shape[0]), range(cm.shape[1])):\n",
        "        if normalize:\n",
        "            plt.text(j, i, \"{:0.4f}\".format(cm[i, j]),\n",
        "                     horizontalalignment=\"center\",\n",
        "                     color=\"white\" if cm[i, j] > thresh else \"black\")\n",
        "        else:\n",
        "            plt.text(j, i, \"{:,}\".format(cm[i, j]),\n",
        "                     horizontalalignment=\"center\",\n",
        "                     color=\"white\" if cm[i, j] > thresh else \"black\")\n",
        "\n",
        "\n",
        "    plt.tight_layout()\n",
        "    plt.ylabel('True label')\n",
        "    #plt.xlabel('Predicted label\\naccuracy={:0.4f}; misclass={:0.4f}'.format(accuracy, misclass))\n",
        "    plt.xlabel('Predicted label')\n",
        "    plt.show()"
      ],
      "metadata": {
        "id": "7kn6E5WCBA6g"
      },
      "execution_count": null,
      "outputs": []
    },
    {
      "cell_type": "code",
      "source": [
        "# consider implementing cross-validation ?"
      ],
      "metadata": {
        "id": "tyW6zyeCIUcS"
      },
      "execution_count": null,
      "outputs": []
    },
    {
      "cell_type": "code",
      "source": [
        "# define print_metrices() function to print results\n",
        "def print_metrices(pred,true):\n",
        "    print(confusion_matrix(true,pred))\n",
        "    print(classification_report(true,pred,))\n",
        "    print(\"Accuracy : \",accuracy_score(pred,true))\n",
        "    print(\"Precison : \",precision_score(pred,true, average = 'weighted'))\n",
        "    print(\"Recall : \",recall_score(pred,true,  average = 'weighted'))\n",
        "    print(\"F1 : \",f1_score(pred,true,  average = 'weighted'))"
      ],
      "metadata": {
        "id": "iSxUfFsNBRsm"
      },
      "execution_count": null,
      "outputs": []
    },
    {
      "cell_type": "code",
      "source": [
        "# SVM Classifier\n",
        "\n",
        "# create pipeline\n",
        "pipeline = Pipeline([\n",
        "        ('bow', CountVectorizer()), # count term frequency\n",
        "        ('tfidf', TfidfTransformer()), # downweight words which appear frequently\n",
        "        ('c', LinearSVC()) # estimator\n",
        "    ])\n",
        "fit = pipeline.fit(train['tweet'],train['label']) # train model\n",
        "print('SVM')\n",
        "print ('val:')\n",
        "pred = pipeline.predict(val['tweet']) # make predictions\n",
        "\n",
        "# display results\n",
        "print_metrices(pred,val['label'])\n",
        "plot_confusion_matrix(confusion_matrix(val['label'],pred),target_names=['fake','real'], normalize = False, \\\n",
        "                      title = 'Confusion matix of SVM on val data')"
      ],
      "metadata": {
        "colab": {
          "base_uri": "https://localhost:8080/",
          "height": 614
        },
        "id": "W2l2XD_GBTG1",
        "outputId": "f2fd8c80-4d66-4965-de7d-a47167d0465e"
      },
      "execution_count": null,
      "outputs": [
        {
          "output_type": "stream",
          "name": "stdout",
          "text": [
            "SVM\n",
            "val:\n",
            "[[ 963   57]\n",
            " [  83 1037]]\n",
            "              precision    recall  f1-score   support\n",
            "\n",
            "        fake       0.92      0.94      0.93      1020\n",
            "        real       0.95      0.93      0.94      1120\n",
            "\n",
            "    accuracy                           0.93      2140\n",
            "   macro avg       0.93      0.94      0.93      2140\n",
            "weighted avg       0.93      0.93      0.93      2140\n",
            "\n",
            "Accuracy :  0.9345794392523364\n",
            "Precison :  0.9348008619335585\n",
            "Recall :  0.9345794392523364\n",
            "F1 :  0.9345519215989282\n"
          ]
        },
        {
          "output_type": "display_data",
          "data": {
            "text/plain": [
              "<Figure size 360x288 with 2 Axes>"
            ],
            "image/png": "[encoded data removed]"
          },
          "metadata": {
            "needs_background": "light"
          }
        }
      ]
    },
    {
      "cell_type": "code",
      "source": [
        "# create a df of misclassified posts\n",
        "val_orig = pd.read_csv('/content/Constraint_Val.csv')\n",
        "svm_val_misclass_df = val_orig[pred!=val['label']]\n",
        "\n",
        "# inspect df\n",
        "svm_val_misclass_df.info()"
      ],
      "metadata": {
        "colab": {
          "base_uri": "https://localhost:8080/"
        },
        "id": "DqTnVTIeBadM",
        "outputId": "9b053f35-4d22-4f43-f637-bca311d3c1cc"
      },
      "execution_count": null,
      "outputs": [
        {
          "output_type": "stream",
          "name": "stdout",
          "text": [
            "<class 'pandas.core.frame.DataFrame'>\n",
            "Int64Index: 140 entries, 1 to 2138\n",
            "Data columns (total 3 columns):\n",
            " #   Column  Non-Null Count  Dtype \n",
            "---  ------  --------------  ----- \n",
            " 0   id      140 non-null    int64 \n",
            " 1   tweet   140 non-null    object\n",
            " 2   label   140 non-null    object\n",
            "dtypes: int64(1), object(2)\n",
            "memory usage: 4.4+ KB\n"
          ]
        }
      ]
    },
    {
      "cell_type": "code",
      "source": [
        "# Logistic Regression\n",
        "\n",
        "# create pipeline\n",
        "pipeline = Pipeline([\n",
        "        ('bow', CountVectorizer()), # count term frequency\n",
        "        ('tfidf', TfidfTransformer()), # downweight words which appear frequently\n",
        "        ('c', LogisticRegression()) # classifier\n",
        "    ])\n",
        "\n",
        "fit = pipeline.fit(train['tweet'],train['label']) # train model\n",
        "print('Logistic Regression')\n",
        "print ('val:')\n",
        "pred = pipeline.predict(val['tweet']) # make predictions\n",
        "\n",
        "# display results\n",
        "print_metrices(pred,val['label'])\n",
        "plot_confusion_matrix(confusion_matrix(val['label'],pred),target_names=['fake','real'], normalize = False, \\\n",
        "                      title = 'Confusion matix of LR on val data')\n"
      ],
      "metadata": {
        "colab": {
          "base_uri": "https://localhost:8080/",
          "height": 614
        },
        "id": "mKiKPHlfBU4W",
        "outputId": "ccd22862-44f4-444c-9f3f-bba38e8c3796"
      },
      "execution_count": null,
      "outputs": [
        {
          "output_type": "stream",
          "name": "stdout",
          "text": [
            "Logistic Regression\n",
            "val:\n",
            "[[ 959   61]\n",
            " [  94 1026]]\n",
            "              precision    recall  f1-score   support\n",
            "\n",
            "        fake       0.91      0.94      0.93      1020\n",
            "        real       0.94      0.92      0.93      1120\n",
            "\n",
            "    accuracy                           0.93      2140\n",
            "   macro avg       0.93      0.93      0.93      2140\n",
            "weighted avg       0.93      0.93      0.93      2140\n",
            "\n",
            "Accuracy :  0.927570093457944\n",
            "Precison :  0.9279421090866252\n",
            "Recall :  0.927570093457944\n",
            "F1 :  0.9275350904769529\n"
          ]
        },
        {
          "output_type": "display_data",
          "data": {
            "text/plain": [
              "<Figure size 360x288 with 2 Axes>"
            ],
            "image/png": "[encoded data removed]"
          },
          "metadata": {
            "needs_background": "light"
          }
        }
      ]
    },
    {
      "cell_type": "code",
      "source": [
        "# Gradient Boosting Classifier\n",
        "\n",
        "# create pipeline\n",
        "pipeline = Pipeline([\n",
        "        ('bow', CountVectorizer()), # count term frequency\n",
        "        ('tfidf', TfidfTransformer()), # downweight words which appear frequently\n",
        "        ('c', GradientBoostingClassifier()) # classifier\n",
        "    ])\n",
        "\n",
        "fit = pipeline.fit(train['tweet'],train['label']) # train model\n",
        "print('Gradient Boost')\n",
        "print ('val:')\n",
        "pred = pipeline.predict(val['tweet']) # make predictions\n",
        "\n",
        "# display results\n",
        "print_metrices(pred,val['label'])\n",
        "plot_confusion_matrix(confusion_matrix(val['label'],pred),target_names=['fake','real'], normalize = False, \\\n",
        "                      title = 'Confusion matix of GDBT on val data')"
      ],
      "metadata": {
        "colab": {
          "base_uri": "https://localhost:8080/",
          "height": 614
        },
        "id": "14jIEEenBVi8",
        "outputId": "1df4ad10-ef19-41bd-e3d6-19b1cab14883"
      },
      "execution_count": null,
      "outputs": [
        {
          "output_type": "stream",
          "name": "stdout",
          "text": [
            "Gradient Boost\n",
            "val:\n",
            "[[921  99]\n",
            " [184 936]]\n",
            "              precision    recall  f1-score   support\n",
            "\n",
            "        fake       0.83      0.90      0.87      1020\n",
            "        real       0.90      0.84      0.87      1120\n",
            "\n",
            "    accuracy                           0.87      2140\n",
            "   macro avg       0.87      0.87      0.87      2140\n",
            "weighted avg       0.87      0.87      0.87      2140\n",
            "\n",
            "Accuracy :  0.8677570093457944\n",
            "Precison :  0.8704272363150868\n",
            "Recall :  0.8677570093457944\n",
            "F1 :  0.8677201899516448\n"
          ]
        },
        {
          "output_type": "display_data",
          "data": {
            "text/plain": [
              "<Figure size 360x288 with 2 Axes>"
            ],
            "image/png": "[encoded data removed]"
          },
          "metadata": {
            "needs_background": "light"
          }
        }
      ]
    },
    {
      "cell_type": "code",
      "source": [
        "# Decision Tree Classifier\n",
        "\n",
        "# create pipeline\n",
        "pipeline = Pipeline([\n",
        "        ('bow', CountVectorizer()), # count term frequency\n",
        "        ('tfidf', TfidfTransformer()), # downweight words which appear frequently\n",
        "        ('c', tree.DecisionTreeClassifier()) # classifier\n",
        "    ])\n",
        "\n",
        "fit = pipeline.fit(train['tweet'],train['label']) # train model\n",
        "print('Decision Tree')\n",
        "print ('val:')\n",
        "pred = pipeline.predict(val['tweet']) # make predictions\n",
        "\n",
        "# display results\n",
        "print_metrices(pred,val['label'])\n",
        "plot_confusion_matrix(confusion_matrix(val['label'],pred),target_names=['fake','real'], normalize = False, \\\n",
        "                      title = 'Confusion matix of DT on val data')"
      ],
      "metadata": {
        "colab": {
          "base_uri": "https://localhost:8080/",
          "height": 614
        },
        "id": "kKs_IrTSBYQw",
        "outputId": "fad8216d-6ae9-4cf4-eadc-a5041d039244"
      },
      "execution_count": null,
      "outputs": [
        {
          "output_type": "stream",
          "name": "stdout",
          "text": [
            "Decision Tree\n",
            "val:\n",
            "[[840 180]\n",
            " [150 970]]\n",
            "              precision    recall  f1-score   support\n",
            "\n",
            "        fake       0.85      0.82      0.84      1020\n",
            "        real       0.84      0.87      0.85      1120\n",
            "\n",
            "    accuracy                           0.85      2140\n",
            "   macro avg       0.85      0.84      0.85      2140\n",
            "weighted avg       0.85      0.85      0.85      2140\n",
            "\n",
            "Accuracy :  0.8457943925233645\n",
            "Precison :  0.8463907759365429\n",
            "Recall :  0.8457943925233645\n",
            "F1 :  0.8459262008537739\n"
          ]
        },
        {
          "output_type": "display_data",
          "data": {
            "text/plain": [
              "<Figure size 360x288 with 2 Axes>"
            ],
            "image/png": "[encoded data removed]"
          },
          "metadata": {
            "needs_background": "light"
          }
        }
      ]
    },
    {
      "cell_type": "code",
      "source": [
        "# Confusion matrix code from AG textbook\n",
        "\n",
        "from sklearn.metrics import confusion_matrix\n",
        "confusion_matrix(train, y_train_pred)\n",
        "\n",
        "y_train_perfect_predictions = y_train_5 # pretend we reached perfection\n",
        "confusion_matrix(y_train_5, y_train_perfect_predictions)\n",
        "\n",
        "from sklearn.metrics import precision_score, recall_score\n",
        "precision_score(y_train_5, y_train_pred)\n",
        "recall_score(y_train_5, y_train_pred)\n",
        "\n",
        "from sklearn.metrics import f1_score\n",
        "f1_score(y_train_5, y_train_pred)\n",
        "\n",
        "from sklearn.metrics import precision_recall_curve\n",
        "precisions, recalls, thresholds = precision_recall_curve(y_train_5, y_scores)\n",
        "\n",
        "def plot_precision_recall_vs_threshold(precisions, recalls, thresholds): \n",
        "  plt.plot(thresholds, precisions[:-1], \"b--\", label=\"Precision\") \n",
        "  plt.plot(thresholds, recalls[:-1], \"g-\", label=\"Recall\")\n",
        "  # add the legend, axis label, and grid; highlight threshold/decision score\n",
        "  plot_precision_recall_vs_threshold(precisions, recalls, thresholds)\n",
        "  plt.show()\n"
      ],
      "metadata": {
        "id": "RnDqJ86uIeV5",
        "colab": {
          "base_uri": "https://localhost:8080/",
          "height": 240
        },
        "outputId": "e95ed7d3-15e3-41a5-aa38-e6c538cd4ced"
      },
      "execution_count": null,
      "outputs": [
        {
          "output_type": "error",
          "ename": "NameError",
          "evalue": "ignored",
          "traceback": [
            "\u001b[0;31m---------------------------------------------------------------------------\u001b[0m",
            "\u001b[0;31mNameError\u001b[0m                                 Traceback (most recent call last)",
            "\u001b[0;32m<ipython-input-7-7dd4661a1b5e>\u001b[0m in \u001b[0;36m<module>\u001b[0;34m()\u001b[0m\n\u001b[1;32m      1\u001b[0m \u001b[0;31m# Confusion matrix code from AG textbook\u001b[0m\u001b[0;34m\u001b[0m\u001b[0;34m\u001b[0m\u001b[0;34m\u001b[0m\u001b[0m\n\u001b[1;32m      2\u001b[0m \u001b[0;32mfrom\u001b[0m \u001b[0msklearn\u001b[0m\u001b[0;34m.\u001b[0m\u001b[0mmetrics\u001b[0m \u001b[0;32mimport\u001b[0m \u001b[0mconfusion_matrix\u001b[0m\u001b[0;34m\u001b[0m\u001b[0;34m\u001b[0m\u001b[0m\n\u001b[0;32m----> 3\u001b[0;31m \u001b[0mconfusion_matrix\u001b[0m\u001b[0;34m(\u001b[0m\u001b[0my_train_5\u001b[0m\u001b[0;34m,\u001b[0m \u001b[0my_train_pred\u001b[0m\u001b[0;34m)\u001b[0m\u001b[0;34m\u001b[0m\u001b[0;34m\u001b[0m\u001b[0m\n\u001b[0m\u001b[1;32m      4\u001b[0m \u001b[0;34m\u001b[0m\u001b[0m\n\u001b[1;32m      5\u001b[0m \u001b[0my_train_perfect_predictions\u001b[0m \u001b[0;34m=\u001b[0m \u001b[0my_train_5\u001b[0m \u001b[0;31m# pretend we reached perfection\u001b[0m\u001b[0;34m\u001b[0m\u001b[0;34m\u001b[0m\u001b[0m\n",
            "\u001b[0;31mNameError\u001b[0m: name 'y_train_5' is not defined"
          ]
        }
      ]
    },
    {
      "cell_type": "code",
      "source": [
        "# Receiver Operating Characteristic (ROC) curve from AG textbook\n",
        "\n",
        "from sklearn.metrics import roc_curve\n",
        "fpr, tpr, thresholds = roc_curve(y_train_5, y_scores)\n",
        "\n",
        "def plot_roc_curve(fpr, tpr, label=None): plt.plot(fpr, tpr, linewidth=2, label=label) plt.plot([0, 1], [0, 1], 'k--') # Dashed diagonal \n",
        "    # [...] # Add axis labels and grid\n",
        "    plot_roc_curve(fpr, tpr)\n",
        "    plt.show()\n",
        "\n",
        "from sklearn.metrics import roc_auc_score\n",
        "roc_auc_score(y_train_5, y_scores)\n",
        "\n",
        "from sklearn.ensemble import RandomForestClassifier\n",
        "    forest_clf = RandomForestClassifier(random_state=42)\n",
        "    y_probas_forest = cross_val_predict(forest_clf, X_train, y_train_5, cv=3, method=\"predict_proba\")\n",
        "\n",
        "y_scores_forest = y_probas_forest[:, 1] # score = proba of positive class \n",
        "fpr_forest, tpr_forest, thresholds_forest = roc_curve(y_train_5,y_scores_forest)\n",
        "\n",
        "plt.plot(fpr, tpr, \"b:\", label=\"SGD\")\n",
        "    plot_roc_curve(fpr_forest, tpr_forest, \"Random Forest\")\n",
        "    plt.legend(loc=\"lower right\")\n",
        "    plt.show()"
      ],
      "metadata": {
        "id": "3BDhYupMJRG7"
      },
      "execution_count": null,
      "outputs": []
    }
  ]
}