{
 "cells": [
  {
   "cell_type": "markdown",
   "metadata": {
    "id": "view-in-github"
   },
   "source": [
    "<a href=\"https://colab.research.google.com/github/smkerr/COVID-fake-news-detection/blob/main/model/fine-tuned-model-no-tweet2vec.ipynb\" target=\"_parent\"><img src=\"https://colab.research.google.com/assets/colab-badge.svg\" alt=\"Open In Colab\"/></a>"
   ]
  },
  {
   "cell_type": "markdown",
   "metadata": {
    "id": "X96VzyHuGU4-"
   },
   "source": [
    "# Setup"
   ]
  },
  {
   "cell_type": "code",
   "execution_count": 1,
   "metadata": {
    "colab": {
     "base_uri": "https://localhost:8080/"
    },
    "executionInfo": {
     "elapsed": 4576,
     "status": "ok",
     "timestamp": 1651566458331,
     "user": {
      "displayName": "Hannah Schweren",
      "userId": "17418859482307087546"
     },
     "user_tz": -120
    },
    "id": "LDUxonlU7VeH",
    "outputId": "e1fdd397-1208-4f85-848e-99fb3d7327a4"
   },
   "outputs": [
    {
     "name": "stderr",
     "output_type": "stream",
     "text": [
      "[nltk_data] Downloading package stopwords to /Users/steve/nltk_data...\n",
      "[nltk_data]   Package stopwords is already up-to-date!\n",
      "[nltk_data] Downloading package wordnet to /Users/steve/nltk_data...\n",
      "[nltk_data]   Package wordnet is already up-to-date!\n"
     ]
    }
   ],
   "source": [
    "# import dependencies\n",
    "import itertools\n",
    "import matplotlib.pyplot as plt\n",
    "import numpy as np\n",
    "import pandas as pd\n",
    "import re\n",
    "from xgboost import XGBClassifier\n",
    "\n",
    "import nltk\n",
    "from nltk.corpus import stopwords\n",
    "from nltk.stem import WordNetLemmatizer\n",
    "nltk.download('stopwords')\n",
    "nltk.download('wordnet')\n",
    "\n",
    "from sklearn import preprocessing\n",
    "from sklearn.ensemble import AdaBoostClassifier, VotingClassifier\n",
    "from sklearn.feature_extraction.text import CountVectorizer, TfidfTransformer \n",
    "from sklearn.linear_model import LogisticRegression\n",
    "from sklearn.metrics import accuracy_score, classification_report, confusion_matrix, f1_score, plot_confusion_matrix, precision_score, recall_score\n",
    "from sklearn.pipeline import Pipeline\n",
    "from sklearn.svm import SVC\n",
    "\n",
    "import pickle"
   ]
  },
  {
   "cell_type": "code",
   "execution_count": 2,
   "metadata": {
    "colab": {
     "base_uri": "https://localhost:8080/"
    },
    "executionInfo": {
     "elapsed": 16650,
     "status": "ok",
     "timestamp": 1651566474972,
     "user": {
      "displayName": "Hannah Schweren",
      "userId": "17418859482307087546"
     },
     "user_tz": -120
    },
    "id": "ooPf2Op5p7yd",
    "outputId": "c6c5f1bf-1ba1-41da-ff02-9848d4e33694"
   },
   "outputs": [
    {
     "ename": "ModuleNotFoundError",
     "evalue": "No module named 'google'",
     "output_type": "error",
     "traceback": [
      "\u001b[0;31m---------------------------------------------------------------------------\u001b[0m",
      "\u001b[0;31mModuleNotFoundError\u001b[0m                       Traceback (most recent call last)",
      "\u001b[0;32m<ipython-input-2-271ae8b250de>\u001b[0m in \u001b[0;36m<module>\u001b[0;34m\u001b[0m\n\u001b[1;32m      1\u001b[0m \u001b[0;31m#mount drive to save modesl\u001b[0m\u001b[0;34m\u001b[0m\u001b[0;34m\u001b[0m\u001b[0;34m\u001b[0m\u001b[0m\n\u001b[0;32m----> 2\u001b[0;31m \u001b[0;32mfrom\u001b[0m \u001b[0mgoogle\u001b[0m\u001b[0;34m.\u001b[0m\u001b[0mcolab\u001b[0m \u001b[0;32mimport\u001b[0m \u001b[0mdrive\u001b[0m\u001b[0;34m\u001b[0m\u001b[0;34m\u001b[0m\u001b[0m\n\u001b[0m\u001b[1;32m      3\u001b[0m \u001b[0mdrive\u001b[0m\u001b[0;34m.\u001b[0m\u001b[0mmount\u001b[0m\u001b[0;34m(\u001b[0m\u001b[0;34m'drive'\u001b[0m\u001b[0;34m)\u001b[0m\u001b[0;34m\u001b[0m\u001b[0;34m\u001b[0m\u001b[0m\n",
      "\u001b[0;31mModuleNotFoundError\u001b[0m: No module named 'google'"
     ]
    }
   ],
   "source": [
    "#mount drive to save modesl\n",
    "from google.colab import drive\n",
    "drive.mount('drive')"
   ]
  },
  {
   "cell_type": "code",
   "execution_count": 2,
   "metadata": {
    "executionInfo": {
     "elapsed": 10,
     "status": "ok",
     "timestamp": 1651566474973,
     "user": {
      "displayName": "Hannah Schweren",
      "userId": "17418859482307087546"
     },
     "user_tz": -120
    },
    "id": "-g5sLb4HpUn1"
   },
   "outputs": [],
   "source": [
    "# set seed\n",
    "np.random.seed(42)"
   ]
  },
  {
   "cell_type": "code",
   "execution_count": 3,
   "metadata": {
    "executionInfo": {
     "elapsed": 627,
     "status": "ok",
     "timestamp": 1651569642645,
     "user": {
      "displayName": "Hannah Schweren",
      "userId": "17418859482307087546"
     },
     "user_tz": -120
    },
    "id": "mQiCiSQUBO75"
   },
   "outputs": [],
   "source": [
    "# load & clean data \n",
    "train = pd.read_csv('https://raw.githubusercontent.com/smkerr/COVID-fake-news-detection/main/data/original%20data/Constraint_Train.csv', header=0)\n",
    "train_clean = train[train[\"tweet\"].map(len) <= 280].drop_duplicates() # drop posts longer than 280 characters & drop duplicates\n",
    "X_train, y_train = train_clean[\"tweet\"], train_clean[\"label\"]\n",
    "\n",
    "\n",
    "val = pd.read_csv('https://raw.githubusercontent.com/smkerr/COVID-fake-news-detection/main/data/original%20data/Constraint_Val.csv', header=0)\n",
    "val_clean = val[val[\"tweet\"].map(len) <= 280].drop_duplicates()  # drop posts longer than 280 characters & drop duplicates\n",
    "X_val, y_val = val_clean[\"tweet\"], val_clean[\"label\"]\n",
    "\n",
    "test = pd.read_csv('https://raw.githubusercontent.com/smkerr/COVID-fake-news-detection/main/data/original%20data/Constraint_Test.csv', header=0)\n",
    "test_clean = test[test[\"tweet\"].map(len) <= 280].drop_duplicates()  # drop posts longer than 280 characters & drop duplicates\n",
    "X_test, y_test = test_clean[\"tweet\"], test_clean[\"label\"]\n",
    "\n",
    "#new = pd.read_csv('new_data.csv', header=0)\n",
    "#new_clean = new[new[\"statement\"].map(len) <= 280].drop_duplicates()  # drop posts longer than 280 characters & drop duplicates\n",
    "#X_new, y_new = new_clean[\"statement\"], new_clean[\"label\"]"
   ]
  },
  {
   "cell_type": "markdown",
   "metadata": {
    "id": "b1RHfeVkGYNg"
   },
   "source": [
    "# Pre-processing"
   ]
  },
  {
   "cell_type": "code",
   "execution_count": 4,
   "metadata": {
    "executionInfo": {
     "elapsed": 1064,
     "status": "ok",
     "timestamp": 1651569770299,
     "user": {
      "displayName": "Hannah Schweren",
      "userId": "17418859482307087546"
     },
     "user_tz": -120
    },
    "id": "LlXp-6juE_8t"
   },
   "outputs": [],
   "source": [
    "# initialize lemmatizer \n",
    "lemmatizer = WordNetLemmatizer()\n",
    "\n",
    "# create stop word list\n",
    "stoplist = set(stopwords.words('english'))\n",
    "\n",
    "# create CleanText() function\n",
    "def CleanText(string):\n",
    "    text = string.lower() # lowercase\n",
    "    text = re.sub(r\"http(\\S)+\",' ',text) # remove URLs   \n",
    "    text = re.sub(r\"www(\\S)+\",' ',text) # remove URLs\n",
    "    text = re.sub(r\"&\",' and ',text) # replace & with ' and '\n",
    "    text = text.replace('&amp',' ') # replace &amp with ' '\n",
    "    text = re.sub(r\"[^0-9a-zA-Z]+\",' ',text) # remove non-alphanumeric characters\n",
    "    text = text.split() # splits into a list of words\n",
    "    text = [w for w in text if not w in stoplist] # remove stop words\n",
    "    text = [lemmatizer.lemmatize(w) for w in text] # lemmatization\n",
    "    text = \" \".join(text) # joins the list of words\n",
    "    return text\n",
    "\n",
    "# apply CleanText() function to all tweets \n",
    "X_train = X_train.map(lambda x: CleanText(x))\n",
    "X_val = X_val.map(lambda x: CleanText(x))\n",
    "X_test = X_test.map(lambda x: CleanText(x))\n",
    "#X_new = X_new.map(lambda x: CleanText(x))"
   ]
  },
  {
   "cell_type": "code",
   "execution_count": 5,
   "metadata": {
    "executionInfo": {
     "elapsed": 185,
     "status": "ok",
     "timestamp": 1651569806117,
     "user": {
      "displayName": "Hannah Schweren",
      "userId": "17418859482307087546"
     },
     "user_tz": -120
    },
    "id": "W2nxpRa27d6i"
   },
   "outputs": [],
   "source": [
    "# initialize label encoder\n",
    "label_encoder = preprocessing.LabelEncoder()\n",
    "\n",
    "# encode 'fake' as 0 and 'real' as 1 to make target variables machine-readable\n",
    "y_train = label_encoder.fit_transform(y_train)\n",
    "y_val = label_encoder.fit_transform(y_val)\n",
    "y_test = label_encoder.fit_transform(y_test)\n",
    "#y_new = label_encoder.fit_transform(y_new)"
   ]
  },
  {
   "cell_type": "markdown",
   "metadata": {
    "id": "cBGrHpbcBqEB"
   },
   "source": [
    "# Model Training"
   ]
  },
  {
   "cell_type": "markdown",
   "metadata": {
    "id": "_XnE-4bmBrQk"
   },
   "source": [
    "## #1 SVM"
   ]
  },
  {
   "cell_type": "code",
   "execution_count": 6,
   "metadata": {
    "executionInfo": {
     "elapsed": 31408,
     "status": "ok",
     "timestamp": 1651567861856,
     "user": {
      "displayName": "Hannah Schweren",
      "userId": "17418859482307087546"
     },
     "user_tz": -120
    },
    "id": "TYf2PXd2TyCL"
   },
   "outputs": [],
   "source": [
    "# create SVM object\n",
    "svm_clf = SVC(kernel='linear',probability=True, C=10, class_weight='balanced')\n",
    "\n",
    "# create pipeline\n",
    "svm_pipeline = Pipeline([\n",
    "        ('bow', CountVectorizer(ngram_range=(1, 2))), # count term frequency\n",
    "        ('tfidf', TfidfTransformer()), # downweight words which appear frequently\n",
    "        ('c', svm_clf) # classifier\n",
    "])\n",
    "\n",
    "# train model\n",
    "fit = svm_pipeline.fit(X_train,y_train)\n",
    "\n",
    "# make predictions\n",
    "svm_pred = svm_pipeline.predict(X_val)\n",
    "\n",
    "#make pred on test\n",
    "svm_pred_test = svm_pipeline.predict(X_test)"
   ]
  },
  {
   "cell_type": "code",
   "execution_count": 7,
   "metadata": {
    "executionInfo": {
     "elapsed": 400,
     "status": "ok",
     "timestamp": 1651569846234,
     "user": {
      "displayName": "Hannah Schweren",
      "userId": "17418859482307087546"
     },
     "user_tz": -120
    },
    "id": "m9Ufd12HO6DB"
   },
   "outputs": [],
   "source": [
    "#make pred on new data\n",
    "#svm_pred_new = svm_pipeline.predict(X_new)"
   ]
  },
  {
   "cell_type": "code",
   "execution_count": 8,
   "metadata": {
    "executionInfo": {
     "elapsed": 929,
     "status": "ok",
     "timestamp": 1651566547866,
     "user": {
      "displayName": "Hannah Schweren",
      "userId": "17418859482307087546"
     },
     "user_tz": -120
    },
    "id": "UmEDbIVOptoP"
   },
   "outputs": [],
   "source": [
    "#save SVM model\n",
    "#pkl_filename = \"/content/drive/MyDrive/Final Project/COVID-fake-news-detection/model/saved models/pickle_svm_clf.pkl\"\n",
    "#with open(pkl_filename, 'wb') as file:\n",
    "    #pickle.dump(svm_pipeline, file)"
   ]
  },
  {
   "cell_type": "markdown",
   "metadata": {
    "id": "ay0JYxPCB4sD"
   },
   "source": [
    "## #2 Logistic Regression"
   ]
  },
  {
   "cell_type": "code",
   "execution_count": 9,
   "metadata": {
    "colab": {
     "base_uri": "https://localhost:8080/"
    },
    "executionInfo": {
     "elapsed": 8466,
     "status": "ok",
     "timestamp": 1651567922628,
     "user": {
      "displayName": "Hannah Schweren",
      "userId": "17418859482307087546"
     },
     "user_tz": -120
    },
    "id": "JZsimwCxO-du",
    "outputId": "fc24ebcc-0d7b-472e-ad67-7c41ebc5ed68"
   },
   "outputs": [
    {
     "name": "stderr",
     "output_type": "stream",
     "text": [
      "/Users/steve/opt/anaconda3/lib/python3.8/site-packages/sklearn/linear_model/_sag.py:328: ConvergenceWarning: The max_iter was reached which means the coef_ did not converge\n",
      "  warnings.warn(\"The max_iter was reached which means \"\n"
     ]
    }
   ],
   "source": [
    "# create logistic regression object\n",
    "lr_clf = LogisticRegression(max_iter=1000,penalty='none',solver='saga')\n",
    "\n",
    "# create pipeline\n",
    "lr_pipeline = Pipeline([\n",
    "        ('count', CountVectorizer(ngram_range=(1, 2))), # count term frequency\n",
    "        ('tfidf', TfidfTransformer()), # downweight words which appear frequently\n",
    "        ('c', lr_clf) # classifier\n",
    "])\n",
    "\n",
    "# train model\n",
    "fit = lr_pipeline.fit(X_train,y_train)\n",
    "\n",
    "# make predictions\n",
    "lr_pred = lr_pipeline.predict(X_val) \n",
    "\n",
    "#make pred on test\n",
    "lr_pred_test = lr_pipeline.predict(X_test) "
   ]
  },
  {
   "cell_type": "code",
   "execution_count": 10,
   "metadata": {
    "executionInfo": {
     "elapsed": 236,
     "status": "ok",
     "timestamp": 1651569965104,
     "user": {
      "displayName": "Hannah Schweren",
      "userId": "17418859482307087546"
     },
     "user_tz": -120
    },
    "id": "rtI-l8oYPXl4"
   },
   "outputs": [],
   "source": [
    "#make pred on new\n",
    "#lr_pred_new = lr_pipeline.predict(X_new) "
   ]
  },
  {
   "cell_type": "code",
   "execution_count": 11,
   "metadata": {
    "executionInfo": {
     "elapsed": 2,
     "status": "ok",
     "timestamp": 1651561113118,
     "user": {
      "displayName": "Hannah Schweren",
      "userId": "17418859482307087546"
     },
     "user_tz": -120
    },
    "id": "8wNKXxzarnjc"
   },
   "outputs": [],
   "source": [
    "#save lr model\n",
    "#pkl_filename = \"/content/drive/MyDrive/Final Project/COVID-fake-news-detection/model/saved models/pickle_lr_clf.pkl\"\n",
    "#with open(pkl_filename, 'wb') as file:\n",
    "    #pickle.dump(lr_pipeline, file)"
   ]
  },
  {
   "cell_type": "markdown",
   "metadata": {
    "id": "HcYMm6vZB7-V"
   },
   "source": [
    "## #3 Extreme Gradient Boost"
   ]
  },
  {
   "cell_type": "code",
   "execution_count": 12,
   "metadata": {
    "executionInfo": {
     "elapsed": 10975,
     "status": "ok",
     "timestamp": 1651568089485,
     "user": {
      "displayName": "Hannah Schweren",
      "userId": "17418859482307087546"
     },
     "user_tz": -120
    },
    "id": "FeZ9DHPNpNNN"
   },
   "outputs": [],
   "source": [
    "# create XGBoost object \n",
    "xgb_clf = XGBClassifier(max_depth=3, min_child_weight=3, eta = 0.15, n_estimators = 550, subsample=0.85)\n",
    "\n",
    "# create pipeline\n",
    "xgb_pipeline = Pipeline([\n",
    "        ('bow', CountVectorizer(ngram_range=(1, 1))), # count term frequency\n",
    "        ('tfidf', TfidfTransformer()), # downweight words which appear frequently\n",
    "        ('c', xgb_clf) # classifier\n",
    "])\n",
    "\n",
    "# train model \n",
    "fit = xgb_pipeline.fit(X_train,y_train)\n",
    "\n",
    "# make predictions\n",
    "xgb_pred = xgb_pipeline.predict(X_val)\n",
    "\n",
    "#make pred on test\n",
    "xgb_pred_test = xgb_pipeline.predict(X_test)\n"
   ]
  },
  {
   "cell_type": "code",
   "execution_count": 13,
   "metadata": {
    "executionInfo": {
     "elapsed": 206,
     "status": "ok",
     "timestamp": 1651569992998,
     "user": {
      "displayName": "Hannah Schweren",
      "userId": "17418859482307087546"
     },
     "user_tz": -120
    },
    "id": "PsWN6yZNPcVA"
   },
   "outputs": [],
   "source": [
    "#make pred on new data\n",
    "#xgb_pred_new = xgb_pipeline.predict(X_new)\n"
   ]
  },
  {
   "cell_type": "code",
   "execution_count": 14,
   "metadata": {
    "executionInfo": {
     "elapsed": 2,
     "status": "ok",
     "timestamp": 1651561111683,
     "user": {
      "displayName": "Hannah Schweren",
      "userId": "17418859482307087546"
     },
     "user_tz": -120
    },
    "id": "efG0rZB8s_4L"
   },
   "outputs": [],
   "source": [
    "#save xgb model\n",
    "#pkl_filename = \"/content/drive/MyDrive/Final Project/COVID-fake-news-detection/model/saved models/pickle_xgb_clf.pkl\"\n",
    "#with open(pkl_filename, 'wb') as file:\n",
    "    #pickle.dump(xgb_pipeline, file)"
   ]
  },
  {
   "cell_type": "markdown",
   "metadata": {
    "id": "WcYc9QrCB_9j"
   },
   "source": [
    "## #4 Adaptive Boost"
   ]
  },
  {
   "cell_type": "code",
   "execution_count": 15,
   "metadata": {
    "executionInfo": {
     "elapsed": 23441,
     "status": "ok",
     "timestamp": 1651568151460,
     "user": {
      "displayName": "Hannah Schweren",
      "userId": "17418859482307087546"
     },
     "user_tz": -120
    },
    "id": "kKs_IrTSBYQw"
   },
   "outputs": [],
   "source": [
    "# create AdaBoost object\n",
    "ada_clf = AdaBoostClassifier(n_estimators=500, learning_rate = 1.0)\n",
    "\n",
    "# create pipeline\n",
    "ada_pipeline = Pipeline([\n",
    "        ('bow', CountVectorizer(ngram_range=(1, 2))), # count term frequency\n",
    "        ('tfidf', TfidfTransformer()), # downweight words which appear frequently\n",
    "        ('c', ada_clf) # classifier\n",
    "])\n",
    "\n",
    "# train model\n",
    "fit = ada_pipeline.fit(X_train,y_train)\n",
    "\n",
    "# make predictions\n",
    "ada_pred = ada_pipeline.predict(X_val)\n",
    "\n",
    "#make pred on test\n",
    "ada_pred_test = ada_pipeline.predict(X_test)\n"
   ]
  },
  {
   "cell_type": "code",
   "execution_count": 16,
   "metadata": {
    "executionInfo": {
     "elapsed": 774,
     "status": "ok",
     "timestamp": 1651570016911,
     "user": {
      "displayName": "Hannah Schweren",
      "userId": "17418859482307087546"
     },
     "user_tz": -120
    },
    "id": "lcCjPLmOPj6A"
   },
   "outputs": [],
   "source": [
    "#make pred on new data\n",
    "#ada_pred_new = ada_pipeline.predict(X_new)"
   ]
  },
  {
   "cell_type": "code",
   "execution_count": 17,
   "metadata": {
    "executionInfo": {
     "elapsed": 349,
     "status": "ok",
     "timestamp": 1651561110340,
     "user": {
      "displayName": "Hannah Schweren",
      "userId": "17418859482307087546"
     },
     "user_tz": -120
    },
    "id": "6gLYmPU4s3yz"
   },
   "outputs": [],
   "source": [
    "#save ada model\n",
    "#pkl_filename = \"/content/drive/MyDrive/Final Project/COVID-fake-news-detection/model/saved models/pickle_ada_clf.pkl\"\n",
    "#with open(pkl_filename, 'wb') as file:\n",
    "    #pickle.dump(ada_clf, file)"
   ]
  },
  {
   "cell_type": "markdown",
   "metadata": {
    "id": "rcdD5s2tM4mU"
   },
   "source": [
    "## #5 Voting Classifier"
   ]
  },
  {
   "cell_type": "code",
   "execution_count": 18,
   "metadata": {
    "executionInfo": {
     "elapsed": 255,
     "status": "ok",
     "timestamp": 1651568184916,
     "user": {
      "displayName": "Hannah Schweren",
      "userId": "17418859482307087546"
     },
     "user_tz": -120
    },
    "id": "wnr4nCQzIlOz"
   },
   "outputs": [],
   "source": [
    "named_estimators = [ # for each of the individual models\n",
    "    (\"SVM\", svm_pipeline),\n",
    "    (\"Logistic Regression\", lr_pipeline),\n",
    "    (\"XGBoost\", xgb_pipeline),\n",
    "    (\"AdaBoost\", ada_pipeline)\n",
    "]"
   ]
  },
  {
   "cell_type": "code",
   "execution_count": 19,
   "metadata": {
    "colab": {
     "base_uri": "https://localhost:8080/"
    },
    "executionInfo": {
     "elapsed": 90302,
     "status": "ok",
     "timestamp": 1651568318771,
     "user": {
      "displayName": "Hannah Schweren",
      "userId": "17418859482307087546"
     },
     "user_tz": -120
    },
    "id": "3SrkWvL_MJ9o",
    "outputId": "4dfa2896-0738-479c-fd1c-0d9a4aa5f8f0"
   },
   "outputs": [
    {
     "name": "stderr",
     "output_type": "stream",
     "text": [
      "/Users/steve/opt/anaconda3/lib/python3.8/site-packages/sklearn/linear_model/_sag.py:328: ConvergenceWarning: The max_iter was reached which means the coef_ did not converge\n",
      "  warnings.warn(\"The max_iter was reached which means \"\n"
     ]
    }
   ],
   "source": [
    "# voting classifier\n",
    "voting_clf = VotingClassifier(named_estimators, voting = \"soft\") #soft voting (predicts the class label based on the argmax of the sums of the predicted probabilities)\n",
    "\n",
    "# train model\n",
    "voting_clf.fit(X_train,y_train)\n",
    "\n",
    "# make prediction\n",
    "voting_pred = voting_clf.predict(X_val)\n",
    "\n",
    "#make pred test\n",
    "voting_pred_test = voting_clf.predict(X_test)\n"
   ]
  },
  {
   "cell_type": "code",
   "execution_count": 20,
   "metadata": {
    "executionInfo": {
     "elapsed": 1271,
     "status": "ok",
     "timestamp": 1651570043748,
     "user": {
      "displayName": "Hannah Schweren",
      "userId": "17418859482307087546"
     },
     "user_tz": -120
    },
    "id": "WvILkFSfPqBo"
   },
   "outputs": [],
   "source": [
    "#make pred new data\n",
    "#voting_pred_new = voting_clf.predict(X_new)"
   ]
  },
  {
   "cell_type": "code",
   "execution_count": 21,
   "metadata": {
    "executionInfo": {
     "elapsed": 589,
     "status": "ok",
     "timestamp": 1651561107754,
     "user": {
      "displayName": "Hannah Schweren",
      "userId": "17418859482307087546"
     },
     "user_tz": -120
    },
    "id": "l4SsRz8ksH6i"
   },
   "outputs": [],
   "source": [
    "#save ensemble model\n",
    "#pkl_filename = \"/content/drive/MyDrive/Final Project/COVID-fake-news-detection/model/saved models/pickle_voting_clf.pkl\"\n",
    "#with open(pkl_filename, 'wb') as file:\n",
    "    #pickle.dump(voting_pipeline, file)"
   ]
  },
  {
   "cell_type": "markdown",
   "metadata": {
    "id": "gogyysMESVOy"
   },
   "source": [
    "# Evaluation"
   ]
  },
  {
   "cell_type": "code",
   "execution_count": 22,
   "metadata": {
    "executionInfo": {
     "elapsed": 22,
     "status": "ok",
     "timestamp": 1651568318773,
     "user": {
      "displayName": "Hannah Schweren",
      "userId": "17418859482307087546"
     },
     "user_tz": -120
    },
    "id": "HpF-fmjkTY1_"
   },
   "outputs": [],
   "source": [
    "# define print_metrics() function to print results\n",
    "def print_metrics(pred,true):\n",
    "    print(confusion_matrix(true,pred))\n",
    "    print(classification_report(true,pred,))\n",
    "    print(\"Accuracy : \",accuracy_score(pred,true))\n",
    "    print(\"Precison : \",precision_score(pred,true, average = 'weighted'))\n",
    "    print(\"Recall : \",recall_score(pred,true,  average = 'weighted'))\n",
    "    print(\"F1 : \",f1_score(pred,true,  average = 'weighted'))"
   ]
  },
  {
   "cell_type": "code",
   "execution_count": 23,
   "metadata": {
    "executionInfo": {
     "elapsed": 505,
     "status": "ok",
     "timestamp": 1651568319262,
     "user": {
      "displayName": "Hannah Schweren",
      "userId": "17418859482307087546"
     },
     "user_tz": -120
    },
    "id": "7kn6E5WCBA6g"
   },
   "outputs": [],
   "source": [
    "# define plot_confusion_matrix() function to display results\n",
    "def plot_confusion_matrix(cm,\n",
    "                          target_names,\n",
    "                          title='Confusion matrix',\n",
    "                          cmap=None,\n",
    "                          normalize=True):\n",
    "    \"\"\"\n",
    "    given a sklearn confusion matrix (cm), make a nice plot\n",
    "\n",
    "    Arguments\n",
    "    ---------\n",
    "    cm:           confusion matrix from sklearn.metrics.confusion_matrix\n",
    "\n",
    "    target_names: given classification classes such as [0, 1, 2]\n",
    "                  the class names, for example: ['high', 'medium', 'low']\n",
    "\n",
    "    title:        the text to display at the top of the matrix\n",
    "\n",
    "    cmap:         the gradient of the values displayed from matplotlib.pyplot.cm\n",
    "                  see http://matplotlib.org/examples/color/colormaps_reference.html\n",
    "                  plt.get_cmap('jet') or plt.cm.Blues\n",
    "\n",
    "    normalize:    If False, plot the raw numbers\n",
    "                  If True, plot the proportions\n",
    "\n",
    "    Usage\n",
    "    -----\n",
    "    plot_confusion_matrix(cm           = cm,                  # confusion matrix created by\n",
    "                                                              # sklearn.metrics.confusion_matrix\n",
    "                          normalize    = True,                # show proportions\n",
    "                          target_names = y_labels_vals,       # list of names of the classes\n",
    "                          title        = best_estimator_name) # title of graph\n",
    "\n",
    "    Citiation\n",
    "    ---------\n",
    "    http://scikit-learn.org/stable/auto_examples/model_selection/plot_confusion_matrix.html\n",
    "\n",
    "    \"\"\"\n",
    "\n",
    "    accuracy = np.trace(cm) / float(np.sum(cm))\n",
    "    misclass = 1 - accuracy\n",
    "\n",
    "    if cmap is None:\n",
    "        cmap = plt.get_cmap('Blues')\n",
    "\n",
    "    plt.figure(figsize=(5, 4))\n",
    "    plt.imshow(cm, interpolation='nearest', cmap=cmap)\n",
    "    plt.title(title)\n",
    "    plt.colorbar()\n",
    "\n",
    "    if target_names is not None:\n",
    "        tick_marks = np.arange(len(target_names))\n",
    "        plt.xticks(tick_marks, target_names, rotation=45)\n",
    "        plt.yticks(tick_marks, target_names)\n",
    "\n",
    "    if normalize:\n",
    "        cm = cm.astype('float') / cm.sum(axis=1)[:, np.newaxis]\n",
    "\n",
    "\n",
    "    thresh = cm.max() / 1.5 if normalize else cm.max() / 2\n",
    "    for i, j in itertools.product(range(cm.shape[0]), range(cm.shape[1])):\n",
    "        if normalize:\n",
    "            plt.text(j, i, \"{:0.4f}\".format(cm[i, j]),\n",
    "                     horizontalalignment=\"center\",\n",
    "                     color=\"white\" if cm[i, j] > thresh else \"black\")\n",
    "        else:\n",
    "            plt.text(j, i, \"{:,}\".format(cm[i, j]),\n",
    "                     horizontalalignment=\"center\",\n",
    "                     color=\"white\" if cm[i, j] > thresh else \"black\")\n",
    "\n",
    "\n",
    "    plt.tight_layout()\n",
    "    plt.ylabel('True label')\n",
    "    #plt.xlabel('Predicted label\\naccuracy={:0.4f}; misclass={:0.4f}'.format(accuracy, misclass))\n",
    "    plt.xlabel('Predicted label')\n",
    "    plt.show()"
   ]
  },
  {
   "cell_type": "markdown",
   "metadata": {
    "id": "Qio2c88rMKT1"
   },
   "source": [
    "## #1 SVM"
   ]
  },
  {
   "cell_type": "code",
   "execution_count": 24,
   "metadata": {
    "colab": {
     "base_uri": "https://localhost:8080/",
     "height": 572
    },
    "executionInfo": {
     "elapsed": 246,
     "status": "ok",
     "timestamp": 1651568612132,
     "user": {
      "displayName": "Hannah Schweren",
      "userId": "17418859482307087546"
     },
     "user_tz": -120
    },
    "id": "Sn0tNQw5QAmO",
    "outputId": "880c1af4-2c8f-4876-bf2f-97db1f0cd470"
   },
   "outputs": [
    {
     "name": "stdout",
     "output_type": "stream",
     "text": [
      "[[891  57]\n",
      " [ 54 871]]\n",
      "              precision    recall  f1-score   support\n",
      "\n",
      "           0       0.94      0.94      0.94       948\n",
      "           1       0.94      0.94      0.94       925\n",
      "\n",
      "    accuracy                           0.94      1873\n",
      "   macro avg       0.94      0.94      0.94      1873\n",
      "weighted avg       0.94      0.94      0.94      1873\n",
      "\n",
      "Accuracy :  0.9407367859049653\n",
      "Precison :  0.9407395860179927\n",
      "Recall :  0.9407367859049653\n",
      "F1 :  0.9407357722026964\n"
     ]
    },
    {
     "data": {
      "image/png": "[encoded data removed]",
      "text/plain": [
       "<Figure size 360x288 with 2 Axes>"
      ]
     },
     "metadata": {
      "needs_background": "light"
     },
     "output_type": "display_data"
    }
   ],
   "source": [
    "# display results\n",
    "print_metrics(svm_pred, y_val)\n",
    "plot_confusion_matrix(confusion_matrix(y_val,svm_pred),target_names=['fake','real'], normalize = False, \\\n",
    "                      title = 'Confusion matix of SVM on val data')"
   ]
  },
  {
   "cell_type": "code",
   "execution_count": 25,
   "metadata": {
    "colab": {
     "base_uri": "https://localhost:8080/",
     "height": 572
    },
    "executionInfo": {
     "elapsed": 326,
     "status": "ok",
     "timestamp": 1651568320121,
     "user": {
      "displayName": "Hannah Schweren",
      "userId": "17418859482307087546"
     },
     "user_tz": -120
    },
    "id": "07I7hVCJI6mq",
    "outputId": "612479c4-7642-44fb-eeb6-f5a91a1f953b"
   },
   "outputs": [
    {
     "name": "stdout",
     "output_type": "stream",
     "text": [
      "[[883  61]\n",
      " [ 61 843]]\n",
      "              precision    recall  f1-score   support\n",
      "\n",
      "           0       0.94      0.94      0.94       944\n",
      "           1       0.93      0.93      0.93       904\n",
      "\n",
      "    accuracy                           0.93      1848\n",
      "   macro avg       0.93      0.93      0.93      1848\n",
      "weighted avg       0.93      0.93      0.93      1848\n",
      "\n",
      "Accuracy :  0.933982683982684\n",
      "Precison :  0.933982683982684\n",
      "Recall :  0.933982683982684\n",
      "F1 :  0.933982683982684\n"
     ]
    },
    {
     "data": {
      "image/png": "[encoded data removed]",
      "text/plain": [
       "<Figure size 360x288 with 2 Axes>"
      ]
     },
     "metadata": {
      "needs_background": "light"
     },
     "output_type": "display_data"
    }
   ],
   "source": [
    "# display results test data\n",
    "print_metrics(svm_pred_test, y_test)\n",
    "plot_confusion_matrix(confusion_matrix(y_test,svm_pred_test),target_names=['fake','real'], normalize = False, \\\n",
    "                      title = 'Confusion matix of SVM on test data')"
   ]
  },
  {
   "cell_type": "code",
   "execution_count": 26,
   "metadata": {
    "colab": {
     "base_uri": "https://localhost:8080/",
     "height": 572
    },
    "executionInfo": {
     "elapsed": 790,
     "status": "ok",
     "timestamp": 1651569921286,
     "user": {
      "displayName": "Hannah Schweren",
      "userId": "17418859482307087546"
     },
     "user_tz": -120
    },
    "id": "KCGVtCssPFE_",
    "outputId": "9a37ad34-f754-4586-c1b0-a6d6ce1e5295"
   },
   "outputs": [
    {
     "ename": "NameError",
     "evalue": "name 'svm_pred_new' is not defined",
     "output_type": "error",
     "traceback": [
      "\u001b[0;31m---------------------------------------------------------------------------\u001b[0m",
      "\u001b[0;31mNameError\u001b[0m                                 Traceback (most recent call last)",
      "\u001b[0;32m<ipython-input-26-b87788774176>\u001b[0m in \u001b[0;36m<module>\u001b[0;34m\u001b[0m\n\u001b[1;32m      1\u001b[0m \u001b[0;31m# display results new data\u001b[0m\u001b[0;34m\u001b[0m\u001b[0;34m\u001b[0m\u001b[0;34m\u001b[0m\u001b[0m\n\u001b[0;32m----> 2\u001b[0;31m \u001b[0mprint_metrics\u001b[0m\u001b[0;34m(\u001b[0m\u001b[0msvm_pred_new\u001b[0m\u001b[0;34m,\u001b[0m \u001b[0my_new\u001b[0m\u001b[0;34m)\u001b[0m\u001b[0;34m\u001b[0m\u001b[0;34m\u001b[0m\u001b[0m\n\u001b[0m\u001b[1;32m      3\u001b[0m plot_confusion_matrix(confusion_matrix(y_new,svm_pred_new),target_names=['fake','real'], normalize = False, \\\n\u001b[1;32m      4\u001b[0m                       title = 'Confusion matix of SVM on new data')\n",
      "\u001b[0;31mNameError\u001b[0m: name 'svm_pred_new' is not defined"
     ]
    }
   ],
   "source": [
    "# display results new data\n",
    "#print_metrics(svm_pred_new, y_new)\n",
    "#plot_confusion_matrix(confusion_matrix(y_new,svm_pred_new),target_names=['fake','real'], normalize = False, \\\n",
    "#                      title = 'Confusion matix of SVM on new data')"
   ]
  },
  {
   "cell_type": "markdown",
   "metadata": {
    "id": "0_hM1sTVMQei"
   },
   "source": [
    "## #2 Logisitic Regression"
   ]
  },
  {
   "cell_type": "code",
   "execution_count": 27,
   "metadata": {
    "colab": {
     "base_uri": "https://localhost:8080/",
     "height": 572
    },
    "executionInfo": {
     "elapsed": 1005,
     "status": "ok",
     "timestamp": 1651568621479,
     "user": {
      "displayName": "Hannah Schweren",
      "userId": "17418859482307087546"
     },
     "user_tz": -120
    },
    "id": "lFnaDSXDUVJz",
    "outputId": "a331c46a-72ab-4838-b651-96ba1c1ba862"
   },
   "outputs": [
    {
     "name": "stdout",
     "output_type": "stream",
     "text": [
      "[[897  51]\n",
      " [ 62 863]]\n",
      "              precision    recall  f1-score   support\n",
      "\n",
      "           0       0.94      0.95      0.94       948\n",
      "           1       0.94      0.93      0.94       925\n",
      "\n",
      "    accuracy                           0.94      1873\n",
      "   macro avg       0.94      0.94      0.94      1873\n",
      "weighted avg       0.94      0.94      0.94      1873\n",
      "\n",
      "Accuracy :  0.9396689802455953\n",
      "Precison :  0.9397466765325139\n",
      "Recall :  0.9396689802455953\n",
      "F1 :  0.9396754142276613\n"
     ]
    },
    {
     "data": {
      "image/png": "[encoded data removed]",
      "text/plain": [
       "<Figure size 360x288 with 2 Axes>"
      ]
     },
     "metadata": {
      "needs_background": "light"
     },
     "output_type": "display_data"
    }
   ],
   "source": [
    "# display results\n",
    "print_metrics(lr_pred, y_val)\n",
    "plot_confusion_matrix(confusion_matrix(y_val,lr_pred),target_names=['fake','real'], normalize = False, \\\n",
    "                      title = 'Confusion matix of LR on val data')"
   ]
  },
  {
   "cell_type": "code",
   "execution_count": 28,
   "metadata": {
    "colab": {
     "base_uri": "https://localhost:8080/",
     "height": 572
    },
    "executionInfo": {
     "elapsed": 920,
     "status": "ok",
     "timestamp": 1651568417048,
     "user": {
      "displayName": "Hannah Schweren",
      "userId": "17418859482307087546"
     },
     "user_tz": -120
    },
    "id": "7NCvDCEFJJpH",
    "outputId": "cdbfdec9-09a4-478b-97b5-496f479a38d6"
   },
   "outputs": [
    {
     "name": "stdout",
     "output_type": "stream",
     "text": [
      "[[881  63]\n",
      " [ 72 832]]\n",
      "              precision    recall  f1-score   support\n",
      "\n",
      "           0       0.92      0.93      0.93       944\n",
      "           1       0.93      0.92      0.92       904\n",
      "\n",
      "    accuracy                           0.93      1848\n",
      "   macro avg       0.93      0.93      0.93      1848\n",
      "weighted avg       0.93      0.93      0.93      1848\n",
      "\n",
      "Accuracy :  0.926948051948052\n",
      "Precison :  0.9270109191374846\n",
      "Recall :  0.926948051948052\n",
      "F1 :  0.9269574919459335\n"
     ]
    },
    {
     "data": {
      "image/png": "[encoded data removed]",
      "text/plain": [
       "<Figure size 360x288 with 2 Axes>"
      ]
     },
     "metadata": {
      "needs_background": "light"
     },
     "output_type": "display_data"
    }
   ],
   "source": [
    "# display results test data\n",
    "print_metrics(lr_pred_test, y_test)\n",
    "plot_confusion_matrix(confusion_matrix(y_test,lr_pred_test),target_names=['fake','real'], normalize = False, \\\n",
    "                      title = 'Confusion matix of LR on test data')"
   ]
  },
  {
   "cell_type": "code",
   "execution_count": null,
   "metadata": {
    "colab": {
     "base_uri": "https://localhost:8080/",
     "height": 572
    },
    "executionInfo": {
     "elapsed": 678,
     "status": "ok",
     "timestamp": 1651570092821,
     "user": {
      "displayName": "Hannah Schweren",
      "userId": "17418859482307087546"
     },
     "user_tz": -120
    },
    "id": "VTSFoSpWPzx0",
    "outputId": "1b6e7f2b-58cd-4696-aa48-10404645c754"
   },
   "outputs": [],
   "source": [
    "# display results new data\n",
    "#print_metrics(lr_pred_new, y_new)\n",
    "#plot_confusion_matrix(confusion_matrix(y_new,lr_pred_new),target_names=['fake','real'], normalize = False, \\\n",
    "#                      title = 'Confusion matix of LR on new data')"
   ]
  },
  {
   "cell_type": "markdown",
   "metadata": {
    "id": "frfqzpeUMZni"
   },
   "source": [
    "## #3 Extreme Gradient Boost"
   ]
  },
  {
   "cell_type": "code",
   "execution_count": 29,
   "metadata": {
    "colab": {
     "base_uri": "https://localhost:8080/",
     "height": 572
    },
    "executionInfo": {
     "elapsed": 738,
     "status": "ok",
     "timestamp": 1651568625632,
     "user": {
      "displayName": "Hannah Schweren",
      "userId": "17418859482307087546"
     },
     "user_tz": -120
    },
    "id": "w0a8XHEMU8U8",
    "outputId": "5c71df13-1623-459e-f98e-bdc8392f8ebf"
   },
   "outputs": [
    {
     "name": "stdout",
     "output_type": "stream",
     "text": [
      "[[877  71]\n",
      " [ 97 828]]\n",
      "              precision    recall  f1-score   support\n",
      "\n",
      "           0       0.90      0.93      0.91       948\n",
      "           1       0.92      0.90      0.91       925\n",
      "\n",
      "    accuracy                           0.91      1873\n",
      "   macro avg       0.91      0.91      0.91      1873\n",
      "weighted avg       0.91      0.91      0.91      1873\n",
      "\n",
      "Accuracy :  0.9103043246129204\n",
      "Precison :  0.910720357235729\n",
      "Recall :  0.9103043246129204\n",
      "F1 :  0.9103369204932747\n"
     ]
    },
    {
     "data": {
      "image/png": "[encoded data removed]",
      "text/plain": [
       "<Figure size 360x288 with 2 Axes>"
      ]
     },
     "metadata": {
      "needs_background": "light"
     },
     "output_type": "display_data"
    }
   ],
   "source": [
    "# display results\n",
    "print_metrics(xgb_pred, y_val)\n",
    "plot_confusion_matrix(confusion_matrix(y_val, xgb_pred),target_names=['fake','real'], normalize = False, \\\n",
    "                      title = 'Confusion matix of XGB on val data')"
   ]
  },
  {
   "cell_type": "code",
   "execution_count": 30,
   "metadata": {
    "colab": {
     "base_uri": "https://localhost:8080/",
     "height": 572
    },
    "executionInfo": {
     "elapsed": 810,
     "status": "ok",
     "timestamp": 1651568468775,
     "user": {
      "displayName": "Hannah Schweren",
      "userId": "17418859482307087546"
     },
     "user_tz": -120
    },
    "id": "vbDopfdyJoTs",
    "outputId": "0f574c9c-d964-4d95-f89e-aeffb5ddadee"
   },
   "outputs": [
    {
     "name": "stdout",
     "output_type": "stream",
     "text": [
      "[[874  70]\n",
      " [118 786]]\n",
      "              precision    recall  f1-score   support\n",
      "\n",
      "           0       0.88      0.93      0.90       944\n",
      "           1       0.92      0.87      0.89       904\n",
      "\n",
      "    accuracy                           0.90      1848\n",
      "   macro avg       0.90      0.90      0.90      1848\n",
      "weighted avg       0.90      0.90      0.90      1848\n",
      "\n",
      "Accuracy :  0.8982683982683982\n",
      "Precison :  0.8997327731016047\n",
      "Recall :  0.8982683982683982\n",
      "F1 :  0.8983945118242639\n"
     ]
    },
    {
     "data": {
      "image/png": "[encoded data removed]",
      "text/plain": [
       "<Figure size 360x288 with 2 Axes>"
      ]
     },
     "metadata": {
      "needs_background": "light"
     },
     "output_type": "display_data"
    }
   ],
   "source": [
    "# display results on test data\n",
    "print_metrics(xgb_pred_test, y_test)\n",
    "plot_confusion_matrix(confusion_matrix(y_test, xgb_pred_test),target_names=['fake','real'], normalize = False, \\\n",
    "                      title = 'Confusion matix of XGB on test data')"
   ]
  },
  {
   "cell_type": "code",
   "execution_count": null,
   "metadata": {
    "colab": {
     "base_uri": "https://localhost:8080/",
     "height": 572
    },
    "executionInfo": {
     "elapsed": 978,
     "status": "ok",
     "timestamp": 1651570167920,
     "user": {
      "displayName": "Hannah Schweren",
      "userId": "17418859482307087546"
     },
     "user_tz": -120
    },
    "id": "LYlmtmEKQCsy",
    "outputId": "fa22cbf1-2d93-441a-b080-dcd6f27f6103"
   },
   "outputs": [],
   "source": [
    "# display results new data\n",
    "#print_metrics(xgb_pred_new, y_new)\n",
    "#plot_confusion_matrix(confusion_matrix(y_new, xgb_pred_new),target_names=['fake','real'], normalize = False, \\\n",
    "#                      title = 'Confusion matix of XGB on new data')"
   ]
  },
  {
   "cell_type": "markdown",
   "metadata": {
    "id": "WZSeMLEDMfTL"
   },
   "source": [
    "## #4 Adaptive Boost"
   ]
  },
  {
   "cell_type": "code",
   "execution_count": 31,
   "metadata": {
    "colab": {
     "base_uri": "https://localhost:8080/",
     "height": 572
    },
    "executionInfo": {
     "elapsed": 758,
     "status": "ok",
     "timestamp": 1651568646000,
     "user": {
      "displayName": "Hannah Schweren",
      "userId": "17418859482307087546"
     },
     "user_tz": -120
    },
    "id": "BsKRB4AJiAWh",
    "outputId": "7b4cff9f-c080-4da0-b128-d4417c34c632"
   },
   "outputs": [
    {
     "name": "stdout",
     "output_type": "stream",
     "text": [
      "[[833 115]\n",
      " [110 815]]\n",
      "              precision    recall  f1-score   support\n",
      "\n",
      "           0       0.88      0.88      0.88       948\n",
      "           1       0.88      0.88      0.88       925\n",
      "\n",
      "    accuracy                           0.88      1873\n",
      "   macro avg       0.88      0.88      0.88      1873\n",
      "weighted avg       0.88      0.88      0.88      1873\n",
      "\n",
      "Accuracy :  0.8798718633208756\n",
      "Precison :  0.8798782410516783\n",
      "Recall :  0.8798718633208756\n",
      "F1 :  0.8798687811848102\n"
     ]
    },
    {
     "data": {
      "image/png": "[encoded data removed]",
      "text/plain": [
       "<Figure size 360x288 with 2 Axes>"
      ]
     },
     "metadata": {
      "needs_background": "light"
     },
     "output_type": "display_data"
    }
   ],
   "source": [
    "# display results\n",
    "print_metrics(ada_pred,y_val)\n",
    "plot_confusion_matrix(confusion_matrix(y_val,ada_pred),target_names=['fake','real'], normalize = False, \\\n",
    "                      title = 'Confusion matix of Ada on val data')"
   ]
  },
  {
   "cell_type": "code",
   "execution_count": 32,
   "metadata": {
    "colab": {
     "base_uri": "https://localhost:8080/",
     "height": 572
    },
    "executionInfo": {
     "elapsed": 661,
     "status": "ok",
     "timestamp": 1651568506660,
     "user": {
      "displayName": "Hannah Schweren",
      "userId": "17418859482307087546"
     },
     "user_tz": -120
    },
    "id": "H5xxmMOPJx3j",
    "outputId": "254ad071-a7ad-4eaa-96ef-53679043d69e"
   },
   "outputs": [
    {
     "name": "stdout",
     "output_type": "stream",
     "text": [
      "[[826 118]\n",
      " [101 803]]\n",
      "              precision    recall  f1-score   support\n",
      "\n",
      "           0       0.89      0.88      0.88       944\n",
      "           1       0.87      0.89      0.88       904\n",
      "\n",
      "    accuracy                           0.88      1848\n",
      "   macro avg       0.88      0.88      0.88      1848\n",
      "weighted avg       0.88      0.88      0.88      1848\n",
      "\n",
      "Accuracy :  0.8814935064935064\n",
      "Precison :  0.88161561889438\n",
      "Recall :  0.8814935064935064\n",
      "F1 :  0.8814799364184719\n"
     ]
    },
    {
     "data": {
      "image/png": "[encoded data removed]",
      "text/plain": [
       "<Figure size 360x288 with 2 Axes>"
      ]
     },
     "metadata": {
      "needs_background": "light"
     },
     "output_type": "display_data"
    }
   ],
   "source": [
    "# display results on test data\n",
    "print_metrics(ada_pred_test,y_test)\n",
    "plot_confusion_matrix(confusion_matrix(y_test,ada_pred_test),target_names=['fake','real'], normalize = False, \\\n",
    "                      title = 'Confusion matix of Ada on test data')"
   ]
  },
  {
   "cell_type": "code",
   "execution_count": null,
   "metadata": {
    "colab": {
     "base_uri": "https://localhost:8080/",
     "height": 572
    },
    "executionInfo": {
     "elapsed": 1375,
     "status": "ok",
     "timestamp": 1651570203278,
     "user": {
      "displayName": "Hannah Schweren",
      "userId": "17418859482307087546"
     },
     "user_tz": -120
    },
    "id": "7N0ckS7pQPMe",
    "outputId": "3170750f-e0ec-4ec4-9210-5a47b95171f5"
   },
   "outputs": [],
   "source": [
    "# display results new data\n",
    "#print_metrics(ada_pred_new,y_new)\n",
    "#plot_confusion_matrix(confusion_matrix(y_new,ada_pred_new),target_names=['fake','real'], normalize = False, \\\n",
    "#                      title = 'Confusion matix of Ada on new data')"
   ]
  },
  {
   "cell_type": "markdown",
   "metadata": {
    "id": "1paYU83BNAnz"
   },
   "source": [
    "## #5 Voting Classifier"
   ]
  },
  {
   "cell_type": "code",
   "execution_count": 33,
   "metadata": {
    "colab": {
     "base_uri": "https://localhost:8080/",
     "height": 572
    },
    "executionInfo": {
     "elapsed": 521,
     "status": "ok",
     "timestamp": 1651568662820,
     "user": {
      "displayName": "Hannah Schweren",
      "userId": "17418859482307087546"
     },
     "user_tz": -120
    },
    "id": "pWKteqEiRXFP",
    "outputId": "471d6db3-f8ff-4e77-c6e2-55544ca085be"
   },
   "outputs": [
    {
     "name": "stdout",
     "output_type": "stream",
     "text": [
      "[[893  55]\n",
      " [ 64 861]]\n",
      "              precision    recall  f1-score   support\n",
      "\n",
      "           0       0.93      0.94      0.94       948\n",
      "           1       0.94      0.93      0.94       925\n",
      "\n",
      "    accuracy                           0.94      1873\n",
      "   macro avg       0.94      0.94      0.94      1873\n",
      "weighted avg       0.94      0.94      0.94      1873\n",
      "\n",
      "Accuracy :  0.9364655632674853\n",
      "Precison :  0.9365192476262513\n",
      "Recall :  0.9364655632674853\n",
      "F1 :  0.9364707806527016\n"
     ]
    },
    {
     "data": {
      "image/png": "[encoded data removed]",
      "text/plain": [
       "<Figure size 360x288 with 2 Axes>"
      ]
     },
     "metadata": {
      "needs_background": "light"
     },
     "output_type": "display_data"
    }
   ],
   "source": [
    "# display results\n",
    "print_metrics(voting_pred,y_val)\n",
    "plot_confusion_matrix(confusion_matrix(y_val,voting_pred),target_names=['fake','real'], normalize = False, \\\n",
    "                      title = 'Confusion matix of Ensemble on val data')"
   ]
  },
  {
   "cell_type": "code",
   "execution_count": 34,
   "metadata": {
    "colab": {
     "base_uri": "https://localhost:8080/",
     "height": 572
    },
    "executionInfo": {
     "elapsed": 663,
     "status": "ok",
     "timestamp": 1651568579390,
     "user": {
      "displayName": "Hannah Schweren",
      "userId": "17418859482307087546"
     },
     "user_tz": -120
    },
    "id": "hoxgth0fJ5ww",
    "outputId": "ab00043c-9968-49fa-b495-8eeb094e5d47"
   },
   "outputs": [
    {
     "name": "stdout",
     "output_type": "stream",
     "text": [
      "[[881  63]\n",
      " [ 72 832]]\n",
      "              precision    recall  f1-score   support\n",
      "\n",
      "           0       0.92      0.93      0.93       944\n",
      "           1       0.93      0.92      0.92       904\n",
      "\n",
      "    accuracy                           0.93      1848\n",
      "   macro avg       0.93      0.93      0.93      1848\n",
      "weighted avg       0.93      0.93      0.93      1848\n",
      "\n",
      "Accuracy :  0.926948051948052\n",
      "Precison :  0.9270109191374846\n",
      "Recall :  0.926948051948052\n",
      "F1 :  0.9269574919459335\n"
     ]
    },
    {
     "data": {
      "image/png": "[encoded data removed]",
      "text/plain": [
       "<Figure size 360x288 with 2 Axes>"
      ]
     },
     "metadata": {
      "needs_background": "light"
     },
     "output_type": "display_data"
    }
   ],
   "source": [
    "# display results\n",
    "print_metrics(voting_pred_test,y_test)\n",
    "plot_confusion_matrix(confusion_matrix(y_test,voting_pred_test),target_names=['fake','real'], normalize = False, \\\n",
    "                      title = 'Confusion matix of Ensemble on test data')"
   ]
  },
  {
   "cell_type": "code",
   "execution_count": null,
   "metadata": {
    "colab": {
     "base_uri": "https://localhost:8080/",
     "height": 572
    },
    "executionInfo": {
     "elapsed": 1108,
     "status": "ok",
     "timestamp": 1651570243945,
     "user": {
      "displayName": "Hannah Schweren",
      "userId": "17418859482307087546"
     },
     "user_tz": -120
    },
    "id": "pcWq7ZTIQY2N",
    "outputId": "9f9edc87-ee5e-48ce-9c59-0d073620a9fb"
   },
   "outputs": [],
   "source": [
    "# display results new data\n",
    "#print_metrics(voting_pred_new,y_new)\n",
    "#plot_confusion_matrix(confusion_matrix(y_new,voting_pred_new),target_names=['fake','real'], normalize = False, \\\n",
    "#                      title = 'Confusion matix of Ensemble on new data')"
   ]
  },
  {
   "cell_type": "markdown",
   "metadata": {
    "id": "BO60WIMcMiNO"
   },
   "source": [
    "# Error Analysis"
   ]
  },
  {
   "cell_type": "code",
   "execution_count": 36,
   "metadata": {},
   "outputs": [
    {
     "data": {
      "text/plain": [
       "1873"
      ]
     },
     "execution_count": 36,
     "metadata": {},
     "output_type": "execute_result"
    }
   ],
   "source": [
    "len(y_val)"
   ]
  },
  {
   "cell_type": "code",
   "execution_count": 37,
   "metadata": {},
   "outputs": [
    {
     "data": {
      "text/plain": [
       "1873"
      ]
     },
     "execution_count": 37,
     "metadata": {},
     "output_type": "execute_result"
    }
   ],
   "source": [
    "len(svm_pred)"
   ]
  },
  {
   "cell_type": "code",
   "execution_count": 38,
   "metadata": {},
   "outputs": [
    {
     "data": {
      "text/plain": [
       "2140"
      ]
     },
     "execution_count": 38,
     "metadata": {},
     "output_type": "execute_result"
    }
   ],
   "source": [
    "len(val)"
   ]
  },
  {
   "cell_type": "code",
   "execution_count": 40,
   "metadata": {
    "id": "XHONng5cDZRS",
    "outputId": "450addd8-5a77-45a2-e8fd-1db5254f72f1"
   },
   "outputs": [
    {
     "name": "stdout",
     "output_type": "stream",
     "text": [
      "119 tweets have consistently been misclassified by all of our models.\n",
      "That's about 10.0% of tweets.\n"
     ]
    },
    {
     "data": {
      "text/plain": [
       "1     11 13 people diamond princess cruise ship inti...\n",
       "10    still fly friendly sky without fear covid airl...\n",
       "13    tomorrow april 6 pas 10000 coronavirus death p...\n",
       "17    gov andrew cuomo simply saying share 20 percen...\n",
       "55    india 3 covid19vaccine trial underway dcgi per...\n",
       "Name: tweet, dtype: object"
      ]
     },
     "execution_count": 40,
     "metadata": {},
     "output_type": "execute_result"
    }
   ],
   "source": [
    "# error analysis, to compare the false classifications of the different models\n",
    "false_pred_svm = X_val[(y_val != svm_pred)]\n",
    "false_pred_xgb = X_val[(y_val != xgb_pred)]\n",
    "false_pred_lr = X_val[(y_val != lr_pred)]\n",
    "false_pred_ada = X_val[(y_val != ada_pred)]\n",
    "false_pred_ensemble = X_val[(y_val != voting_pred)]\n",
    "\n",
    "# compile common mistakes\n",
    "common_mistakes_df = false_pred_svm = false_pred_gb = false_pred_lr = false_pred_xg = false_pred_ada = false_pred_ensemble\n",
    "\n",
    "# inspect df\n",
    "print(f\"{len(common_mistakes_df)} tweets have consistently been misclassified by all of our models.\\nThat's about {100*round(len(common_mistakes_df)/len(y_val),1)}% of tweets.\")\n",
    "common_mistakes_df.head()"
   ]
  },
  {
   "cell_type": "code",
   "execution_count": null,
   "metadata": {
    "id": "aJ5GX9khLilA",
    "outputId": "2eda6c56-f27e-41da-ba64-3f4558d4767d"
   },
   "outputs": [],
   "source": [
    "# save 'common_mistakese' as .csv\n",
    "common_mistakes_df = pd.merge(false_pred_svm, false_pred_ada, on=['tweet'], how='inner')\n",
    "print(common_mistakes_df)"
   ]
  },
  {
   "cell_type": "code",
   "execution_count": null,
   "metadata": {
    "id": "J-a1QA9WM1sP"
   },
   "outputs": [],
   "source": [
    "# mount drive to save data\n",
    "from google.colab import drive\n",
    "drive.mount('drive')"
   ]
  },
  {
   "cell_type": "code",
   "execution_count": null,
   "metadata": {
    "id": "Mt3LqAm0pUoD"
   },
   "outputs": [],
   "source": [
    "# save to Google Drive\n",
    "common_mistakes.to_csv('/content/drive/MyDrive/Final Project/COVID-fake-news-detection/model/error_analysis/common_mistakes.csv', encoding='utf-8')"
   ]
  }
 ],
 "metadata": {
  "accelerator": "GPU",
  "colab": {
   "collapsed_sections": [],
   "name": "fine-tuned-model-no-tweet2vec.ipynb",
   "provenance": []
  },
  "kernelspec": {
   "display_name": "Python 3",
   "language": "python",
   "name": "python3"
  },
  "language_info": {
   "codemirror_mode": {
    "name": "ipython",
    "version": 3
   },
   "file_extension": ".py",
   "mimetype": "text/x-python",
   "name": "python",
   "nbconvert_exporter": "python",
   "pygments_lexer": "ipython3",
   "version": "3.8.8"
  }
 },
 "nbformat": 4,
 "nbformat_minor": 1
}
