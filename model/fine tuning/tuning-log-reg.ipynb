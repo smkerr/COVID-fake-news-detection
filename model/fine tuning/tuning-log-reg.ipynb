{
  "nbformat": 4,
  "nbformat_minor": 0,
  "metadata": {
    "colab": {
      "name": "tuning-log-reg.ipynb",
      "provenance": [],
      "collapsed_sections": [],
      "authorship_tag": "ABX9TyPMuJAtsUJg7aZaHDCA7MZ1"
    },
    "kernelspec": {
      "name": "python3",
      "display_name": "Python 3"
    },
    "language_info": {
      "name": "python"
    }
  },
  "cells": [
    {
      "cell_type": "markdown",
      "source": [
        "# Hyperparameter Tuning"
      ],
      "metadata": {
        "id": "4PwFfaBvnZF-"
      }
    },
    {
      "cell_type": "markdown",
      "source": [
        "## Setup"
      ],
      "metadata": {
        "id": "GUp2B-OxvOOP"
      }
    },
    {
      "cell_type": "code",
      "execution_count": 11,
      "metadata": {
        "id": "CP2WjObTnUMM"
      },
      "outputs": [],
      "source": [
        "# import depedencies\n",
        "import pandas as pd \n",
        "import numpy as np\n",
        "from sklearn import model_selection\n",
        "from sklearn.linear_model import LogisticRegression\n",
        "from sklearn.metrics import confusion_matrix, classification_report, accuracy_score, precision_score, recall_score, f1_score\n",
        "from sklearn.feature_extraction.text import CountVectorizer, TfidfTransformer\n",
        "import matplotlib.pyplot as plt \n",
        "import itertools"
      ]
    },
    {
      "cell_type": "code",
      "source": [
        "# load & clean data \n",
        "train = pd.read_csv('https://raw.githubusercontent.com/smkerr/COVID-fake-news-detection/main/data/Constraint_Train.csv', header=0)\n",
        "train_clean = train[train[\"tweet\"].map(len) <= 280].drop_duplicates() # drop posts longer than 280 characters & drop duplicates\n",
        "X_train, y_train = train_clean[\"tweet\"], train_clean[\"label\"]\n",
        "\n",
        "\n",
        "val = pd.read_csv('https://raw.githubusercontent.com/smkerr/COVID-fake-news-detection/main/data/Constraint_Val.csv', header=0)\n",
        "val_clean = val[val[\"tweet\"].map(len) <= 280].drop_duplicates()  # drop posts longer than 280 characters & drop duplicates\n",
        "X_val, y_val = val_clean[\"tweet\"], val_clean[\"label\"]"
      ],
      "metadata": {
        "id": "ktBa4wVIqoIN"
      },
      "execution_count": 2,
      "outputs": []
    },
    {
      "cell_type": "code",
      "source": [
        "# Compare df size before vs. after \n",
        "print(\"Train set\\n---------\", f\"\\nbefore: {train.shape[0]}\", f\"\\nafter: {X_train.shape[0]}\", f\"\\nWe lost {train.shape[0]-X_train.shape[0]} tweets or {round(100*(train.shape[0]-X_train.shape[0])/train.shape[0],1)}% of observations\\n\")\n",
        "print(\"Validation set\\n--------------\", f\"\\nbefore:\", val.shape[0],\"\\nafter:\", X_val.shape[0], f\"\\nWe lost {val.shape[0]-X_val.shape[0]} tweets or {round(100*(val.shape[0]-X_val.shape[0])/val.shape[0],1)}% of observations\\n\")"
      ],
      "metadata": {
        "id": "Z8KZQl0JrXUP"
      },
      "execution_count": null,
      "outputs": []
    },
    {
      "cell_type": "markdown",
      "source": [
        "# Pre-Processing"
      ],
      "metadata": {
        "id": "CBobXic98hUT"
      }
    },
    {
      "cell_type": "code",
      "source": [
        "# Import label encoder\n",
        "from sklearn import preprocessing\n",
        " \n",
        "# label_encoder object knows how to understand word labels.\n",
        "label_encoder = preprocessing.LabelEncoder()\n",
        "\n",
        "# Encode labels in column 'label'.\n",
        "y_train = label_encoder.fit_transform(y_train)\n",
        "y_val = label_encoder.fit_transform(y_val)\n",
        "#y_test = label_encoder.fit_transform(y_test)"
      ],
      "metadata": {
        "id": "7rUfnUZj8e4Y"
      },
      "execution_count": 3,
      "outputs": []
    },
    {
      "cell_type": "code",
      "source": [
        "import nltk \n",
        "import re\n",
        "from nltk.stem import WordNetLemmatizer\n",
        "lemmatizer = WordNetLemmatizer()\n",
        "nltk.download('wordnet')\n",
        "\n",
        "# create stop word list\n",
        "import spacy\n",
        "from spacy.lang.en.stop_words import STOP_WORDS\n",
        "stoplist = list(STOP_WORDS)\n",
        "\n",
        "# create CleanText() function\n",
        "def CleanText(string):\n",
        "    text = string.lower() # lowercase\n",
        "    #text = text.split() #  splits into a list of words\n",
        "    #text = \" \".join(text) # joins the list of words\n",
        "    # .split() + .join() cancel each other out -- consider removing?\n",
        "    text = re.sub(r\"http(\\S)+\",' ',text) # remove URLs   \n",
        "    text = re.sub(r\"www(\\S)+\",' ',text) # remove URLs\n",
        "    text = re.sub(r\"&\",' and ',text) # replace & with ' and '\n",
        "    text = text.replace('&amp',' ') # replace &amp with ' '\n",
        "    text = re.sub(r\"[^0-9a-zA-Z]+\",' ',text) # remove non-alphanumeric characters\n",
        "    text = text.split() # splits into a list of words\n",
        "    text = [w for w in text if not w in stoplist] # remove stop words\n",
        "    text = [lemmatizer.lemmatize(w) for w in text] # lemmatization\n",
        "    text = \" \".join(text) # joins the list of words\n",
        "    return text\n",
        "\n",
        "# apply CleanText() function to all tweets \n",
        "X_train = X_train.map(lambda x: CleanText(x))\n",
        "X_val = X_val.map(lambda x: CleanText(x))"
      ],
      "metadata": {
        "colab": {
          "base_uri": "https://localhost:8080/"
        },
        "id": "ZmBM_WEOLlkH",
        "outputId": "213cbf54-f55a-4adc-d8f3-5e20a2af34ae"
      },
      "execution_count": 5,
      "outputs": [
        {
          "output_type": "stream",
          "name": "stdout",
          "text": [
            "[nltk_data] Downloading package wordnet to /root/nltk_data...\n",
            "[nltk_data]   Package wordnet is already up-to-date!\n"
          ]
        }
      ]
    },
    {
      "cell_type": "markdown",
      "source": [
        "# Feature Extraction"
      ],
      "metadata": {
        "id": "lRsrVBhIwpfe"
      }
    },
    {
      "cell_type": "markdown",
      "source": [
        "## Bag of Words"
      ],
      "metadata": {
        "id": "YgR8DCDRws5O"
      }
    },
    {
      "cell_type": "code",
      "source": [
        "# count vectorizer\n",
        "cv = CountVectorizer(ngram_range=(1, 2)) # count term frequency\n",
        "\n",
        "# fit and transform train data to count vectorizer\n",
        "cv.fit(X_train.values)\n",
        "cv_train = cv.transform(X_train.values)\n",
        "\n",
        "# fit and transform validation data to counter vectorizer\n",
        "cv_val = cv.transform(X_val.values)"
      ],
      "metadata": {
        "id": "8yS0vyr3xGYZ"
      },
      "execution_count": 7,
      "outputs": []
    },
    {
      "cell_type": "markdown",
      "source": [
        "## TF-IDF"
      ],
      "metadata": {
        "id": "82rsQ4Zxwu_A"
      }
    },
    {
      "cell_type": "code",
      "source": [
        "# TF-IDF\n",
        "tfidf = TfidfTransformer()\n",
        "\n",
        "# fit the CountVector to TF-IDF transformer\n",
        "tfidf.fit(cv_train)\n",
        "tfidf_train = tfidf.transform(cv_train)\n",
        "\n",
        "# do the same for the validation set\n",
        "tfidf.fit(cv_val)\n",
        "tfidf_val = tfidf.transform(cv_val)"
      ],
      "metadata": {
        "id": "r0q76x7UxKSp"
      },
      "execution_count": 8,
      "outputs": []
    },
    {
      "cell_type": "markdown",
      "source": [
        "## Logistic Regression"
      ],
      "metadata": {
        "id": "p_tn-NUGnc-n"
      }
    },
    {
      "cell_type": "code",
      "source": [
        "from sklearn.pipeline import Pipeline\n",
        "from sklearn.model_selection import GridSearchCV\n",
        "from sklearn.metrics import f1_score\n",
        "\n",
        "# create logistic regression object\n",
        "log_reg = LogisticRegression()\n",
        "\n",
        "# create list of parameters\n",
        "param_grid = {\n",
        "    'C': [0.1, 1, 10],\n",
        "    'penalty': ['l1', 'l2', 'elasticnet', 'none'],\n",
        "    'solver': ['newton-cg', 'lbfgs', 'liblinear', 'sag', 'saga'],\n",
        "    'max_iter' : [100, 1000]\n",
        "}\n",
        "\n",
        "grid = GridSearchCV(log_reg, param_grid, cv=5, scoring='f1')\n",
        "\n",
        "grid.fit(tfidf_train,y_train)\n",
        "mean_score = grid.cv_results_[\"mean_test_score\"][grid.best_index_]\n",
        "print(f\"Best parameters: {grid.best_params_}\")\n",
        "print(f\"Mean CV score: {mean_score: .6f}\")\n",
        "#print(f\"Standard deviation of CV score: {std_test_score: .6f}\")"
      ],
      "metadata": {
        "id": "fkbs4nVU6ZOK"
      },
      "execution_count": null,
      "outputs": []
    },
    {
      "cell_type": "code",
      "source": [
        "# create logistic regression object\n",
        "log_reg = LogisticRegression(max_iter=1000, penalty='none', solver='saga')\n",
        "\n",
        "# create pipeline\n",
        "pipeline = Pipeline([\n",
        "        ('count', CountVectorizer(ngram_range=(1, 2))), # count term frequency\n",
        "        ('tfidf', TfidfTransformer()), # downweight words which appear frequently\n",
        "        ('c', log_reg) # classifier\n",
        "    ])\n",
        "\n",
        "# train model\n",
        "fit = pipeline.fit(X_train,y_train)\n",
        "print('Logistic Regression')\n",
        "print('val:')\n",
        "\n",
        "# make predictions\n",
        "pred = pipeline.predict(X_val) "
      ],
      "metadata": {
        "colab": {
          "base_uri": "https://localhost:8080/"
        },
        "id": "65wEzTAl4xPK",
        "outputId": "680df7f4-2283-45a5-93f8-4056ec574260"
      },
      "execution_count": 12,
      "outputs": [
        {
          "output_type": "stream",
          "name": "stdout",
          "text": [
            "Logistic Regression\n",
            "val:\n"
          ]
        },
        {
          "output_type": "stream",
          "name": "stderr",
          "text": [
            "/usr/local/lib/python3.7/dist-packages/sklearn/linear_model/_sag.py:354: ConvergenceWarning: The max_iter was reached which means the coef_ did not converge\n",
            "  ConvergenceWarning,\n"
          ]
        }
      ]
    },
    {
      "cell_type": "code",
      "source": [
        "# define plot_confusion_matrix() function to display results\n",
        "def plot_confusion_matrix(cm,\n",
        "                          target_names,\n",
        "                          title='Confusion matrix',\n",
        "                          cmap=None,\n",
        "                          normalize=True):\n",
        "    \"\"\"\n",
        "    given a sklearn confusion matrix (cm), make a nice plot\n",
        "\n",
        "    Arguments\n",
        "    ---------\n",
        "    cm:           confusion matrix from sklearn.metrics.confusion_matrix\n",
        "\n",
        "    target_names: given classification classes such as [0, 1, 2]\n",
        "                  the class names, for example: ['high', 'medium', 'low']\n",
        "\n",
        "    title:        the text to display at the top of the matrix\n",
        "\n",
        "    cmap:         the gradient of the values displayed from matplotlib.pyplot.cm\n",
        "                  see http://matplotlib.org/examples/color/colormaps_reference.html\n",
        "                  plt.get_cmap('jet') or plt.cm.Blues\n",
        "\n",
        "    normalize:    If False, plot the raw numbers\n",
        "                  If True, plot the proportions\n",
        "\n",
        "    Usage\n",
        "    -----\n",
        "    plot_confusion_matrix(cm           = cm,                  # confusion matrix created by\n",
        "                                                              # sklearn.metrics.confusion_matrix\n",
        "                          normalize    = True,                # show proportions\n",
        "                          target_names = y_labels_vals,       # list of names of the classes\n",
        "                          title        = best_estimator_name) # title of graph\n",
        "\n",
        "    Citiation\n",
        "    ---------\n",
        "    http://scikit-learn.org/stable/auto_examples/model_selection/plot_confusion_matrix.html\n",
        "\n",
        "    \"\"\"\n",
        "\n",
        "    accuracy = np.trace(cm) / float(np.sum(cm))\n",
        "    misclass = 1 - accuracy\n",
        "\n",
        "    if cmap is None:\n",
        "        cmap = plt.get_cmap('Blues')\n",
        "\n",
        "    plt.figure(figsize=(5, 4))\n",
        "    plt.imshow(cm, interpolation='nearest', cmap=cmap)\n",
        "    plt.title(title)\n",
        "    plt.colorbar()\n",
        "\n",
        "    if target_names is not None:\n",
        "        tick_marks = np.arange(len(target_names))\n",
        "        plt.xticks(tick_marks, target_names, rotation=45)\n",
        "        plt.yticks(tick_marks, target_names)\n",
        "\n",
        "    if normalize:\n",
        "        cm = cm.astype('float') / cm.sum(axis=1)[:, np.newaxis]\n",
        "\n",
        "\n",
        "    thresh = cm.max() / 1.5 if normalize else cm.max() / 2\n",
        "    for i, j in itertools.product(range(cm.shape[0]), range(cm.shape[1])):\n",
        "        if normalize:\n",
        "            plt.text(j, i, \"{:0.4f}\".format(cm[i, j]),\n",
        "                     horizontalalignment=\"center\",\n",
        "                     color=\"white\" if cm[i, j] > thresh else \"black\")\n",
        "        else:\n",
        "            plt.text(j, i, \"{:,}\".format(cm[i, j]),\n",
        "                     horizontalalignment=\"center\",\n",
        "                     color=\"white\" if cm[i, j] > thresh else \"black\")\n",
        "\n",
        "\n",
        "    plt.tight_layout()\n",
        "    plt.ylabel('True label')\n",
        "    #plt.xlabel('Predicted label\\naccuracy={:0.4f}; misclass={:0.4f}'.format(accuracy, misclass))\n",
        "    plt.xlabel('Predicted label')\n",
        "    plt.show()"
      ],
      "metadata": {
        "id": "KQX_MtHMFo5a"
      },
      "execution_count": 13,
      "outputs": []
    },
    {
      "cell_type": "code",
      "source": [
        "# define print_metrics() function to print results\n",
        "def print_metrics(pred,true):\n",
        "    print(confusion_matrix(true,pred))\n",
        "    print(classification_report(true,pred,))\n",
        "    print(\"Accuracy : \",accuracy_score(pred,true))\n",
        "    print(\"Precison : \",precision_score(pred,true, average = 'weighted'))\n",
        "    print(\"Recall : \",recall_score(pred,true,  average = 'weighted'))\n",
        "    print(\"F1 : \",f1_score(pred,true,  average = 'weighted'))"
      ],
      "metadata": {
        "id": "yPbK6WILFqpA"
      },
      "execution_count": 14,
      "outputs": []
    },
    {
      "cell_type": "code",
      "source": [
        "# display results\n",
        "print_metrics(pred,y_val)\n",
        "plot_confusion_matrix(confusion_matrix(y_val,pred),target_names=['fake','real'], normalize = False, \\\n",
        "                      title = 'Confusion matix of Logistic Regression on val data')"
      ],
      "metadata": {
        "colab": {
          "base_uri": "https://localhost:8080/",
          "height": 579
        },
        "id": "WULQOmeKMs8j",
        "outputId": "9c96e2b0-700b-417f-c55c-7a42b3b7c1c5"
      },
      "execution_count": 15,
      "outputs": [
        {
          "output_type": "stream",
          "name": "stdout",
          "text": [
            "[[895  53]\n",
            " [ 66 859]]\n",
            "              precision    recall  f1-score   support\n",
            "\n",
            "           0       0.93      0.94      0.94       948\n",
            "           1       0.94      0.93      0.94       925\n",
            "\n",
            "    accuracy                           0.94      1873\n",
            "   macro avg       0.94      0.94      0.94      1873\n",
            "weighted avg       0.94      0.94      0.94      1873\n",
            "\n",
            "Accuracy :  0.9364655632674853\n",
            "Precison :  0.9365727572443259\n",
            "Recall :  0.9364655632674853\n",
            "F1 :  0.9364740421760592\n"
          ]
        },
        {
          "output_type": "display_data",
          "data": {
            "text/plain": [
              "<Figure size 360x288 with 2 Axes>"
            ],
            "image/png": "[encoded data removed]"
          },
          "metadata": {
            "needs_background": "light"
          }
        }
      ]
    }
  ]
}